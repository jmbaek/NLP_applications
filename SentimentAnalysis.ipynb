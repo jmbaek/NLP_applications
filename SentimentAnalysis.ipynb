{
 "cells": [
  {
   "cell_type": "code",
   "execution_count": 8,
   "metadata": {
    "collapsed": true,
    "jupyter": {
     "outputs_hidden": true
    },
    "tags": []
   },
   "outputs": [
    {
     "name": "stdout",
     "output_type": "stream",
     "text": [
      "Defaulting to user installation because normal site-packages is not writeable\n",
      "Looking in indexes: http://rtprepo.na.seeds.basf.net/pypiserver, https://pypi.python.org/simple\n",
      "Collecting kaggle\n",
      "  Downloading kaggle-1.5.12.tar.gz (58 kB)\n",
      "\u001b[2K     \u001b[90m━━━━━━━━━━━━━━━━━━━━━━━━━━━━━━━━━━━━━━━\u001b[0m \u001b[32m59.0/59.0 KB\u001b[0m \u001b[31m414.1 kB/s\u001b[0m eta \u001b[36m0:00:00\u001b[0ma \u001b[36m0:00:01\u001b[0m\n",
      "\u001b[?25h  Preparing metadata (setup.py) ... \u001b[?25ldone\n",
      "\u001b[?25hRequirement already satisfied: six>=1.10 in /home/baekjo/.local/lib/python3.8/site-packages (from kaggle) (1.12.0)\n",
      "Requirement already satisfied: certifi in /gpfs/rtp/biogrid/tools/eb/software/Python/3.8.6-GCCcore-10.2.0/lib/python3.8/site-packages (from kaggle) (2020.6.20)\n",
      "Requirement already satisfied: python-dateutil in /gpfs/rtp/biogrid/tools/eb/software/Python/3.8.6-GCCcore-10.2.0/lib/python3.8/site-packages (from kaggle) (2.8.2)\n",
      "Requirement already satisfied: requests in /home/baekjo/.local/lib/python3.8/site-packages (from kaggle) (2.21.0)\n",
      "Requirement already satisfied: tqdm in /gpfs/rtp/biogrid/tools/eb/software/SoS/0.22.5-foss-2020b/lib/python3.8/site-packages (from kaggle) (4.59.0)\n",
      "Collecting python-slugify\n",
      "  Downloading python_slugify-6.1.1-py2.py3-none-any.whl (9.1 kB)\n",
      "Requirement already satisfied: urllib3 in /home/baekjo/.local/lib/python3.8/site-packages (from kaggle) (1.24.3)\n",
      "Collecting text-unidecode>=1.3\n",
      "  Downloading text_unidecode-1.3-py2.py3-none-any.whl (78 kB)\n",
      "\u001b[2K     \u001b[90m━━━━━━━━━━━━━━━━━━━━━━━━━━━━━━━━━━━━━━━━\u001b[0m \u001b[32m78.2/78.2 KB\u001b[0m \u001b[31m1.2 MB/s\u001b[0m eta \u001b[36m0:00:00\u001b[0mta \u001b[36m0:00:01\u001b[0m\n",
      "\u001b[?25hRequirement already satisfied: idna<2.9,>=2.5 in /home/baekjo/.local/lib/python3.8/site-packages (from requests->kaggle) (2.8)\n",
      "Requirement already satisfied: chardet<3.1.0,>=3.0.2 in /gpfs/rtp/biogrid/tools/eb/software/Python/3.8.6-GCCcore-10.2.0/lib/python3.8/site-packages (from requests->kaggle) (3.0.4)\n",
      "Building wheels for collected packages: kaggle\n",
      "  Building wheel for kaggle (setup.py) ... \u001b[?25ldone\n",
      "\u001b[?25h  Created wheel for kaggle: filename=kaggle-1.5.12-py3-none-any.whl size=73050 sha256=45589f1578002c4faf0b6b83868e4eb175606a3431d7efbb5be5ae2e1347f560\n",
      "  Stored in directory: /home/baekjo/.cache/pip/wheels/29/da/11/144cc25aebdaeb4931b231e25fd34b394e6a5725cbb2f50106\n",
      "Successfully built kaggle\n",
      "Installing collected packages: text-unidecode, python-slugify, kaggle\n",
      "\u001b[33m  WARNING: The script kaggle is installed in '/home/baekjo/.local/bin' which is not on PATH.\n",
      "  Consider adding this directory to PATH or, if you prefer to suppress this warning, use --no-warn-script-location.\u001b[0m\u001b[33m\n",
      "\u001b[0mSuccessfully installed kaggle-1.5.12 python-slugify-6.1.1 text-unidecode-1.3\n"
     ]
    }
   ],
   "source": [
    "!pip install kaggle\n",
    "!pip install tensorflow\n",
    "!pip install transformers"
   ]
  },
  {
   "cell_type": "code",
   "execution_count": 10,
   "metadata": {
    "collapsed": true,
    "jupyter": {
     "outputs_hidden": true
    },
    "tags": []
   },
   "outputs": [
    {
     "name": "stderr",
     "output_type": "stream",
     "text": [
      "2022-03-27 12:00:20,503 WARNING Retrying (Retry(total=2, connect=None, read=None, redirect=None, status=None)) after connection broken by 'NewConnectionError('<urllib3.connection.VerifiedHTTPSConnection object at 0x7fe1f8d10be0>: Failed to establish a new connection: [Errno -2] Name or service not known')': /api/v1/competitions/data/download/sentiment-analysis-on-movie-reviews/train.tsv.zip\n",
      "2022-03-27 12:00:21,739 WARNING Retrying (Retry(total=1, connect=None, read=None, redirect=None, status=None)) after connection broken by 'NewConnectionError('<urllib3.connection.VerifiedHTTPSConnection object at 0x7fe1f8484280>: Failed to establish a new connection: [Errno -2] Name or service not known')': /api/v1/competitions/data/download/sentiment-analysis-on-movie-reviews/train.tsv.zip\n",
      "2022-03-27 12:00:21,999 WARNING Retrying (Retry(total=0, connect=None, read=None, redirect=None, status=None)) after connection broken by 'NewConnectionError('<urllib3.connection.VerifiedHTTPSConnection object at 0x7fe1f8484130>: Failed to establish a new connection: [Errno -2] Name or service not known')': /api/v1/competitions/data/download/sentiment-analysis-on-movie-reviews/train.tsv.zip\n"
     ]
    },
    {
     "ename": "MaxRetryError",
     "evalue": "HTTPSConnectionPool(host='www.kaggle.com', port=443): Max retries exceeded with url: /api/v1/competitions/data/download/sentiment-analysis-on-movie-reviews/train.tsv.zip (Caused by NewConnectionError('<urllib3.connection.VerifiedHTTPSConnection object at 0x7fe1f8484310>: Failed to establish a new connection: [Errno -2] Name or service not known'))",
     "output_type": "error",
     "traceback": [
      "\u001b[0;31m---------------------------------------------------------------------------\u001b[0m",
      "\u001b[0;31mgaierror\u001b[0m                                  Traceback (most recent call last)",
      "\u001b[0;32m~/.local/lib/python3.8/site-packages/urllib3/connection.py\u001b[0m in \u001b[0;36m_new_conn\u001b[0;34m(self)\u001b[0m\n\u001b[1;32m    157\u001b[0m         \u001b[0;32mtry\u001b[0m\u001b[0;34m:\u001b[0m\u001b[0;34m\u001b[0m\u001b[0;34m\u001b[0m\u001b[0m\n\u001b[0;32m--> 158\u001b[0;31m             conn = connection.create_connection(\n\u001b[0m\u001b[1;32m    159\u001b[0m                 (self._dns_host, self.port), self.timeout, **extra_kw)\n",
      "\u001b[0;32m~/.local/lib/python3.8/site-packages/urllib3/util/connection.py\u001b[0m in \u001b[0;36mcreate_connection\u001b[0;34m(address, timeout, source_address, socket_options)\u001b[0m\n\u001b[1;32m     56\u001b[0m \u001b[0;34m\u001b[0m\u001b[0m\n\u001b[0;32m---> 57\u001b[0;31m     \u001b[0;32mfor\u001b[0m \u001b[0mres\u001b[0m \u001b[0;32min\u001b[0m \u001b[0msocket\u001b[0m\u001b[0;34m.\u001b[0m\u001b[0mgetaddrinfo\u001b[0m\u001b[0;34m(\u001b[0m\u001b[0mhost\u001b[0m\u001b[0;34m,\u001b[0m \u001b[0mport\u001b[0m\u001b[0;34m,\u001b[0m \u001b[0mfamily\u001b[0m\u001b[0;34m,\u001b[0m \u001b[0msocket\u001b[0m\u001b[0;34m.\u001b[0m\u001b[0mSOCK_STREAM\u001b[0m\u001b[0;34m)\u001b[0m\u001b[0;34m:\u001b[0m\u001b[0;34m\u001b[0m\u001b[0;34m\u001b[0m\u001b[0m\n\u001b[0m\u001b[1;32m     58\u001b[0m         \u001b[0maf\u001b[0m\u001b[0;34m,\u001b[0m \u001b[0msocktype\u001b[0m\u001b[0;34m,\u001b[0m \u001b[0mproto\u001b[0m\u001b[0;34m,\u001b[0m \u001b[0mcanonname\u001b[0m\u001b[0;34m,\u001b[0m \u001b[0msa\u001b[0m \u001b[0;34m=\u001b[0m \u001b[0mres\u001b[0m\u001b[0;34m\u001b[0m\u001b[0;34m\u001b[0m\u001b[0m\n",
      "\u001b[0;32m/tools/eb2/software/Python/3.8.6-GCCcore-10.2.0/lib/python3.8/socket.py\u001b[0m in \u001b[0;36mgetaddrinfo\u001b[0;34m(host, port, family, type, proto, flags)\u001b[0m\n\u001b[1;32m    917\u001b[0m     \u001b[0maddrlist\u001b[0m \u001b[0;34m=\u001b[0m \u001b[0;34m[\u001b[0m\u001b[0;34m]\u001b[0m\u001b[0;34m\u001b[0m\u001b[0;34m\u001b[0m\u001b[0m\n\u001b[0;32m--> 918\u001b[0;31m     \u001b[0;32mfor\u001b[0m \u001b[0mres\u001b[0m \u001b[0;32min\u001b[0m \u001b[0m_socket\u001b[0m\u001b[0;34m.\u001b[0m\u001b[0mgetaddrinfo\u001b[0m\u001b[0;34m(\u001b[0m\u001b[0mhost\u001b[0m\u001b[0;34m,\u001b[0m \u001b[0mport\u001b[0m\u001b[0;34m,\u001b[0m \u001b[0mfamily\u001b[0m\u001b[0;34m,\u001b[0m \u001b[0mtype\u001b[0m\u001b[0;34m,\u001b[0m \u001b[0mproto\u001b[0m\u001b[0;34m,\u001b[0m \u001b[0mflags\u001b[0m\u001b[0;34m)\u001b[0m\u001b[0;34m:\u001b[0m\u001b[0;34m\u001b[0m\u001b[0;34m\u001b[0m\u001b[0m\n\u001b[0m\u001b[1;32m    919\u001b[0m         \u001b[0maf\u001b[0m\u001b[0;34m,\u001b[0m \u001b[0msocktype\u001b[0m\u001b[0;34m,\u001b[0m \u001b[0mproto\u001b[0m\u001b[0;34m,\u001b[0m \u001b[0mcanonname\u001b[0m\u001b[0;34m,\u001b[0m \u001b[0msa\u001b[0m \u001b[0;34m=\u001b[0m \u001b[0mres\u001b[0m\u001b[0;34m\u001b[0m\u001b[0;34m\u001b[0m\u001b[0m\n",
      "\u001b[0;31mgaierror\u001b[0m: [Errno -2] Name or service not known",
      "\nDuring handling of the above exception, another exception occurred:\n",
      "\u001b[0;31mNewConnectionError\u001b[0m                        Traceback (most recent call last)",
      "\u001b[0;32m~/.local/lib/python3.8/site-packages/urllib3/connectionpool.py\u001b[0m in \u001b[0;36murlopen\u001b[0;34m(self, method, url, body, headers, retries, redirect, assert_same_host, timeout, pool_timeout, release_conn, chunked, body_pos, **response_kw)\u001b[0m\n\u001b[1;32m    596\u001b[0m             \u001b[0;31m# Make the request on the httplib connection object.\u001b[0m\u001b[0;34m\u001b[0m\u001b[0;34m\u001b[0m\u001b[0;34m\u001b[0m\u001b[0m\n\u001b[0;32m--> 597\u001b[0;31m             httplib_response = self._make_request(conn, method, url,\n\u001b[0m\u001b[1;32m    598\u001b[0m                                                   \u001b[0mtimeout\u001b[0m\u001b[0;34m=\u001b[0m\u001b[0mtimeout_obj\u001b[0m\u001b[0;34m,\u001b[0m\u001b[0;34m\u001b[0m\u001b[0;34m\u001b[0m\u001b[0m\n",
      "\u001b[0;32m~/.local/lib/python3.8/site-packages/urllib3/connectionpool.py\u001b[0m in \u001b[0;36m_make_request\u001b[0;34m(self, conn, method, url, timeout, chunked, **httplib_request_kw)\u001b[0m\n\u001b[1;32m    342\u001b[0m         \u001b[0;32mtry\u001b[0m\u001b[0;34m:\u001b[0m\u001b[0;34m\u001b[0m\u001b[0;34m\u001b[0m\u001b[0m\n\u001b[0;32m--> 343\u001b[0;31m             \u001b[0mself\u001b[0m\u001b[0;34m.\u001b[0m\u001b[0m_validate_conn\u001b[0m\u001b[0;34m(\u001b[0m\u001b[0mconn\u001b[0m\u001b[0;34m)\u001b[0m\u001b[0;34m\u001b[0m\u001b[0;34m\u001b[0m\u001b[0m\n\u001b[0m\u001b[1;32m    344\u001b[0m         \u001b[0;32mexcept\u001b[0m \u001b[0;34m(\u001b[0m\u001b[0mSocketTimeout\u001b[0m\u001b[0;34m,\u001b[0m \u001b[0mBaseSSLError\u001b[0m\u001b[0;34m)\u001b[0m \u001b[0;32mas\u001b[0m \u001b[0me\u001b[0m\u001b[0;34m:\u001b[0m\u001b[0;34m\u001b[0m\u001b[0;34m\u001b[0m\u001b[0m\n",
      "\u001b[0;32m~/.local/lib/python3.8/site-packages/urllib3/connectionpool.py\u001b[0m in \u001b[0;36m_validate_conn\u001b[0;34m(self, conn)\u001b[0m\n\u001b[1;32m    838\u001b[0m         \u001b[0;32mif\u001b[0m \u001b[0;32mnot\u001b[0m \u001b[0mgetattr\u001b[0m\u001b[0;34m(\u001b[0m\u001b[0mconn\u001b[0m\u001b[0;34m,\u001b[0m \u001b[0;34m'sock'\u001b[0m\u001b[0;34m,\u001b[0m \u001b[0;32mNone\u001b[0m\u001b[0;34m)\u001b[0m\u001b[0;34m:\u001b[0m  \u001b[0;31m# AppEngine might not have  `.sock`\u001b[0m\u001b[0;34m\u001b[0m\u001b[0;34m\u001b[0m\u001b[0m\n\u001b[0;32m--> 839\u001b[0;31m             \u001b[0mconn\u001b[0m\u001b[0;34m.\u001b[0m\u001b[0mconnect\u001b[0m\u001b[0;34m(\u001b[0m\u001b[0;34m)\u001b[0m\u001b[0;34m\u001b[0m\u001b[0;34m\u001b[0m\u001b[0m\n\u001b[0m\u001b[1;32m    840\u001b[0m \u001b[0;34m\u001b[0m\u001b[0m\n",
      "\u001b[0;32m~/.local/lib/python3.8/site-packages/urllib3/connection.py\u001b[0m in \u001b[0;36mconnect\u001b[0;34m(self)\u001b[0m\n\u001b[1;32m    300\u001b[0m         \u001b[0;31m# Add certificate verification\u001b[0m\u001b[0;34m\u001b[0m\u001b[0;34m\u001b[0m\u001b[0;34m\u001b[0m\u001b[0m\n\u001b[0;32m--> 301\u001b[0;31m         \u001b[0mconn\u001b[0m \u001b[0;34m=\u001b[0m \u001b[0mself\u001b[0m\u001b[0;34m.\u001b[0m\u001b[0m_new_conn\u001b[0m\u001b[0;34m(\u001b[0m\u001b[0;34m)\u001b[0m\u001b[0;34m\u001b[0m\u001b[0;34m\u001b[0m\u001b[0m\n\u001b[0m\u001b[1;32m    302\u001b[0m         \u001b[0mhostname\u001b[0m \u001b[0;34m=\u001b[0m \u001b[0mself\u001b[0m\u001b[0;34m.\u001b[0m\u001b[0mhost\u001b[0m\u001b[0;34m\u001b[0m\u001b[0;34m\u001b[0m\u001b[0m\n",
      "\u001b[0;32m~/.local/lib/python3.8/site-packages/urllib3/connection.py\u001b[0m in \u001b[0;36m_new_conn\u001b[0;34m(self)\u001b[0m\n\u001b[1;32m    166\u001b[0m         \u001b[0;32mexcept\u001b[0m \u001b[0mSocketError\u001b[0m \u001b[0;32mas\u001b[0m \u001b[0me\u001b[0m\u001b[0;34m:\u001b[0m\u001b[0;34m\u001b[0m\u001b[0;34m\u001b[0m\u001b[0m\n\u001b[0;32m--> 167\u001b[0;31m             raise NewConnectionError(\n\u001b[0m\u001b[1;32m    168\u001b[0m                 self, \"Failed to establish a new connection: %s\" % e)\n",
      "\u001b[0;31mNewConnectionError\u001b[0m: <urllib3.connection.VerifiedHTTPSConnection object at 0x7fe1f8484310>: Failed to establish a new connection: [Errno -2] Name or service not known",
      "\nDuring handling of the above exception, another exception occurred:\n",
      "\u001b[0;31mMaxRetryError\u001b[0m                             Traceback (most recent call last)",
      "\u001b[0;32m<ipython-input-10-a6602d25b9ea>\u001b[0m in \u001b[0;36m<module>\u001b[0;34m\u001b[0m\n\u001b[1;32m      7\u001b[0m \u001b[0;34m\u001b[0m\u001b[0m\n\u001b[1;32m      8\u001b[0m \u001b[0;31m# download the dataset into current directory\u001b[0m\u001b[0;34m\u001b[0m\u001b[0;34m\u001b[0m\u001b[0;34m\u001b[0m\u001b[0m\n\u001b[0;32m----> 9\u001b[0;31m api.competition_download_file('sentiment-analysis-on-movie-reviews',\n\u001b[0m\u001b[1;32m     10\u001b[0m                           'train.tsv.zip', path='./')\n\u001b[1;32m     11\u001b[0m \u001b[0;34m\u001b[0m\u001b[0m\n",
      "\u001b[0;32m~/.local/lib/python3.8/site-packages/kaggle/api/kaggle_api_extended.py\u001b[0m in \u001b[0;36mcompetition_download_file\u001b[0;34m(self, competition, file_name, path, force, quiet)\u001b[0m\n\u001b[1;32m    687\u001b[0m \u001b[0;34m\u001b[0m\u001b[0m\n\u001b[1;32m    688\u001b[0m         response = self.process_response(\n\u001b[0;32m--> 689\u001b[0;31m             self.competitions_data_download_file_with_http_info(\n\u001b[0m\u001b[1;32m    690\u001b[0m                 id=competition, file_name=file_name, _preload_content=False))\n\u001b[1;32m    691\u001b[0m         \u001b[0murl\u001b[0m \u001b[0;34m=\u001b[0m \u001b[0mresponse\u001b[0m\u001b[0;34m.\u001b[0m\u001b[0mretries\u001b[0m\u001b[0;34m.\u001b[0m\u001b[0mhistory\u001b[0m\u001b[0;34m[\u001b[0m\u001b[0;36m0\u001b[0m\u001b[0;34m]\u001b[0m\u001b[0;34m.\u001b[0m\u001b[0mredirect_location\u001b[0m\u001b[0;34m.\u001b[0m\u001b[0msplit\u001b[0m\u001b[0;34m(\u001b[0m\u001b[0;34m'?'\u001b[0m\u001b[0;34m)\u001b[0m\u001b[0;34m[\u001b[0m\u001b[0;36m0\u001b[0m\u001b[0;34m]\u001b[0m\u001b[0;34m\u001b[0m\u001b[0;34m\u001b[0m\u001b[0m\n",
      "\u001b[0;32m~/.local/lib/python3.8/site-packages/kaggle/api/kaggle_api.py\u001b[0m in \u001b[0;36mcompetitions_data_download_file_with_http_info\u001b[0;34m(self, id, file_name, **kwargs)\u001b[0m\n\u001b[1;32m    309\u001b[0m         \u001b[0mauth_settings\u001b[0m \u001b[0;34m=\u001b[0m \u001b[0;34m[\u001b[0m\u001b[0;34m'basicAuth'\u001b[0m\u001b[0;34m]\u001b[0m  \u001b[0;31m# noqa: E501\u001b[0m\u001b[0;34m\u001b[0m\u001b[0;34m\u001b[0m\u001b[0m\n\u001b[1;32m    310\u001b[0m \u001b[0;34m\u001b[0m\u001b[0m\n\u001b[0;32m--> 311\u001b[0;31m         return self.api_client.call_api(\n\u001b[0m\u001b[1;32m    312\u001b[0m             \u001b[0;34m'/competitions/data/download/{id}/{fileName}'\u001b[0m\u001b[0;34m,\u001b[0m \u001b[0;34m'GET'\u001b[0m\u001b[0;34m,\u001b[0m\u001b[0;34m\u001b[0m\u001b[0;34m\u001b[0m\u001b[0m\n\u001b[1;32m    313\u001b[0m             \u001b[0mpath_params\u001b[0m\u001b[0;34m,\u001b[0m\u001b[0;34m\u001b[0m\u001b[0;34m\u001b[0m\u001b[0m\n",
      "\u001b[0;32m~/.local/lib/python3.8/site-packages/kaggle/api_client.py\u001b[0m in \u001b[0;36mcall_api\u001b[0;34m(self, resource_path, method, path_params, query_params, header_params, body, post_params, files, response_type, auth_settings, async_req, _return_http_data_only, collection_formats, _preload_content, _request_timeout)\u001b[0m\n\u001b[1;32m    327\u001b[0m         \"\"\"\n\u001b[1;32m    328\u001b[0m         \u001b[0;32mif\u001b[0m \u001b[0;32mnot\u001b[0m \u001b[0masync_req\u001b[0m\u001b[0;34m:\u001b[0m\u001b[0;34m\u001b[0m\u001b[0;34m\u001b[0m\u001b[0m\n\u001b[0;32m--> 329\u001b[0;31m             return self.__call_api(resource_path, method,\n\u001b[0m\u001b[1;32m    330\u001b[0m                                    \u001b[0mpath_params\u001b[0m\u001b[0;34m,\u001b[0m \u001b[0mquery_params\u001b[0m\u001b[0;34m,\u001b[0m \u001b[0mheader_params\u001b[0m\u001b[0;34m,\u001b[0m\u001b[0;34m\u001b[0m\u001b[0;34m\u001b[0m\u001b[0m\n\u001b[1;32m    331\u001b[0m                                    \u001b[0mbody\u001b[0m\u001b[0;34m,\u001b[0m \u001b[0mpost_params\u001b[0m\u001b[0;34m,\u001b[0m \u001b[0mfiles\u001b[0m\u001b[0;34m,\u001b[0m\u001b[0;34m\u001b[0m\u001b[0;34m\u001b[0m\u001b[0m\n",
      "\u001b[0;32m~/.local/lib/python3.8/site-packages/kaggle/api_client.py\u001b[0m in \u001b[0;36m__call_api\u001b[0;34m(self, resource_path, method, path_params, query_params, header_params, body, post_params, files, response_type, auth_settings, _return_http_data_only, collection_formats, _preload_content, _request_timeout)\u001b[0m\n\u001b[1;32m    159\u001b[0m \u001b[0;34m\u001b[0m\u001b[0m\n\u001b[1;32m    160\u001b[0m         \u001b[0;31m# perform request and return response\u001b[0m\u001b[0;34m\u001b[0m\u001b[0;34m\u001b[0m\u001b[0;34m\u001b[0m\u001b[0m\n\u001b[0;32m--> 161\u001b[0;31m         response_data = self.request(\n\u001b[0m\u001b[1;32m    162\u001b[0m             \u001b[0mmethod\u001b[0m\u001b[0;34m,\u001b[0m \u001b[0murl\u001b[0m\u001b[0;34m,\u001b[0m \u001b[0mquery_params\u001b[0m\u001b[0;34m=\u001b[0m\u001b[0mquery_params\u001b[0m\u001b[0;34m,\u001b[0m \u001b[0mheaders\u001b[0m\u001b[0;34m=\u001b[0m\u001b[0mheader_params\u001b[0m\u001b[0;34m,\u001b[0m\u001b[0;34m\u001b[0m\u001b[0;34m\u001b[0m\u001b[0m\n\u001b[1;32m    163\u001b[0m             \u001b[0mpost_params\u001b[0m\u001b[0;34m=\u001b[0m\u001b[0mpost_params\u001b[0m\u001b[0;34m,\u001b[0m \u001b[0mbody\u001b[0m\u001b[0;34m=\u001b[0m\u001b[0mbody\u001b[0m\u001b[0;34m,\u001b[0m\u001b[0;34m\u001b[0m\u001b[0;34m\u001b[0m\u001b[0m\n",
      "\u001b[0;32m~/.local/lib/python3.8/site-packages/kaggle/api_client.py\u001b[0m in \u001b[0;36mrequest\u001b[0;34m(self, method, url, query_params, headers, post_params, body, _preload_content, _request_timeout)\u001b[0m\n\u001b[1;32m    349\u001b[0m         \u001b[0;34m\"\"\"Makes the HTTP request using RESTClient.\"\"\"\u001b[0m\u001b[0;34m\u001b[0m\u001b[0;34m\u001b[0m\u001b[0m\n\u001b[1;32m    350\u001b[0m         \u001b[0;32mif\u001b[0m \u001b[0mmethod\u001b[0m \u001b[0;34m==\u001b[0m \u001b[0;34m\"GET\"\u001b[0m\u001b[0;34m:\u001b[0m\u001b[0;34m\u001b[0m\u001b[0;34m\u001b[0m\u001b[0m\n\u001b[0;32m--> 351\u001b[0;31m             return self.rest_client.GET(url,\n\u001b[0m\u001b[1;32m    352\u001b[0m                                         \u001b[0mquery_params\u001b[0m\u001b[0;34m=\u001b[0m\u001b[0mquery_params\u001b[0m\u001b[0;34m,\u001b[0m\u001b[0;34m\u001b[0m\u001b[0;34m\u001b[0m\u001b[0m\n\u001b[1;32m    353\u001b[0m                                         \u001b[0m_preload_content\u001b[0m\u001b[0;34m=\u001b[0m\u001b[0m_preload_content\u001b[0m\u001b[0;34m,\u001b[0m\u001b[0;34m\u001b[0m\u001b[0;34m\u001b[0m\u001b[0m\n",
      "\u001b[0;32m~/.local/lib/python3.8/site-packages/kaggle/rest.py\u001b[0m in \u001b[0;36mGET\u001b[0;34m(self, url, headers, query_params, _preload_content, _request_timeout)\u001b[0m\n\u001b[1;32m    245\u001b[0m     def GET(self, url, headers=None, query_params=None, _preload_content=True,\n\u001b[1;32m    246\u001b[0m             _request_timeout=None):\n\u001b[0;32m--> 247\u001b[0;31m         return self.request(\"GET\", url,\n\u001b[0m\u001b[1;32m    248\u001b[0m                             \u001b[0mheaders\u001b[0m\u001b[0;34m=\u001b[0m\u001b[0mheaders\u001b[0m\u001b[0;34m,\u001b[0m\u001b[0;34m\u001b[0m\u001b[0;34m\u001b[0m\u001b[0m\n\u001b[1;32m    249\u001b[0m                             \u001b[0m_preload_content\u001b[0m\u001b[0;34m=\u001b[0m\u001b[0m_preload_content\u001b[0m\u001b[0;34m,\u001b[0m\u001b[0;34m\u001b[0m\u001b[0;34m\u001b[0m\u001b[0m\n",
      "\u001b[0;32m~/.local/lib/python3.8/site-packages/kaggle/rest.py\u001b[0m in \u001b[0;36mrequest\u001b[0;34m(self, method, url, query_params, headers, body, post_params, _preload_content, _request_timeout)\u001b[0m\n\u001b[1;32m    218\u001b[0m             \u001b[0;31m# For `GET`, `HEAD`\u001b[0m\u001b[0;34m\u001b[0m\u001b[0;34m\u001b[0m\u001b[0;34m\u001b[0m\u001b[0m\n\u001b[1;32m    219\u001b[0m             \u001b[0;32melse\u001b[0m\u001b[0;34m:\u001b[0m\u001b[0;34m\u001b[0m\u001b[0;34m\u001b[0m\u001b[0m\n\u001b[0;32m--> 220\u001b[0;31m                 r = self.pool_manager.request(method, url,\n\u001b[0m\u001b[1;32m    221\u001b[0m                                               \u001b[0mfields\u001b[0m\u001b[0;34m=\u001b[0m\u001b[0mquery_params\u001b[0m\u001b[0;34m,\u001b[0m\u001b[0;34m\u001b[0m\u001b[0;34m\u001b[0m\u001b[0m\n\u001b[1;32m    222\u001b[0m                                               \u001b[0mpreload_content\u001b[0m\u001b[0;34m=\u001b[0m\u001b[0m_preload_content\u001b[0m\u001b[0;34m,\u001b[0m\u001b[0;34m\u001b[0m\u001b[0;34m\u001b[0m\u001b[0m\n",
      "\u001b[0;32m~/.local/lib/python3.8/site-packages/urllib3/request.py\u001b[0m in \u001b[0;36mrequest\u001b[0;34m(self, method, url, fields, headers, **urlopen_kw)\u001b[0m\n\u001b[1;32m     64\u001b[0m \u001b[0;34m\u001b[0m\u001b[0m\n\u001b[1;32m     65\u001b[0m         \u001b[0;32mif\u001b[0m \u001b[0mmethod\u001b[0m \u001b[0;32min\u001b[0m \u001b[0mself\u001b[0m\u001b[0;34m.\u001b[0m\u001b[0m_encode_url_methods\u001b[0m\u001b[0;34m:\u001b[0m\u001b[0;34m\u001b[0m\u001b[0;34m\u001b[0m\u001b[0m\n\u001b[0;32m---> 66\u001b[0;31m             return self.request_encode_url(method, url, fields=fields,\n\u001b[0m\u001b[1;32m     67\u001b[0m                                            \u001b[0mheaders\u001b[0m\u001b[0;34m=\u001b[0m\u001b[0mheaders\u001b[0m\u001b[0;34m,\u001b[0m\u001b[0;34m\u001b[0m\u001b[0;34m\u001b[0m\u001b[0m\n\u001b[1;32m     68\u001b[0m                                            **urlopen_kw)\n",
      "\u001b[0;32m~/.local/lib/python3.8/site-packages/urllib3/request.py\u001b[0m in \u001b[0;36mrequest_encode_url\u001b[0;34m(self, method, url, fields, headers, **urlopen_kw)\u001b[0m\n\u001b[1;32m     87\u001b[0m             \u001b[0murl\u001b[0m \u001b[0;34m+=\u001b[0m \u001b[0;34m'?'\u001b[0m \u001b[0;34m+\u001b[0m \u001b[0murlencode\u001b[0m\u001b[0;34m(\u001b[0m\u001b[0mfields\u001b[0m\u001b[0;34m)\u001b[0m\u001b[0;34m\u001b[0m\u001b[0;34m\u001b[0m\u001b[0m\n\u001b[1;32m     88\u001b[0m \u001b[0;34m\u001b[0m\u001b[0m\n\u001b[0;32m---> 89\u001b[0;31m         \u001b[0;32mreturn\u001b[0m \u001b[0mself\u001b[0m\u001b[0;34m.\u001b[0m\u001b[0murlopen\u001b[0m\u001b[0;34m(\u001b[0m\u001b[0mmethod\u001b[0m\u001b[0;34m,\u001b[0m \u001b[0murl\u001b[0m\u001b[0;34m,\u001b[0m \u001b[0;34m**\u001b[0m\u001b[0mextra_kw\u001b[0m\u001b[0;34m)\u001b[0m\u001b[0;34m\u001b[0m\u001b[0;34m\u001b[0m\u001b[0m\n\u001b[0m\u001b[1;32m     90\u001b[0m \u001b[0;34m\u001b[0m\u001b[0m\n\u001b[1;32m     91\u001b[0m     def request_encode_body(self, method, url, fields=None, headers=None,\n",
      "\u001b[0;32m~/.local/lib/python3.8/site-packages/urllib3/poolmanager.py\u001b[0m in \u001b[0;36murlopen\u001b[0;34m(self, method, url, redirect, **kw)\u001b[0m\n\u001b[1;32m    322\u001b[0m             \u001b[0mresponse\u001b[0m \u001b[0;34m=\u001b[0m \u001b[0mconn\u001b[0m\u001b[0;34m.\u001b[0m\u001b[0murlopen\u001b[0m\u001b[0;34m(\u001b[0m\u001b[0mmethod\u001b[0m\u001b[0;34m,\u001b[0m \u001b[0murl\u001b[0m\u001b[0;34m,\u001b[0m \u001b[0;34m**\u001b[0m\u001b[0mkw\u001b[0m\u001b[0;34m)\u001b[0m\u001b[0;34m\u001b[0m\u001b[0;34m\u001b[0m\u001b[0m\n\u001b[1;32m    323\u001b[0m         \u001b[0;32melse\u001b[0m\u001b[0;34m:\u001b[0m\u001b[0;34m\u001b[0m\u001b[0;34m\u001b[0m\u001b[0m\n\u001b[0;32m--> 324\u001b[0;31m             \u001b[0mresponse\u001b[0m \u001b[0;34m=\u001b[0m \u001b[0mconn\u001b[0m\u001b[0;34m.\u001b[0m\u001b[0murlopen\u001b[0m\u001b[0;34m(\u001b[0m\u001b[0mmethod\u001b[0m\u001b[0;34m,\u001b[0m \u001b[0mu\u001b[0m\u001b[0;34m.\u001b[0m\u001b[0mrequest_uri\u001b[0m\u001b[0;34m,\u001b[0m \u001b[0;34m**\u001b[0m\u001b[0mkw\u001b[0m\u001b[0;34m)\u001b[0m\u001b[0;34m\u001b[0m\u001b[0;34m\u001b[0m\u001b[0m\n\u001b[0m\u001b[1;32m    325\u001b[0m \u001b[0;34m\u001b[0m\u001b[0m\n\u001b[1;32m    326\u001b[0m         \u001b[0mredirect_location\u001b[0m \u001b[0;34m=\u001b[0m \u001b[0mredirect\u001b[0m \u001b[0;32mand\u001b[0m \u001b[0mresponse\u001b[0m\u001b[0;34m.\u001b[0m\u001b[0mget_redirect_location\u001b[0m\u001b[0;34m(\u001b[0m\u001b[0;34m)\u001b[0m\u001b[0;34m\u001b[0m\u001b[0;34m\u001b[0m\u001b[0m\n",
      "\u001b[0;32m~/.local/lib/python3.8/site-packages/urllib3/connectionpool.py\u001b[0m in \u001b[0;36murlopen\u001b[0;34m(self, method, url, body, headers, retries, redirect, assert_same_host, timeout, pool_timeout, release_conn, chunked, body_pos, **response_kw)\u001b[0m\n\u001b[1;32m    661\u001b[0m             log.warning(\"Retrying (%r) after connection \"\n\u001b[1;32m    662\u001b[0m                         \"broken by '%r': %s\", retries, err, url)\n\u001b[0;32m--> 663\u001b[0;31m             return self.urlopen(method, url, body, headers, retries,\n\u001b[0m\u001b[1;32m    664\u001b[0m                                 \u001b[0mredirect\u001b[0m\u001b[0;34m,\u001b[0m \u001b[0massert_same_host\u001b[0m\u001b[0;34m,\u001b[0m\u001b[0;34m\u001b[0m\u001b[0;34m\u001b[0m\u001b[0m\n\u001b[1;32m    665\u001b[0m                                 \u001b[0mtimeout\u001b[0m\u001b[0;34m=\u001b[0m\u001b[0mtimeout\u001b[0m\u001b[0;34m,\u001b[0m \u001b[0mpool_timeout\u001b[0m\u001b[0;34m=\u001b[0m\u001b[0mpool_timeout\u001b[0m\u001b[0;34m,\u001b[0m\u001b[0;34m\u001b[0m\u001b[0;34m\u001b[0m\u001b[0m\n",
      "\u001b[0;32m~/.local/lib/python3.8/site-packages/urllib3/connectionpool.py\u001b[0m in \u001b[0;36murlopen\u001b[0;34m(self, method, url, body, headers, retries, redirect, assert_same_host, timeout, pool_timeout, release_conn, chunked, body_pos, **response_kw)\u001b[0m\n\u001b[1;32m    661\u001b[0m             log.warning(\"Retrying (%r) after connection \"\n\u001b[1;32m    662\u001b[0m                         \"broken by '%r': %s\", retries, err, url)\n\u001b[0;32m--> 663\u001b[0;31m             return self.urlopen(method, url, body, headers, retries,\n\u001b[0m\u001b[1;32m    664\u001b[0m                                 \u001b[0mredirect\u001b[0m\u001b[0;34m,\u001b[0m \u001b[0massert_same_host\u001b[0m\u001b[0;34m,\u001b[0m\u001b[0;34m\u001b[0m\u001b[0;34m\u001b[0m\u001b[0m\n\u001b[1;32m    665\u001b[0m                                 \u001b[0mtimeout\u001b[0m\u001b[0;34m=\u001b[0m\u001b[0mtimeout\u001b[0m\u001b[0;34m,\u001b[0m \u001b[0mpool_timeout\u001b[0m\u001b[0;34m=\u001b[0m\u001b[0mpool_timeout\u001b[0m\u001b[0;34m,\u001b[0m\u001b[0;34m\u001b[0m\u001b[0;34m\u001b[0m\u001b[0m\n",
      "\u001b[0;32m~/.local/lib/python3.8/site-packages/urllib3/connectionpool.py\u001b[0m in \u001b[0;36murlopen\u001b[0;34m(self, method, url, body, headers, retries, redirect, assert_same_host, timeout, pool_timeout, release_conn, chunked, body_pos, **response_kw)\u001b[0m\n\u001b[1;32m    661\u001b[0m             log.warning(\"Retrying (%r) after connection \"\n\u001b[1;32m    662\u001b[0m                         \"broken by '%r': %s\", retries, err, url)\n\u001b[0;32m--> 663\u001b[0;31m             return self.urlopen(method, url, body, headers, retries,\n\u001b[0m\u001b[1;32m    664\u001b[0m                                 \u001b[0mredirect\u001b[0m\u001b[0;34m,\u001b[0m \u001b[0massert_same_host\u001b[0m\u001b[0;34m,\u001b[0m\u001b[0;34m\u001b[0m\u001b[0;34m\u001b[0m\u001b[0m\n\u001b[1;32m    665\u001b[0m                                 \u001b[0mtimeout\u001b[0m\u001b[0;34m=\u001b[0m\u001b[0mtimeout\u001b[0m\u001b[0;34m,\u001b[0m \u001b[0mpool_timeout\u001b[0m\u001b[0;34m=\u001b[0m\u001b[0mpool_timeout\u001b[0m\u001b[0;34m,\u001b[0m\u001b[0;34m\u001b[0m\u001b[0;34m\u001b[0m\u001b[0m\n",
      "\u001b[0;32m~/.local/lib/python3.8/site-packages/urllib3/connectionpool.py\u001b[0m in \u001b[0;36murlopen\u001b[0;34m(self, method, url, body, headers, retries, redirect, assert_same_host, timeout, pool_timeout, release_conn, chunked, body_pos, **response_kw)\u001b[0m\n\u001b[1;32m    635\u001b[0m                 \u001b[0me\u001b[0m \u001b[0;34m=\u001b[0m \u001b[0mProtocolError\u001b[0m\u001b[0;34m(\u001b[0m\u001b[0;34m'Connection aborted.'\u001b[0m\u001b[0;34m,\u001b[0m \u001b[0me\u001b[0m\u001b[0;34m)\u001b[0m\u001b[0;34m\u001b[0m\u001b[0;34m\u001b[0m\u001b[0m\n\u001b[1;32m    636\u001b[0m \u001b[0;34m\u001b[0m\u001b[0m\n\u001b[0;32m--> 637\u001b[0;31m             retries = retries.increment(method, url, error=e, _pool=self,\n\u001b[0m\u001b[1;32m    638\u001b[0m                                         _stacktrace=sys.exc_info()[2])\n\u001b[1;32m    639\u001b[0m             \u001b[0mretries\u001b[0m\u001b[0;34m.\u001b[0m\u001b[0msleep\u001b[0m\u001b[0;34m(\u001b[0m\u001b[0;34m)\u001b[0m\u001b[0;34m\u001b[0m\u001b[0;34m\u001b[0m\u001b[0m\n",
      "\u001b[0;32m~/.local/lib/python3.8/site-packages/urllib3/util/retry.py\u001b[0m in \u001b[0;36mincrement\u001b[0;34m(self, method, url, response, error, _pool, _stacktrace)\u001b[0m\n\u001b[1;32m    397\u001b[0m \u001b[0;34m\u001b[0m\u001b[0m\n\u001b[1;32m    398\u001b[0m         \u001b[0;32mif\u001b[0m \u001b[0mnew_retry\u001b[0m\u001b[0;34m.\u001b[0m\u001b[0mis_exhausted\u001b[0m\u001b[0;34m(\u001b[0m\u001b[0;34m)\u001b[0m\u001b[0;34m:\u001b[0m\u001b[0;34m\u001b[0m\u001b[0;34m\u001b[0m\u001b[0m\n\u001b[0;32m--> 399\u001b[0;31m             \u001b[0;32mraise\u001b[0m \u001b[0mMaxRetryError\u001b[0m\u001b[0;34m(\u001b[0m\u001b[0m_pool\u001b[0m\u001b[0;34m,\u001b[0m \u001b[0murl\u001b[0m\u001b[0;34m,\u001b[0m \u001b[0merror\u001b[0m \u001b[0;32mor\u001b[0m \u001b[0mResponseError\u001b[0m\u001b[0;34m(\u001b[0m\u001b[0mcause\u001b[0m\u001b[0;34m)\u001b[0m\u001b[0;34m)\u001b[0m\u001b[0;34m\u001b[0m\u001b[0;34m\u001b[0m\u001b[0m\n\u001b[0m\u001b[1;32m    400\u001b[0m \u001b[0;34m\u001b[0m\u001b[0m\n\u001b[1;32m    401\u001b[0m         \u001b[0mlog\u001b[0m\u001b[0;34m.\u001b[0m\u001b[0mdebug\u001b[0m\u001b[0;34m(\u001b[0m\u001b[0;34m\"Incremented Retry for (url='%s'): %r\"\u001b[0m\u001b[0;34m,\u001b[0m \u001b[0murl\u001b[0m\u001b[0;34m,\u001b[0m \u001b[0mnew_retry\u001b[0m\u001b[0;34m)\u001b[0m\u001b[0;34m\u001b[0m\u001b[0;34m\u001b[0m\u001b[0m\n",
      "\u001b[0;31mMaxRetryError\u001b[0m: HTTPSConnectionPool(host='www.kaggle.com', port=443): Max retries exceeded with url: /api/v1/competitions/data/download/sentiment-analysis-on-movie-reviews/train.tsv.zip (Caused by NewConnectionError('<urllib3.connection.VerifiedHTTPSConnection object at 0x7fe1f8484310>: Failed to establish a new connection: [Errno -2] Name or service not known'))"
     ]
    }
   ],
   "source": [
    "import kaggle\n",
    "from kaggle.api.kaggle_api_extended import KaggleApi\n",
    "import zipfile\n",
    "\n",
    "api = KaggleApi()\n",
    "api.authenticate()\n",
    "\n",
    "# download the dataset into current directory\n",
    "api.competition_download_file('sentiment-analysis-on-movie-reviews',\n",
    "                          'train.tsv.zip', path='./')\n",
    "\n",
    "# extract the file to CSV with zipfile\n",
    "with zipfile.ZipFile('train.tsv.zip', 'r') as z:\n",
    "    z.extractall('./')"
   ]
  },
  {
   "cell_type": "code",
   "execution_count": 76,
   "metadata": {},
   "outputs": [],
   "source": [
    "import pandas as pd\n",
    "df = pd.read_csv('train.tsv', sep=\"\\t\")"
   ]
  },
  {
   "cell_type": "code",
   "execution_count": 77,
   "metadata": {},
   "outputs": [
    {
     "data": {
      "text/html": [
       "<div>\n",
       "<style scoped>\n",
       "    .dataframe tbody tr th:only-of-type {\n",
       "        vertical-align: middle;\n",
       "    }\n",
       "\n",
       "    .dataframe tbody tr th {\n",
       "        vertical-align: top;\n",
       "    }\n",
       "\n",
       "    .dataframe thead th {\n",
       "        text-align: right;\n",
       "    }\n",
       "</style>\n",
       "<table border=\"1\" class=\"dataframe\">\n",
       "  <thead>\n",
       "    <tr style=\"text-align: right;\">\n",
       "      <th></th>\n",
       "      <th>PhraseId</th>\n",
       "      <th>SentenceId</th>\n",
       "      <th>Phrase</th>\n",
       "      <th>Sentiment</th>\n",
       "    </tr>\n",
       "  </thead>\n",
       "  <tbody>\n",
       "    <tr>\n",
       "      <th>0</th>\n",
       "      <td>1</td>\n",
       "      <td>1</td>\n",
       "      <td>A series of escapades demonstrating the adage ...</td>\n",
       "      <td>1</td>\n",
       "    </tr>\n",
       "    <tr>\n",
       "      <th>1</th>\n",
       "      <td>2</td>\n",
       "      <td>1</td>\n",
       "      <td>A series of escapades demonstrating the adage ...</td>\n",
       "      <td>2</td>\n",
       "    </tr>\n",
       "    <tr>\n",
       "      <th>2</th>\n",
       "      <td>3</td>\n",
       "      <td>1</td>\n",
       "      <td>A series</td>\n",
       "      <td>2</td>\n",
       "    </tr>\n",
       "    <tr>\n",
       "      <th>3</th>\n",
       "      <td>4</td>\n",
       "      <td>1</td>\n",
       "      <td>A</td>\n",
       "      <td>2</td>\n",
       "    </tr>\n",
       "    <tr>\n",
       "      <th>4</th>\n",
       "      <td>5</td>\n",
       "      <td>1</td>\n",
       "      <td>series</td>\n",
       "      <td>2</td>\n",
       "    </tr>\n",
       "    <tr>\n",
       "      <th>5</th>\n",
       "      <td>6</td>\n",
       "      <td>1</td>\n",
       "      <td>of escapades demonstrating the adage that what...</td>\n",
       "      <td>2</td>\n",
       "    </tr>\n",
       "    <tr>\n",
       "      <th>6</th>\n",
       "      <td>7</td>\n",
       "      <td>1</td>\n",
       "      <td>of</td>\n",
       "      <td>2</td>\n",
       "    </tr>\n",
       "    <tr>\n",
       "      <th>7</th>\n",
       "      <td>8</td>\n",
       "      <td>1</td>\n",
       "      <td>escapades demonstrating the adage that what is...</td>\n",
       "      <td>2</td>\n",
       "    </tr>\n",
       "    <tr>\n",
       "      <th>8</th>\n",
       "      <td>9</td>\n",
       "      <td>1</td>\n",
       "      <td>escapades</td>\n",
       "      <td>2</td>\n",
       "    </tr>\n",
       "    <tr>\n",
       "      <th>9</th>\n",
       "      <td>10</td>\n",
       "      <td>1</td>\n",
       "      <td>demonstrating the adage that what is good for ...</td>\n",
       "      <td>2</td>\n",
       "    </tr>\n",
       "  </tbody>\n",
       "</table>\n",
       "</div>"
      ],
      "text/plain": [
       "   PhraseId  SentenceId                                             Phrase  \\\n",
       "0         1           1  A series of escapades demonstrating the adage ...   \n",
       "1         2           1  A series of escapades demonstrating the adage ...   \n",
       "2         3           1                                           A series   \n",
       "3         4           1                                                  A   \n",
       "4         5           1                                             series   \n",
       "5         6           1  of escapades demonstrating the adage that what...   \n",
       "6         7           1                                                 of   \n",
       "7         8           1  escapades demonstrating the adage that what is...   \n",
       "8         9           1                                          escapades   \n",
       "9        10           1  demonstrating the adage that what is good for ...   \n",
       "\n",
       "   Sentiment  \n",
       "0          1  \n",
       "1          2  \n",
       "2          2  \n",
       "3          2  \n",
       "4          2  \n",
       "5          2  \n",
       "6          2  \n",
       "7          2  \n",
       "8          2  \n",
       "9          2  "
      ]
     },
     "execution_count": 77,
     "metadata": {},
     "output_type": "execute_result"
    }
   ],
   "source": [
    "df.head(10)"
   ]
  },
  {
   "cell_type": "code",
   "execution_count": 78,
   "metadata": {},
   "outputs": [],
   "source": [
    "df.drop_duplicates(subset=\"SentenceId\", keep=\"first\", inplace=True)"
   ]
  },
  {
   "cell_type": "code",
   "execution_count": 79,
   "metadata": {},
   "outputs": [],
   "source": [
    "## Check length for padding"
   ]
  },
  {
   "cell_type": "code",
   "execution_count": 80,
   "metadata": {
    "tags": []
   },
   "outputs": [
    {
     "data": {
      "text/plain": [
       "8529"
      ]
     },
     "execution_count": 80,
     "metadata": {},
     "output_type": "execute_result"
    }
   ],
   "source": [
    "len(df)"
   ]
  },
  {
   "cell_type": "code",
   "execution_count": null,
   "metadata": {},
   "outputs": [],
   "source": []
  },
  {
   "cell_type": "markdown",
   "metadata": {},
   "source": [
    "## Check the length distribution of phrase"
   ]
  },
  {
   "cell_type": "code",
   "execution_count": 81,
   "metadata": {},
   "outputs": [],
   "source": [
    "import seaborn as sns\n",
    "import matplotlib.pyplot as plt\n",
    "%matplotlib inline"
   ]
  },
  {
   "cell_type": "code",
   "execution_count": 82,
   "metadata": {},
   "outputs": [
    {
     "name": "stderr",
     "output_type": "stream",
     "text": [
      "/tools/eb/software/biogrid_python/3.8.6-foss-2020b/lib/python3.8/site-packages/seaborn/distributions.py:2557: FutureWarning: `distplot` is a deprecated function and will be removed in a future version. Please adapt your code to use either `displot` (a figure-level function with similar flexibility) or `histplot` (an axes-level function for histograms).\n",
      "  warnings.warn(msg, FutureWarning)\n"
     ]
    },
    {
     "data": {
      "text/plain": [
       "<AxesSubplot:xlabel='Phrase', ylabel='Density'>"
      ]
     },
     "execution_count": 82,
     "metadata": {},
     "output_type": "execute_result"
    },
    {
     "data": {
      "image/png": "[encoded data removed]",
      "text/plain": [
       "<Figure size 1152x720 with 1 Axes>"
      ]
     },
     "metadata": {},
     "output_type": "display_data"
    }
   ],
   "source": [
    "seq_len = df['Phrase'].apply(lambda x: len(x.split()))\n",
    "\n",
    "sns.set_style('darkgrid')\n",
    "plt.figure(figsize=(16, 10))\n",
    "sns.distplot(seq_len)"
   ]
  },
  {
   "cell_type": "code",
   "execution_count": 83,
   "metadata": {},
   "outputs": [],
   "source": [
    "SEQ_LEN = 50  # we will cut/pad our sequences to a length of 50 tokens"
   ]
  },
  {
   "cell_type": "code",
   "execution_count": 84,
   "metadata": {},
   "outputs": [],
   "source": [
    "import numpy as np\n",
    "from transformers import AutoTokenizer"
   ]
  },
  {
   "cell_type": "code",
   "execution_count": 85,
   "metadata": {},
   "outputs": [],
   "source": [
    "tokenizer = AutoTokenizer.from_pretrained('bert-base-cased')"
   ]
  },
  {
   "cell_type": "code",
   "execution_count": 86,
   "metadata": {},
   "outputs": [],
   "source": [
    "tokens = tokenizer.encode_plus(\"Hello World\", max_length=SEQ_LEN,\n",
    "                            truncation=True, padding='max_length',\n",
    "                            add_special_tokens=True, return_attention_mask=True,\n",
    "                            return_token_type_ids=False, return_tensors='tf')"
   ]
  },
  {
   "cell_type": "code",
   "execution_count": 87,
   "metadata": {},
   "outputs": [
    {
     "data": {
      "text/plain": [
       "{'input_ids': <tf.Tensor: shape=(1, 50), dtype=int32, numpy=\n",
       "array([[ 101, 8667, 1291,  102,    0,    0,    0,    0,    0,    0,    0,\n",
       "           0,    0,    0,    0,    0,    0,    0,    0,    0,    0,    0,\n",
       "           0,    0,    0,    0,    0,    0,    0,    0,    0,    0,    0,\n",
       "           0,    0,    0,    0,    0,    0,    0,    0,    0,    0,    0,\n",
       "           0,    0,    0,    0,    0,    0]], dtype=int32)>, 'attention_mask': <tf.Tensor: shape=(1, 50), dtype=int32, numpy=\n",
       "array([[1, 1, 1, 1, 0, 0, 0, 0, 0, 0, 0, 0, 0, 0, 0, 0, 0, 0, 0, 0, 0, 0,\n",
       "        0, 0, 0, 0, 0, 0, 0, 0, 0, 0, 0, 0, 0, 0, 0, 0, 0, 0, 0, 0, 0, 0,\n",
       "        0, 0, 0, 0, 0, 0]], dtype=int32)>}"
      ]
     },
     "execution_count": 87,
     "metadata": {},
     "output_type": "execute_result"
    }
   ],
   "source": [
    "tokens"
   ]
  },
  {
   "cell_type": "code",
   "execution_count": 88,
   "metadata": {
    "tags": []
   },
   "outputs": [],
   "source": [
    "def tokenize(sentence):\n",
    "    tokens = tokenizer.encode_plus(sentence, max_length=SEQ_LEN,\n",
    "                                   truncation=True, padding='max_length',\n",
    "                                   add_special_tokens=True, return_attention_mask=True,\n",
    "                                   return_token_type_ids=False, return_tensors='tf')\n",
    "    return tokens['input_ids'], tokens['attention_mask']"
   ]
  },
  {
   "cell_type": "code",
   "execution_count": 89,
   "metadata": {},
   "outputs": [
    {
     "name": "stdout",
     "output_type": "stream",
     "text": [
      "0\n"
     ]
    }
   ],
   "source": [
    "# initialize two arrays for input tensors\n",
    "Xids = np.zeros((len(df), SEQ_LEN))\n",
    "Xmask = np.zeros((len(df), SEQ_LEN))\n",
    "\n",
    "for i, sentence in enumerate(df['Phrase']):\n",
    "    Xids[i, :], Xmask[i, :] = tokenize(sentence)\n",
    "    if i % 10000 == 0:\n",
    "        print(i)  # do this so we can see some progress"
   ]
  },
  {
   "cell_type": "code",
   "execution_count": 90,
   "metadata": {},
   "outputs": [
    {
     "data": {
      "text/plain": [
       "array([[ 101.,  138., 1326., ...,    0.,    0.,    0.],\n",
       "       [ 101., 1188., 3589., ...,    0.,    0.,    0.],\n",
       "       [ 101., 2431., 3899., ...,    0.,    0.,    0.],\n",
       "       ...,\n",
       "       [ 101.,  118.,  149., ...,    0.,    0.,    0.],\n",
       "       [ 101., 1109., 2523., ...,    0.,    0.,    0.],\n",
       "       [ 101., 1109., 1273., ...,    0.,    0.,    0.]])"
      ]
     },
     "execution_count": 90,
     "metadata": {},
     "output_type": "execute_result"
    }
   ],
   "source": [
    "Xids"
   ]
  },
  {
   "cell_type": "code",
   "execution_count": 91,
   "metadata": {},
   "outputs": [
    {
     "data": {
      "text/plain": [
       "array([[1., 1., 1., ..., 0., 0., 0.],\n",
       "       [1., 1., 1., ..., 0., 0., 0.],\n",
       "       [1., 1., 1., ..., 0., 0., 0.],\n",
       "       ...,\n",
       "       [1., 1., 1., ..., 0., 0., 0.],\n",
       "       [1., 1., 1., ..., 0., 0., 0.],\n",
       "       [1., 1., 1., ..., 0., 0., 0.]])"
      ]
     },
     "execution_count": 91,
     "metadata": {},
     "output_type": "execute_result"
    }
   ],
   "source": [
    "Xmask"
   ]
  },
  {
   "cell_type": "code",
   "execution_count": 92,
   "metadata": {},
   "outputs": [],
   "source": [
    "arr = df['Sentiment'].values  # take sentiment column in df as array\n",
    "labels = np.zeros((arr.size, arr.max()+1))  # initialize empty (all zero) label array\n",
    "labels[np.arange(arr.size), arr] = 1  # add ones in indices where we have a value"
   ]
  },
  {
   "cell_type": "code",
   "execution_count": 93,
   "metadata": {},
   "outputs": [
    {
     "data": {
      "text/plain": [
       "array([1, 4, 1, ..., 1, 1, 2])"
      ]
     },
     "execution_count": 93,
     "metadata": {},
     "output_type": "execute_result"
    }
   ],
   "source": [
    "df['Sentiment'].values"
   ]
  },
  {
   "cell_type": "code",
   "execution_count": 94,
   "metadata": {},
   "outputs": [
    {
     "data": {
      "text/plain": [
       "array([[0., 1., 0., 0., 0.],\n",
       "       [0., 0., 0., 0., 1.],\n",
       "       [0., 1., 0., 0., 0.],\n",
       "       ...,\n",
       "       [0., 1., 0., 0., 0.],\n",
       "       [0., 1., 0., 0., 0.],\n",
       "       [0., 0., 1., 0., 0.]])"
      ]
     },
     "execution_count": 94,
     "metadata": {},
     "output_type": "execute_result"
    }
   ],
   "source": [
    "labels"
   ]
  },
  {
   "cell_type": "code",
   "execution_count": 95,
   "metadata": {},
   "outputs": [],
   "source": [
    "import tensorflow as tf\n",
    "\n",
    "BATCH_SIZE = 32  # we will use batches of 32\n",
    "\n",
    "# load arrays into tensorflow dataset\n",
    "dataset = tf.data.Dataset.from_tensor_slices((Xids, Xmask, labels))\n",
    "\n",
    "# create a mapping function that we use to restructure our dataset\n",
    "def map_func(input_ids, masks, labels):\n",
    "    return {'input_ids': input_ids, 'attention_mask': masks}, labels\n",
    "\n",
    "# using map method to apply map_func to dataset\n",
    "dataset = dataset.map(map_func)\n",
    "\n",
    "# shuffle data and batch it\n",
    "dataset = dataset.shuffle(100000).batch(BATCH_SIZE)"
   ]
  },
  {
   "cell_type": "code",
   "execution_count": 96,
   "metadata": {},
   "outputs": [],
   "source": [
    "# get the length of the batched dataset\n",
    "DS_LEN = len([0 for batch in dataset])\n",
    "SPLIT = 0.9  # 90-10 split\n",
    "\n",
    "train = dataset.take(round(DS_LEN*SPLIT))  # get first 90% of batches\n",
    "val = dataset.skip(round(DS_LEN*SPLIT))  # skip first 90% and keep final 10%\n",
    "\n",
    "del dataset  # optionally, delete dataset to free up disk-space"
   ]
  },
  {
   "cell_type": "markdown",
   "metadata": {},
   "source": [
    "## Model definition\n",
    "Our data is now ready and we can define our model architecture. We will use BERT, followed by an LSTM layer, and some simple NN layers. Those final layers following BERT are our classifier.\n",
    "\n",
    "Our classifier consumes the output hidden state tensors from BERT — using them to predict whether we’re seeing something with positive or negative sentiment."
   ]
  },
  {
   "cell_type": "code",
   "execution_count": 28,
   "metadata": {
    "collapsed": true,
    "jupyter": {
     "outputs_hidden": true
    },
    "tags": []
   },
   "outputs": [
    {
     "name": "stdout",
     "output_type": "stream",
     "text": [
      "Defaulting to user installation because normal site-packages is not writeable\n",
      "Looking in indexes: http://rtprepo.na.seeds.basf.net/pypiserver, https://pypi.python.org/simple, https://download.pytorch.org/whl/cpu\n",
      "Collecting torch\n",
      "  Downloading https://download.pytorch.org/whl/cpu/torch-1.11.0%2Bcpu-cp38-cp38-linux_x86_64.whl (169.2 MB)\n",
      "\u001b[2K     \u001b[90m━━━━━━━━━━━━━━━━━━━━━━━━━━━━━━━━━━━━━━\u001b[0m \u001b[32m169.2/169.2 MB\u001b[0m \u001b[31m11.1 MB/s\u001b[0m eta \u001b[36m0:00:00\u001b[0m00:01\u001b[0m00:01\u001b[0m\n",
      "\u001b[?25hCollecting torchvision\n",
      "  Downloading https://download.pytorch.org/whl/cpu/torchvision-0.12.0%2Bcpu-cp38-cp38-linux_x86_64.whl (14.7 MB)\n",
      "\u001b[2K     \u001b[90m━━━━━━━━━━━━━━━━━━━━━━━━━━━━━━━━━━━━━━━━\u001b[0m \u001b[32m14.7/14.7 MB\u001b[0m \u001b[31m42.0 MB/s\u001b[0m eta \u001b[36m0:00:00\u001b[0m00:01\u001b[0m00:01\u001b[0m\n",
      "\u001b[?25hCollecting torchaudio\n",
      "  Downloading https://download.pytorch.org/whl/cpu/torchaudio-0.11.0%2Bcpu-cp38-cp38-linux_x86_64.whl (2.7 MB)\n",
      "\u001b[2K     \u001b[90m━━━━━━━━━━━━━━━━━━━━━━━━━━━━━━━━━━━━━━━━\u001b[0m \u001b[32m2.7/2.7 MB\u001b[0m \u001b[31m12.9 MB/s\u001b[0m eta \u001b[36m0:00:00\u001b[0m00:01\u001b[0m00:01\u001b[0m\n",
      "\u001b[?25hRequirement already satisfied: typing-extensions in /home/baekjo/.local/lib/python3.8/site-packages (from torch) (4.0.1)\n",
      "Requirement already satisfied: requests in /home/baekjo/.local/lib/python3.8/site-packages (from torchvision) (2.21.0)\n",
      "Requirement already satisfied: numpy in /gpfs/rtp/biogrid/tools/eb/software/biogrid_python/3.8.6-foss-2020b/lib/python3.8/site-packages (from torchvision) (1.20.1)\n",
      "Requirement already satisfied: pillow!=8.3.*,>=5.3.0 in /gpfs/rtp/biogrid/tools/eb/software/biogrid_python/3.8.6-foss-2020b/lib/python3.8/site-packages (from torchvision) (8.1.2)\n",
      "Requirement already satisfied: chardet<3.1.0,>=3.0.2 in /gpfs/rtp/biogrid/tools/eb/software/Python/3.8.6-GCCcore-10.2.0/lib/python3.8/site-packages (from requests->torchvision) (3.0.4)\n",
      "Requirement already satisfied: certifi>=2017.4.17 in /gpfs/rtp/biogrid/tools/eb/software/Python/3.8.6-GCCcore-10.2.0/lib/python3.8/site-packages (from requests->torchvision) (2020.6.20)\n",
      "Requirement already satisfied: idna<2.9,>=2.5 in /home/baekjo/.local/lib/python3.8/site-packages (from requests->torchvision) (2.8)\n",
      "Requirement already satisfied: urllib3<1.25,>=1.21.1 in /home/baekjo/.local/lib/python3.8/site-packages (from requests->torchvision) (1.24.3)\n",
      "Installing collected packages: torch, torchvision, torchaudio\n",
      "\u001b[33m  WARNING: The scripts convert-caffe2-to-onnx, convert-onnx-to-caffe2 and torchrun are installed in '/home/baekjo/.local/bin' which is not on PATH.\n",
      "  Consider adding this directory to PATH or, if you prefer to suppress this warning, use --no-warn-script-location.\u001b[0m\u001b[33m\n",
      "\u001b[0mSuccessfully installed torch-1.11.0+cpu torchaudio-0.11.0+cpu torchvision-0.12.0+cpu\n"
     ]
    }
   ],
   "source": [
    "!pip install torch torchvision torchaudio --extra-index-url https://download.pytorch.org/whl/cpu"
   ]
  },
  {
   "cell_type": "code",
   "execution_count": 97,
   "metadata": {},
   "outputs": [
    {
     "name": "stderr",
     "output_type": "stream",
     "text": [
      "Some layers from the model checkpoint at bert-base-cased were not used when initializing TFBertModel: ['nsp___cls', 'mlm___cls']\n",
      "- This IS expected if you are initializing TFBertModel from the checkpoint of a model trained on another task or with another architecture (e.g. initializing a BertForSequenceClassification model from a BertForPreTraining model).\n",
      "- This IS NOT expected if you are initializing TFBertModel from the checkpoint of a model that you expect to be exactly identical (initializing a BertForSequenceClassification model from a BertForSequenceClassification model).\n",
      "All the layers of TFBertModel were initialized from the model checkpoint at bert-base-cased.\n",
      "If your task is similar to the task the model of the checkpoint was trained on, you can already use TFBertModel for predictions without further training.\n"
     ]
    }
   ],
   "source": [
    "import tensorflow as tf\n",
    "from transformers import AutoModel\n",
    "from transformers import TFAutoModel\n",
    "\n",
    "# initialize cased BERT model\n",
    "bert = TFAutoModel.from_pretrained('bert-base-cased')\n",
    "\n",
    "input_ids = tf.keras.layers.Input(shape=(50,), name='input_ids', dtype='int32')\n",
    "mask = tf.keras.layers.Input(shape=(50,), name='attention_mask', dtype='int32')\n",
    "\n",
    "# we consume the last_hidden_state tensor from bert (discarding pooled_outputs)\n",
    "embeddings = bert(input_ids, attention_mask=mask)[0]\n",
    "\n",
    "X = tf.keras.layers.LSTM(64)(embeddings)\n",
    "X = tf.keras.layers.BatchNormalization()(X)\n",
    "X = tf.keras.layers.Dense(64, activation='relu')(X)\n",
    "X = tf.keras.layers.Dropout(0.1)(X)\n",
    "y = tf.keras.layers.Dense(5, activation='softmax', name='outputs')(X)\n",
    "\n",
    "# define input and output layers of our model\n",
    "model = tf.keras.Model(inputs=[input_ids, mask], outputs=y)\n",
    "\n",
    "# freeze the BERT layer - otherwise we will be training 100M+ parameters...\n",
    "model.layers[2].trainable = False"
   ]
  },
  {
   "cell_type": "code",
   "execution_count": 98,
   "metadata": {},
   "outputs": [
    {
     "name": "stdout",
     "output_type": "stream",
     "text": [
      "Model: \"model_4\"\n",
      "__________________________________________________________________________________________________\n",
      " Layer (type)                   Output Shape         Param #     Connected to                     \n",
      "==================================================================================================\n",
      " input_ids (InputLayer)         [(None, 50)]         0           []                               \n",
      "                                                                                                  \n",
      " attention_mask (InputLayer)    [(None, 50)]         0           []                               \n",
      "                                                                                                  \n",
      " tf_bert_model_4 (TFBertModel)  TFBaseModelOutputWi  108310272   ['input_ids[0][0]',              \n",
      "                                thPoolingAndCrossAt               'attention_mask[0][0]']         \n",
      "                                tentions(last_hidde                                               \n",
      "                                n_state=(None, 50,                                                \n",
      "                                768),                                                             \n",
      "                                 pooler_output=(Non                                               \n",
      "                                e, 768),                                                          \n",
      "                                 past_key_values=No                                               \n",
      "                                ne, hidden_states=N                                               \n",
      "                                one, attentions=Non                                               \n",
      "                                e, cross_attentions                                               \n",
      "                                =None)                                                            \n",
      "                                                                                                  \n",
      " lstm_4 (LSTM)                  (None, 64)           213248      ['tf_bert_model_4[0][0]']        \n",
      "                                                                                                  \n",
      " batch_normalization_4 (BatchNo  (None, 64)          256         ['lstm_4[0][0]']                 \n",
      " rmalization)                                                                                     \n",
      "                                                                                                  \n",
      " dense_4 (Dense)                (None, 64)           4160        ['batch_normalization_4[0][0]']  \n",
      "                                                                                                  \n",
      " dropout_189 (Dropout)          (None, 64)           0           ['dense_4[0][0]']                \n",
      "                                                                                                  \n",
      " outputs (Dense)                (None, 5)            325         ['dropout_189[0][0]']            \n",
      "                                                                                                  \n",
      "==================================================================================================\n",
      "Total params: 108,528,261\n",
      "Trainable params: 217,861\n",
      "Non-trainable params: 108,310,400\n",
      "__________________________________________________________________________________________________\n"
     ]
    }
   ],
   "source": [
    "model.summary()"
   ]
  },
  {
   "cell_type": "markdown",
   "metadata": {},
   "source": [
    "## Training\n",
    "First, we set up our optimizer (Adam), loss function, and accuracy metric. Then, we compile the model and train!"
   ]
  },
  {
   "cell_type": "code",
   "execution_count": 99,
   "metadata": {},
   "outputs": [
    {
     "name": "stdout",
     "output_type": "stream",
     "text": [
      "Epoch 1/120\n",
      "240/240 [==============================] - 171s 650ms/step - loss: 1.3825 - accuracy: 0.4007 - val_loss: 1.2670 - val_accuracy: 0.4146\n",
      "Epoch 2/120\n",
      "240/240 [==============================] - 154s 640ms/step - loss: 1.2537 - accuracy: 0.4431 - val_loss: 1.2207 - val_accuracy: 0.4193\n",
      "Epoch 3/120\n",
      "240/240 [==============================] - 155s 645ms/step - loss: 1.2286 - accuracy: 0.4520 - val_loss: 1.1144 - val_accuracy: 0.4971\n",
      "Epoch 4/120\n",
      "240/240 [==============================] - 155s 646ms/step - loss: 1.2138 - accuracy: 0.4643 - val_loss: 1.1363 - val_accuracy: 0.5018\n",
      "Epoch 5/120\n",
      "240/240 [==============================] - 155s 647ms/step - loss: 1.1897 - accuracy: 0.4742 - val_loss: 1.0975 - val_accuracy: 0.5347\n",
      "Epoch 6/120\n",
      "240/240 [==============================] - 155s 648ms/step - loss: 1.1842 - accuracy: 0.4826 - val_loss: 1.0737 - val_accuracy: 0.5489\n",
      "Epoch 7/120\n",
      "240/240 [==============================] - 156s 648ms/step - loss: 1.1708 - accuracy: 0.4904 - val_loss: 1.0802 - val_accuracy: 0.5171\n",
      "Epoch 8/120\n",
      "240/240 [==============================] - 155s 647ms/step - loss: 1.1612 - accuracy: 0.4887 - val_loss: 1.0450 - val_accuracy: 0.5642\n",
      "Epoch 9/120\n",
      "240/240 [==============================] - 155s 645ms/step - loss: 1.1631 - accuracy: 0.4931 - val_loss: 1.1026 - val_accuracy: 0.4888\n",
      "Epoch 10/120\n",
      "240/240 [==============================] - 155s 648ms/step - loss: 1.1539 - accuracy: 0.5008 - val_loss: 1.0491 - val_accuracy: 0.5524\n",
      "Epoch 11/120\n",
      "240/240 [==============================] - 157s 652ms/step - loss: 1.1457 - accuracy: 0.5031 - val_loss: 1.0492 - val_accuracy: 0.5571\n",
      "Epoch 12/120\n",
      "240/240 [==============================] - 156s 650ms/step - loss: 1.1419 - accuracy: 0.5065 - val_loss: 1.0380 - val_accuracy: 0.5665\n",
      "Epoch 13/120\n",
      "240/240 [==============================] - 155s 648ms/step - loss: 1.1452 - accuracy: 0.5087 - val_loss: 1.1154 - val_accuracy: 0.5230\n",
      "Epoch 14/120\n",
      "240/240 [==============================] - 155s 647ms/step - loss: 1.1409 - accuracy: 0.5104 - val_loss: 1.0274 - val_accuracy: 0.5689\n",
      "Epoch 15/120\n",
      "240/240 [==============================] - 155s 648ms/step - loss: 1.1365 - accuracy: 0.5018 - val_loss: 1.0155 - val_accuracy: 0.5677\n",
      "Epoch 16/120\n",
      "240/240 [==============================] - 155s 647ms/step - loss: 1.1339 - accuracy: 0.5070 - val_loss: 1.0383 - val_accuracy: 0.5559\n",
      "Epoch 17/120\n",
      "240/240 [==============================] - 155s 646ms/step - loss: 1.1314 - accuracy: 0.5124 - val_loss: 1.0367 - val_accuracy: 0.5477\n",
      "Epoch 18/120\n",
      "240/240 [==============================] - 155s 648ms/step - loss: 1.1213 - accuracy: 0.5120 - val_loss: 1.0919 - val_accuracy: 0.5183\n",
      "Epoch 19/120\n",
      "240/240 [==============================] - 155s 647ms/step - loss: 1.1325 - accuracy: 0.5100 - val_loss: 1.0041 - val_accuracy: 0.5748\n",
      "Epoch 20/120\n",
      "240/240 [==============================] - 155s 647ms/step - loss: 1.1145 - accuracy: 0.5198 - val_loss: 1.0479 - val_accuracy: 0.5524\n",
      "Epoch 21/120\n",
      "240/240 [==============================] - 155s 647ms/step - loss: 1.1043 - accuracy: 0.5227 - val_loss: 1.0289 - val_accuracy: 0.5630\n",
      "Epoch 22/120\n",
      "240/240 [==============================] - 155s 647ms/step - loss: 1.1090 - accuracy: 0.5229 - val_loss: 0.9962 - val_accuracy: 0.5889\n",
      "Epoch 23/120\n",
      "240/240 [==============================] - 156s 652ms/step - loss: 1.1019 - accuracy: 0.5258 - val_loss: 0.9942 - val_accuracy: 0.5618\n",
      "Epoch 24/120\n",
      "240/240 [==============================] - 156s 649ms/step - loss: 1.0940 - accuracy: 0.5289 - val_loss: 0.9848 - val_accuracy: 0.5854\n",
      "Epoch 25/120\n",
      "240/240 [==============================] - 155s 646ms/step - loss: 1.1055 - accuracy: 0.5234 - val_loss: 1.0289 - val_accuracy: 0.5724\n",
      "Epoch 26/120\n",
      "240/240 [==============================] - 156s 648ms/step - loss: 1.1115 - accuracy: 0.5216 - val_loss: 0.9466 - val_accuracy: 0.5760\n",
      "Epoch 27/120\n",
      "240/240 [==============================] - 155s 647ms/step - loss: 1.1048 - accuracy: 0.5245 - val_loss: 0.9687 - val_accuracy: 0.5819\n",
      "Epoch 28/120\n",
      "240/240 [==============================] - 155s 647ms/step - loss: 1.0955 - accuracy: 0.5344 - val_loss: 0.9554 - val_accuracy: 0.5595\n",
      "Epoch 29/120\n",
      "240/240 [==============================] - 155s 647ms/step - loss: 1.0866 - accuracy: 0.5264 - val_loss: 0.9614 - val_accuracy: 0.5807\n",
      "Epoch 30/120\n",
      "240/240 [==============================] - 156s 649ms/step - loss: 1.0842 - accuracy: 0.5361 - val_loss: 0.9660 - val_accuracy: 0.5736\n",
      "Epoch 31/120\n",
      "240/240 [==============================] - 156s 648ms/step - loss: 1.0890 - accuracy: 0.5309 - val_loss: 0.9674 - val_accuracy: 0.5913\n",
      "Epoch 32/120\n",
      "240/240 [==============================] - 155s 648ms/step - loss: 1.0851 - accuracy: 0.5344 - val_loss: 0.9862 - val_accuracy: 0.5701\n",
      "Epoch 33/120\n",
      "240/240 [==============================] - 155s 648ms/step - loss: 1.0869 - accuracy: 0.5372 - val_loss: 0.9557 - val_accuracy: 0.6066\n",
      "Epoch 34/120\n",
      "240/240 [==============================] - 155s 646ms/step - loss: 1.0792 - accuracy: 0.5405 - val_loss: 0.9534 - val_accuracy: 0.6066\n",
      "Epoch 35/120\n",
      "240/240 [==============================] - 155s 647ms/step - loss: 1.0777 - accuracy: 0.5439 - val_loss: 0.9511 - val_accuracy: 0.6125\n",
      "Epoch 36/120\n",
      "240/240 [==============================] - 156s 648ms/step - loss: 1.0835 - accuracy: 0.5398 - val_loss: 0.9522 - val_accuracy: 0.5960\n",
      "Epoch 37/120\n",
      "240/240 [==============================] - 155s 646ms/step - loss: 1.0721 - accuracy: 0.5385 - val_loss: 1.0300 - val_accuracy: 0.5595\n",
      "Epoch 38/120\n",
      "240/240 [==============================] - 155s 647ms/step - loss: 1.0721 - accuracy: 0.5496 - val_loss: 0.9889 - val_accuracy: 0.5866\n",
      "Epoch 39/120\n",
      "240/240 [==============================] - 155s 647ms/step - loss: 1.0614 - accuracy: 0.5430 - val_loss: 0.9554 - val_accuracy: 0.5984\n",
      "Epoch 40/120\n",
      "240/240 [==============================] - 157s 653ms/step - loss: 1.0741 - accuracy: 0.5385 - val_loss: 0.9089 - val_accuracy: 0.5984\n",
      "Epoch 41/120\n",
      "240/240 [==============================] - 156s 650ms/step - loss: 1.0733 - accuracy: 0.5379 - val_loss: 0.9981 - val_accuracy: 0.5701\n",
      "Epoch 42/120\n",
      "240/240 [==============================] - 155s 647ms/step - loss: 1.0715 - accuracy: 0.5375 - val_loss: 0.9453 - val_accuracy: 0.5878\n",
      "Epoch 43/120\n",
      "240/240 [==============================] - 155s 647ms/step - loss: 1.0650 - accuracy: 0.5529 - val_loss: 0.9542 - val_accuracy: 0.5936\n",
      "Epoch 44/120\n",
      "240/240 [==============================] - 155s 648ms/step - loss: 1.0692 - accuracy: 0.5384 - val_loss: 0.9053 - val_accuracy: 0.6007\n",
      "Epoch 45/120\n",
      "240/240 [==============================] - 155s 647ms/step - loss: 1.0606 - accuracy: 0.5605 - val_loss: 0.9098 - val_accuracy: 0.6243\n",
      "Epoch 46/120\n",
      "240/240 [==============================] - 155s 647ms/step - loss: 1.0599 - accuracy: 0.5484 - val_loss: 0.9155 - val_accuracy: 0.5936\n",
      "Epoch 47/120\n",
      "240/240 [==============================] - 155s 648ms/step - loss: 1.0583 - accuracy: 0.5499 - val_loss: 0.9545 - val_accuracy: 0.5866\n",
      "Epoch 48/120\n",
      "240/240 [==============================] - 155s 647ms/step - loss: 1.0445 - accuracy: 0.5527 - val_loss: 0.9041 - val_accuracy: 0.6066\n",
      "Epoch 49/120\n",
      "240/240 [==============================] - 155s 647ms/step - loss: 1.0612 - accuracy: 0.5453 - val_loss: 0.9267 - val_accuracy: 0.5984\n",
      "Epoch 50/120\n",
      "240/240 [==============================] - 155s 648ms/step - loss: 1.0571 - accuracy: 0.5471 - val_loss: 0.9534 - val_accuracy: 0.5842\n",
      "Epoch 51/120\n",
      "240/240 [==============================] - 155s 648ms/step - loss: 1.0517 - accuracy: 0.5520 - val_loss: 0.8982 - val_accuracy: 0.6196\n",
      "Epoch 52/120\n",
      "240/240 [==============================] - 156s 648ms/step - loss: 1.0410 - accuracy: 0.5582 - val_loss: 0.9217 - val_accuracy: 0.6219\n",
      "Epoch 53/120\n",
      "240/240 [==============================] - 156s 648ms/step - loss: 1.0494 - accuracy: 0.5574 - val_loss: 0.8971 - val_accuracy: 0.6219\n",
      "Epoch 54/120\n",
      "240/240 [==============================] - 155s 646ms/step - loss: 1.0522 - accuracy: 0.5560 - val_loss: 0.9395 - val_accuracy: 0.6066\n",
      "Epoch 55/120\n",
      "240/240 [==============================] - 155s 647ms/step - loss: 1.0364 - accuracy: 0.5530 - val_loss: 0.9128 - val_accuracy: 0.5984\n",
      "Epoch 56/120\n",
      "240/240 [==============================] - 155s 646ms/step - loss: 1.0337 - accuracy: 0.5560 - val_loss: 0.8899 - val_accuracy: 0.6196\n",
      "Epoch 57/120\n",
      "240/240 [==============================] - 156s 652ms/step - loss: 1.0476 - accuracy: 0.5595 - val_loss: 0.8839 - val_accuracy: 0.6337\n",
      "Epoch 58/120\n",
      "240/240 [==============================] - 157s 653ms/step - loss: 1.0443 - accuracy: 0.5510 - val_loss: 0.8623 - val_accuracy: 0.6243\n",
      "Epoch 59/120\n",
      "240/240 [==============================] - 155s 647ms/step - loss: 1.0337 - accuracy: 0.5632 - val_loss: 0.8369 - val_accuracy: 0.6678\n",
      "Epoch 60/120\n",
      "240/240 [==============================] - 155s 646ms/step - loss: 1.0542 - accuracy: 0.5517 - val_loss: 0.8771 - val_accuracy: 0.6502\n",
      "Epoch 61/120\n",
      "240/240 [==============================] - 155s 646ms/step - loss: 1.0199 - accuracy: 0.5686 - val_loss: 0.8561 - val_accuracy: 0.6443\n",
      "Epoch 62/120\n",
      "240/240 [==============================] - 155s 645ms/step - loss: 1.0379 - accuracy: 0.5651 - val_loss: 0.9188 - val_accuracy: 0.6031\n",
      "Epoch 63/120\n",
      "240/240 [==============================] - 155s 647ms/step - loss: 1.0343 - accuracy: 0.5552 - val_loss: 0.8984 - val_accuracy: 0.6113\n",
      "Epoch 64/120\n",
      "240/240 [==============================] - 155s 647ms/step - loss: 1.0280 - accuracy: 0.5652 - val_loss: 0.8466 - val_accuracy: 0.6620\n",
      "Epoch 65/120\n",
      "240/240 [==============================] - 155s 647ms/step - loss: 1.0228 - accuracy: 0.5685 - val_loss: 0.8504 - val_accuracy: 0.6137\n",
      "Epoch 66/120\n",
      "240/240 [==============================] - 155s 647ms/step - loss: 1.0300 - accuracy: 0.5685 - val_loss: 0.9115 - val_accuracy: 0.6266\n",
      "Epoch 67/120\n",
      "240/240 [==============================] - 155s 646ms/step - loss: 1.0359 - accuracy: 0.5630 - val_loss: 0.9019 - val_accuracy: 0.6290\n",
      "Epoch 68/120\n",
      "240/240 [==============================] - 155s 646ms/step - loss: 1.0349 - accuracy: 0.5615 - val_loss: 0.9218 - val_accuracy: 0.6113\n",
      "Epoch 69/120\n",
      "240/240 [==============================] - 155s 644ms/step - loss: 1.0254 - accuracy: 0.5659 - val_loss: 0.9562 - val_accuracy: 0.5842\n",
      "Epoch 70/120\n",
      "240/240 [==============================] - 154s 643ms/step - loss: 1.0187 - accuracy: 0.5724 - val_loss: 0.9225 - val_accuracy: 0.6207\n",
      "Epoch 71/120\n",
      "240/240 [==============================] - 154s 643ms/step - loss: 1.0205 - accuracy: 0.5690 - val_loss: 0.9070 - val_accuracy: 0.6466\n",
      "Epoch 72/120\n",
      "240/240 [==============================] - 154s 643ms/step - loss: 1.0119 - accuracy: 0.5794 - val_loss: 0.9018 - val_accuracy: 0.6148\n",
      "Epoch 73/120\n",
      "240/240 [==============================] - 154s 642ms/step - loss: 1.0187 - accuracy: 0.5680 - val_loss: 0.8730 - val_accuracy: 0.6042\n",
      "Epoch 74/120\n",
      "240/240 [==============================] - 154s 642ms/step - loss: 1.0100 - accuracy: 0.5730 - val_loss: 0.8878 - val_accuracy: 0.6431\n",
      "Epoch 75/120\n",
      "240/240 [==============================] - 154s 642ms/step - loss: 1.0153 - accuracy: 0.5742 - val_loss: 0.8675 - val_accuracy: 0.6396\n",
      "Epoch 76/120\n",
      "240/240 [==============================] - 154s 643ms/step - loss: 1.0165 - accuracy: 0.5717 - val_loss: 0.8886 - val_accuracy: 0.6090\n",
      "Epoch 77/120\n",
      "240/240 [==============================] - 154s 644ms/step - loss: 1.0132 - accuracy: 0.5665 - val_loss: 0.9080 - val_accuracy: 0.6207\n",
      "Epoch 78/120\n",
      "240/240 [==============================] - 154s 642ms/step - loss: 1.0096 - accuracy: 0.5708 - val_loss: 0.8536 - val_accuracy: 0.6466\n",
      "Epoch 79/120\n",
      "240/240 [==============================] - 154s 641ms/step - loss: 1.0158 - accuracy: 0.5727 - val_loss: 0.8753 - val_accuracy: 0.6443\n",
      "Epoch 80/120\n",
      "240/240 [==============================] - 154s 642ms/step - loss: 1.0042 - accuracy: 0.5775 - val_loss: 0.8703 - val_accuracy: 0.6796\n",
      "Epoch 81/120\n",
      "240/240 [==============================] - 154s 642ms/step - loss: 1.0185 - accuracy: 0.5802 - val_loss: 0.8124 - val_accuracy: 0.6690\n",
      "Epoch 82/120\n",
      "240/240 [==============================] - 154s 642ms/step - loss: 1.0065 - accuracy: 0.5788 - val_loss: 0.8413 - val_accuracy: 0.6525\n",
      "Epoch 83/120\n",
      "240/240 [==============================] - 154s 641ms/step - loss: 1.0046 - accuracy: 0.5682 - val_loss: 0.8129 - val_accuracy: 0.6537\n",
      "Epoch 84/120\n",
      "240/240 [==============================] - 154s 640ms/step - loss: 1.0035 - accuracy: 0.5740 - val_loss: 0.8616 - val_accuracy: 0.6643\n",
      "Epoch 85/120\n",
      "240/240 [==============================] - 154s 640ms/step - loss: 0.9978 - accuracy: 0.5797 - val_loss: 0.8344 - val_accuracy: 0.6243\n",
      "Epoch 86/120\n",
      "240/240 [==============================] - 153s 639ms/step - loss: 1.0133 - accuracy: 0.5754 - val_loss: 0.8262 - val_accuracy: 0.6278\n",
      "Epoch 87/120\n",
      "240/240 [==============================] - 155s 644ms/step - loss: 1.0011 - accuracy: 0.5814 - val_loss: 0.8732 - val_accuracy: 0.6302\n",
      "Epoch 88/120\n",
      "240/240 [==============================] - 156s 649ms/step - loss: 1.0105 - accuracy: 0.5716 - val_loss: 0.8971 - val_accuracy: 0.6455\n",
      "Epoch 89/120\n",
      "240/240 [==============================] - 154s 640ms/step - loss: 0.9929 - accuracy: 0.5841 - val_loss: 0.8759 - val_accuracy: 0.6184\n",
      "Epoch 90/120\n",
      "240/240 [==============================] - 154s 640ms/step - loss: 0.9922 - accuracy: 0.5793 - val_loss: 0.7856 - val_accuracy: 0.6726\n",
      "Epoch 91/120\n",
      "240/240 [==============================] - 154s 640ms/step - loss: 0.9992 - accuracy: 0.5786 - val_loss: 0.8378 - val_accuracy: 0.6608\n",
      "Epoch 92/120\n",
      "240/240 [==============================] - 154s 640ms/step - loss: 1.0032 - accuracy: 0.5740 - val_loss: 0.8512 - val_accuracy: 0.6490\n",
      "Epoch 93/120\n",
      "240/240 [==============================] - 153s 639ms/step - loss: 0.9929 - accuracy: 0.5854 - val_loss: 0.8094 - val_accuracy: 0.6678\n",
      "Epoch 94/120\n",
      "240/240 [==============================] - 154s 640ms/step - loss: 0.9941 - accuracy: 0.5766 - val_loss: 0.8591 - val_accuracy: 0.6478\n",
      "Epoch 95/120\n",
      "240/240 [==============================] - 154s 640ms/step - loss: 1.0138 - accuracy: 0.5755 - val_loss: 0.8817 - val_accuracy: 0.6148\n",
      "Epoch 96/120\n",
      "240/240 [==============================] - 154s 642ms/step - loss: 1.0017 - accuracy: 0.5820 - val_loss: 0.8422 - val_accuracy: 0.6514\n",
      "Epoch 97/120\n",
      "240/240 [==============================] - 154s 640ms/step - loss: 1.0080 - accuracy: 0.5813 - val_loss: 0.8250 - val_accuracy: 0.6631\n",
      "Epoch 98/120\n",
      "240/240 [==============================] - 154s 640ms/step - loss: 1.0079 - accuracy: 0.5779 - val_loss: 0.8617 - val_accuracy: 0.6490\n",
      "Epoch 99/120\n",
      "240/240 [==============================] - 154s 641ms/step - loss: 0.9865 - accuracy: 0.5837 - val_loss: 0.8743 - val_accuracy: 0.6525\n",
      "Epoch 100/120\n",
      "240/240 [==============================] - 154s 640ms/step - loss: 0.9867 - accuracy: 0.5837 - val_loss: 0.8378 - val_accuracy: 0.6360\n",
      "Epoch 101/120\n",
      "240/240 [==============================] - 154s 641ms/step - loss: 0.9939 - accuracy: 0.5853 - val_loss: 0.7719 - val_accuracy: 0.6478\n",
      "Epoch 102/120\n",
      "240/240 [==============================] - 154s 640ms/step - loss: 0.9873 - accuracy: 0.5849 - val_loss: 0.8227 - val_accuracy: 0.6584\n",
      "Epoch 103/120\n",
      "240/240 [==============================] - 153s 639ms/step - loss: 0.9918 - accuracy: 0.5876 - val_loss: 0.8236 - val_accuracy: 0.6655\n",
      "Epoch 104/120\n",
      "240/240 [==============================] - 155s 645ms/step - loss: 0.9828 - accuracy: 0.5918 - val_loss: 0.9035 - val_accuracy: 0.6466\n",
      "Epoch 105/120\n",
      "240/240 [==============================] - 154s 640ms/step - loss: 0.9745 - accuracy: 0.5892 - val_loss: 0.8320 - val_accuracy: 0.6572\n",
      "Epoch 106/120\n",
      "240/240 [==============================] - 154s 641ms/step - loss: 0.9938 - accuracy: 0.5792 - val_loss: 0.8378 - val_accuracy: 0.6443\n",
      "Epoch 107/120\n",
      "240/240 [==============================] - 154s 640ms/step - loss: 0.9899 - accuracy: 0.5818 - val_loss: 0.8324 - val_accuracy: 0.6584\n",
      "Epoch 108/120\n",
      "240/240 [==============================] - 154s 642ms/step - loss: 0.9788 - accuracy: 0.5927 - val_loss: 0.8727 - val_accuracy: 0.6384\n",
      "Epoch 109/120\n",
      "240/240 [==============================] - 154s 640ms/step - loss: 0.9898 - accuracy: 0.5846 - val_loss: 0.8425 - val_accuracy: 0.6631\n",
      "Epoch 110/120\n",
      "240/240 [==============================] - 154s 641ms/step - loss: 0.9899 - accuracy: 0.5818 - val_loss: 0.8181 - val_accuracy: 0.6773\n",
      "Epoch 111/120\n",
      "240/240 [==============================] - 154s 640ms/step - loss: 0.9901 - accuracy: 0.5876 - val_loss: 0.8198 - val_accuracy: 0.6714\n",
      "Epoch 112/120\n",
      "240/240 [==============================] - 154s 641ms/step - loss: 0.9878 - accuracy: 0.5928 - val_loss: 0.8363 - val_accuracy: 0.6667\n",
      "Epoch 113/120\n",
      "240/240 [==============================] - 154s 641ms/step - loss: 0.9747 - accuracy: 0.5932 - val_loss: 0.8312 - val_accuracy: 0.6337\n",
      "Epoch 114/120\n",
      "240/240 [==============================] - 154s 641ms/step - loss: 0.9727 - accuracy: 0.5882 - val_loss: 0.7943 - val_accuracy: 0.6596\n",
      "Epoch 115/120\n",
      "240/240 [==============================] - 154s 640ms/step - loss: 0.9906 - accuracy: 0.5897 - val_loss: 0.8302 - val_accuracy: 0.6537\n",
      "Epoch 116/120\n",
      "240/240 [==============================] - 154s 640ms/step - loss: 0.9725 - accuracy: 0.5978 - val_loss: 0.7714 - val_accuracy: 0.6714\n",
      "Epoch 117/120\n",
      "240/240 [==============================] - 154s 641ms/step - loss: 0.9778 - accuracy: 0.5840 - val_loss: 0.7568 - val_accuracy: 0.6949\n",
      "Epoch 118/120\n",
      "240/240 [==============================] - 154s 641ms/step - loss: 0.9816 - accuracy: 0.5883 - val_loss: 0.8457 - val_accuracy: 0.6525\n",
      "Epoch 119/120\n",
      "240/240 [==============================] - 154s 640ms/step - loss: 0.9794 - accuracy: 0.5910 - val_loss: 0.8241 - val_accuracy: 0.6596\n",
      "Epoch 120/120\n",
      "240/240 [==============================] - 154s 641ms/step - loss: 0.9873 - accuracy: 0.5901 - val_loss: 0.8302 - val_accuracy: 0.6690\n"
     ]
    }
   ],
   "source": [
    "optimizer = tf.keras.optimizers.Adam(0.01)\n",
    "loss = tf.keras.losses.CategoricalCrossentropy()  # categorical = one-hot\n",
    "acc = tf.keras.metrics.CategoricalAccuracy('accuracy')\n",
    "\n",
    "model.compile(optimizer=optimizer, loss=loss, metrics=[acc])\n",
    "\n",
    "history = model.fit(train, validation_data=val, epochs=120)"
   ]
  },
  {
   "cell_type": "code",
   "execution_count": null,
   "metadata": {},
   "outputs": [],
   "source": []
  }
 ],
 "metadata": {
  "kernelspec": {
   "display_name": "Python 3.8.6",
   "language": "python",
   "name": "python_3.8.6"
  },
  "language_info": {
   "codemirror_mode": {
    "name": "ipython",
    "version": 3
   },
   "file_extension": ".py",
   "mimetype": "text/x-python",
   "name": "python",
   "nbconvert_exporter": "python",
   "pygments_lexer": "ipython3",
   "version": "3.8.6"
  }
 },
 "nbformat": 4,
 "nbformat_minor": 4
}
