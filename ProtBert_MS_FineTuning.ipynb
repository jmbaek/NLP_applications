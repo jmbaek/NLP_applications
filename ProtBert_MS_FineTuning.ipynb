{
  "nbformat": 4,
  "nbformat_minor": 0,
  "metadata": {
    "colab": {
      "name": "ProtBert-MS-FineTuning.ipynb",
      "provenance": [],
      "collapsed_sections": [],
      "machine_shape": "hm",
      "include_colab_link": true
    },
    "kernelspec": {
      "name": "python3",
      "display_name": "Python 3"
    },
    "widgets": {
      "application/vnd.jupyter.widget-state+json": {
        "eb553ea470544af391d57e286a973b50": {
          "model_module": "@jupyter-widgets/controls",
          "model_name": "HBoxModel",
          "model_module_version": "1.5.0",
          "state": {
            "_dom_classes": [],
            "_model_module": "@jupyter-widgets/controls",
            "_model_module_version": "1.5.0",
            "_model_name": "HBoxModel",
            "_view_count": null,
            "_view_module": "@jupyter-widgets/controls",
            "_view_module_version": "1.5.0",
            "_view_name": "HBoxView",
            "box_style": "",
            "children": [
              "IPY_MODEL_41d984aacddc4a6bb64422ac41ab9e97",
              "IPY_MODEL_05801b50840b464f8d56ea1f69ee0180",
              "IPY_MODEL_6297f607a2614499a22b9791b5df3c60"
            ],
            "layout": "IPY_MODEL_51243abc8750463d994fe2ebe8eb2812"
          }
        },
        "41d984aacddc4a6bb64422ac41ab9e97": {
          "model_module": "@jupyter-widgets/controls",
          "model_name": "HTMLModel",
          "model_module_version": "1.5.0",
          "state": {
            "_dom_classes": [],
            "_model_module": "@jupyter-widgets/controls",
            "_model_module_version": "1.5.0",
            "_model_name": "HTMLModel",
            "_view_count": null,
            "_view_module": "@jupyter-widgets/controls",
            "_view_module_version": "1.5.0",
            "_view_name": "HTMLView",
            "description": "",
            "description_tooltip": null,
            "layout": "IPY_MODEL_dabdb86eb69f4556a1de2402e0ac2f55",
            "placeholder": "​",
            "style": "IPY_MODEL_7099faa116c948fc94005886c85906dd",
            "value": "dataset/deeploc_per_protein_train.csv: 100%"
          }
        },
        "05801b50840b464f8d56ea1f69ee0180": {
          "model_module": "@jupyter-widgets/controls",
          "model_name": "FloatProgressModel",
          "model_module_version": "1.5.0",
          "state": {
            "_dom_classes": [],
            "_model_module": "@jupyter-widgets/controls",
            "_model_module_version": "1.5.0",
            "_model_name": "FloatProgressModel",
            "_view_count": null,
            "_view_module": "@jupyter-widgets/controls",
            "_view_module_version": "1.5.0",
            "_view_name": "ProgressView",
            "bar_style": "success",
            "description": "",
            "description_tooltip": null,
            "layout": "IPY_MODEL_3356fd6533a04804b78483519b5e941b",
            "max": 7417223,
            "min": 0,
            "orientation": "horizontal",
            "style": "IPY_MODEL_18398bcd6c8643c582150ea756c49761",
            "value": 7417223
          }
        },
        "6297f607a2614499a22b9791b5df3c60": {
          "model_module": "@jupyter-widgets/controls",
          "model_name": "HTMLModel",
          "model_module_version": "1.5.0",
          "state": {
            "_dom_classes": [],
            "_model_module": "@jupyter-widgets/controls",
            "_model_module_version": "1.5.0",
            "_model_name": "HTMLModel",
            "_view_count": null,
            "_view_module": "@jupyter-widgets/controls",
            "_view_module_version": "1.5.0",
            "_view_name": "HTMLView",
            "description": "",
            "description_tooltip": null,
            "layout": "IPY_MODEL_ceb866927b52463bb68e7490eac66fcf",
            "placeholder": "​",
            "style": "IPY_MODEL_b4ca305488bc4e4383331191c214e557",
            "value": " 7.07M/7.07M [00:00&lt;00:00, 71.3MB/s]"
          }
        },
        "51243abc8750463d994fe2ebe8eb2812": {
          "model_module": "@jupyter-widgets/base",
          "model_name": "LayoutModel",
          "model_module_version": "1.2.0",
          "state": {
            "_model_module": "@jupyter-widgets/base",
            "_model_module_version": "1.2.0",
            "_model_name": "LayoutModel",
            "_view_count": null,
            "_view_module": "@jupyter-widgets/base",
            "_view_module_version": "1.2.0",
            "_view_name": "LayoutView",
            "align_content": null,
            "align_items": null,
            "align_self": null,
            "border": null,
            "bottom": null,
            "display": null,
            "flex": null,
            "flex_flow": null,
            "grid_area": null,
            "grid_auto_columns": null,
            "grid_auto_flow": null,
            "grid_auto_rows": null,
            "grid_column": null,
            "grid_gap": null,
            "grid_row": null,
            "grid_template_areas": null,
            "grid_template_columns": null,
            "grid_template_rows": null,
            "height": null,
            "justify_content": null,
            "justify_items": null,
            "left": null,
            "margin": null,
            "max_height": null,
            "max_width": null,
            "min_height": null,
            "min_width": null,
            "object_fit": null,
            "object_position": null,
            "order": null,
            "overflow": null,
            "overflow_x": null,
            "overflow_y": null,
            "padding": null,
            "right": null,
            "top": null,
            "visibility": null,
            "width": null
          }
        },
        "dabdb86eb69f4556a1de2402e0ac2f55": {
          "model_module": "@jupyter-widgets/base",
          "model_name": "LayoutModel",
          "model_module_version": "1.2.0",
          "state": {
            "_model_module": "@jupyter-widgets/base",
            "_model_module_version": "1.2.0",
            "_model_name": "LayoutModel",
            "_view_count": null,
            "_view_module": "@jupyter-widgets/base",
            "_view_module_version": "1.2.0",
            "_view_name": "LayoutView",
            "align_content": null,
            "align_items": null,
            "align_self": null,
            "border": null,
            "bottom": null,
            "display": null,
            "flex": null,
            "flex_flow": null,
            "grid_area": null,
            "grid_auto_columns": null,
            "grid_auto_flow": null,
            "grid_auto_rows": null,
            "grid_column": null,
            "grid_gap": null,
            "grid_row": null,
            "grid_template_areas": null,
            "grid_template_columns": null,
            "grid_template_rows": null,
            "height": null,
            "justify_content": null,
            "justify_items": null,
            "left": null,
            "margin": null,
            "max_height": null,
            "max_width": null,
            "min_height": null,
            "min_width": null,
            "object_fit": null,
            "object_position": null,
            "order": null,
            "overflow": null,
            "overflow_x": null,
            "overflow_y": null,
            "padding": null,
            "right": null,
            "top": null,
            "visibility": null,
            "width": null
          }
        },
        "7099faa116c948fc94005886c85906dd": {
          "model_module": "@jupyter-widgets/controls",
          "model_name": "DescriptionStyleModel",
          "model_module_version": "1.5.0",
          "state": {
            "_model_module": "@jupyter-widgets/controls",
            "_model_module_version": "1.5.0",
            "_model_name": "DescriptionStyleModel",
            "_view_count": null,
            "_view_module": "@jupyter-widgets/base",
            "_view_module_version": "1.2.0",
            "_view_name": "StyleView",
            "description_width": ""
          }
        },
        "3356fd6533a04804b78483519b5e941b": {
          "model_module": "@jupyter-widgets/base",
          "model_name": "LayoutModel",
          "model_module_version": "1.2.0",
          "state": {
            "_model_module": "@jupyter-widgets/base",
            "_model_module_version": "1.2.0",
            "_model_name": "LayoutModel",
            "_view_count": null,
            "_view_module": "@jupyter-widgets/base",
            "_view_module_version": "1.2.0",
            "_view_name": "LayoutView",
            "align_content": null,
            "align_items": null,
            "align_self": null,
            "border": null,
            "bottom": null,
            "display": null,
            "flex": null,
            "flex_flow": null,
            "grid_area": null,
            "grid_auto_columns": null,
            "grid_auto_flow": null,
            "grid_auto_rows": null,
            "grid_column": null,
            "grid_gap": null,
            "grid_row": null,
            "grid_template_areas": null,
            "grid_template_columns": null,
            "grid_template_rows": null,
            "height": null,
            "justify_content": null,
            "justify_items": null,
            "left": null,
            "margin": null,
            "max_height": null,
            "max_width": null,
            "min_height": null,
            "min_width": null,
            "object_fit": null,
            "object_position": null,
            "order": null,
            "overflow": null,
            "overflow_x": null,
            "overflow_y": null,
            "padding": null,
            "right": null,
            "top": null,
            "visibility": null,
            "width": null
          }
        },
        "18398bcd6c8643c582150ea756c49761": {
          "model_module": "@jupyter-widgets/controls",
          "model_name": "ProgressStyleModel",
          "model_module_version": "1.5.0",
          "state": {
            "_model_module": "@jupyter-widgets/controls",
            "_model_module_version": "1.5.0",
            "_model_name": "ProgressStyleModel",
            "_view_count": null,
            "_view_module": "@jupyter-widgets/base",
            "_view_module_version": "1.2.0",
            "_view_name": "StyleView",
            "bar_color": null,
            "description_width": ""
          }
        },
        "ceb866927b52463bb68e7490eac66fcf": {
          "model_module": "@jupyter-widgets/base",
          "model_name": "LayoutModel",
          "model_module_version": "1.2.0",
          "state": {
            "_model_module": "@jupyter-widgets/base",
            "_model_module_version": "1.2.0",
            "_model_name": "LayoutModel",
            "_view_count": null,
            "_view_module": "@jupyter-widgets/base",
            "_view_module_version": "1.2.0",
            "_view_name": "LayoutView",
            "align_content": null,
            "align_items": null,
            "align_self": null,
            "border": null,
            "bottom": null,
            "display": null,
            "flex": null,
            "flex_flow": null,
            "grid_area": null,
            "grid_auto_columns": null,
            "grid_auto_flow": null,
            "grid_auto_rows": null,
            "grid_column": null,
            "grid_gap": null,
            "grid_row": null,
            "grid_template_areas": null,
            "grid_template_columns": null,
            "grid_template_rows": null,
            "height": null,
            "justify_content": null,
            "justify_items": null,
            "left": null,
            "margin": null,
            "max_height": null,
            "max_width": null,
            "min_height": null,
            "min_width": null,
            "object_fit": null,
            "object_position": null,
            "order": null,
            "overflow": null,
            "overflow_x": null,
            "overflow_y": null,
            "padding": null,
            "right": null,
            "top": null,
            "visibility": null,
            "width": null
          }
        },
        "b4ca305488bc4e4383331191c214e557": {
          "model_module": "@jupyter-widgets/controls",
          "model_name": "DescriptionStyleModel",
          "model_module_version": "1.5.0",
          "state": {
            "_model_module": "@jupyter-widgets/controls",
            "_model_module_version": "1.5.0",
            "_model_name": "DescriptionStyleModel",
            "_view_count": null,
            "_view_module": "@jupyter-widgets/base",
            "_view_module_version": "1.2.0",
            "_view_name": "StyleView",
            "description_width": ""
          }
        },
        "1db21018ddfa4d71a359bf69e94e2f13": {
          "model_module": "@jupyter-widgets/controls",
          "model_name": "HBoxModel",
          "model_module_version": "1.5.0",
          "state": {
            "_dom_classes": [],
            "_model_module": "@jupyter-widgets/controls",
            "_model_module_version": "1.5.0",
            "_model_name": "HBoxModel",
            "_view_count": null,
            "_view_module": "@jupyter-widgets/controls",
            "_view_module_version": "1.5.0",
            "_view_name": "HBoxView",
            "box_style": "",
            "children": [
              "IPY_MODEL_61f2c5a0597a40dc81deb6ac5d0ee293",
              "IPY_MODEL_9997d53b31394d9489bb04dbae3988df",
              "IPY_MODEL_7210ae24191849b6b30b02cb1970ae4d"
            ],
            "layout": "IPY_MODEL_1018912c941f494098f391e421cd390c"
          }
        },
        "61f2c5a0597a40dc81deb6ac5d0ee293": {
          "model_module": "@jupyter-widgets/controls",
          "model_name": "HTMLModel",
          "model_module_version": "1.5.0",
          "state": {
            "_dom_classes": [],
            "_model_module": "@jupyter-widgets/controls",
            "_model_module_version": "1.5.0",
            "_model_name": "HTMLModel",
            "_view_count": null,
            "_view_module": "@jupyter-widgets/controls",
            "_view_module_version": "1.5.0",
            "_view_name": "HTMLView",
            "description": "",
            "description_tooltip": null,
            "layout": "IPY_MODEL_0d02ab3908cf4cd0aded54000da04158",
            "placeholder": "​",
            "style": "IPY_MODEL_bd2300f2846044aa8f108213d1926124",
            "value": "dataset/deeploc_per_protein_test.csv: 100%"
          }
        },
        "9997d53b31394d9489bb04dbae3988df": {
          "model_module": "@jupyter-widgets/controls",
          "model_name": "FloatProgressModel",
          "model_module_version": "1.5.0",
          "state": {
            "_dom_classes": [],
            "_model_module": "@jupyter-widgets/controls",
            "_model_module_version": "1.5.0",
            "_model_name": "FloatProgressModel",
            "_view_count": null,
            "_view_module": "@jupyter-widgets/controls",
            "_view_module_version": "1.5.0",
            "_view_name": "ProgressView",
            "bar_style": "success",
            "description": "",
            "description_tooltip": null,
            "layout": "IPY_MODEL_23d28c8ed4944cff9b69f399e8a0e7b3",
            "max": 2076681,
            "min": 0,
            "orientation": "horizontal",
            "style": "IPY_MODEL_e3b6663ed85e4d36bd1baf6aa7af3c48",
            "value": 2076681
          }
        },
        "7210ae24191849b6b30b02cb1970ae4d": {
          "model_module": "@jupyter-widgets/controls",
          "model_name": "HTMLModel",
          "model_module_version": "1.5.0",
          "state": {
            "_dom_classes": [],
            "_model_module": "@jupyter-widgets/controls",
            "_model_module_version": "1.5.0",
            "_model_name": "HTMLModel",
            "_view_count": null,
            "_view_module": "@jupyter-widgets/controls",
            "_view_module_version": "1.5.0",
            "_view_name": "HTMLView",
            "description": "",
            "description_tooltip": null,
            "layout": "IPY_MODEL_6a87c1c86a9c46a6a2ca02d8287ddc41",
            "placeholder": "​",
            "style": "IPY_MODEL_2796af901b5949719c9548f0c79a52e5",
            "value": " 1.98M/1.98M [00:00&lt;00:00, 31.4MB/s]"
          }
        },
        "1018912c941f494098f391e421cd390c": {
          "model_module": "@jupyter-widgets/base",
          "model_name": "LayoutModel",
          "model_module_version": "1.2.0",
          "state": {
            "_model_module": "@jupyter-widgets/base",
            "_model_module_version": "1.2.0",
            "_model_name": "LayoutModel",
            "_view_count": null,
            "_view_module": "@jupyter-widgets/base",
            "_view_module_version": "1.2.0",
            "_view_name": "LayoutView",
            "align_content": null,
            "align_items": null,
            "align_self": null,
            "border": null,
            "bottom": null,
            "display": null,
            "flex": null,
            "flex_flow": null,
            "grid_area": null,
            "grid_auto_columns": null,
            "grid_auto_flow": null,
            "grid_auto_rows": null,
            "grid_column": null,
            "grid_gap": null,
            "grid_row": null,
            "grid_template_areas": null,
            "grid_template_columns": null,
            "grid_template_rows": null,
            "height": null,
            "justify_content": null,
            "justify_items": null,
            "left": null,
            "margin": null,
            "max_height": null,
            "max_width": null,
            "min_height": null,
            "min_width": null,
            "object_fit": null,
            "object_position": null,
            "order": null,
            "overflow": null,
            "overflow_x": null,
            "overflow_y": null,
            "padding": null,
            "right": null,
            "top": null,
            "visibility": null,
            "width": null
          }
        },
        "0d02ab3908cf4cd0aded54000da04158": {
          "model_module": "@jupyter-widgets/base",
          "model_name": "LayoutModel",
          "model_module_version": "1.2.0",
          "state": {
            "_model_module": "@jupyter-widgets/base",
            "_model_module_version": "1.2.0",
            "_model_name": "LayoutModel",
            "_view_count": null,
            "_view_module": "@jupyter-widgets/base",
            "_view_module_version": "1.2.0",
            "_view_name": "LayoutView",
            "align_content": null,
            "align_items": null,
            "align_self": null,
            "border": null,
            "bottom": null,
            "display": null,
            "flex": null,
            "flex_flow": null,
            "grid_area": null,
            "grid_auto_columns": null,
            "grid_auto_flow": null,
            "grid_auto_rows": null,
            "grid_column": null,
            "grid_gap": null,
            "grid_row": null,
            "grid_template_areas": null,
            "grid_template_columns": null,
            "grid_template_rows": null,
            "height": null,
            "justify_content": null,
            "justify_items": null,
            "left": null,
            "margin": null,
            "max_height": null,
            "max_width": null,
            "min_height": null,
            "min_width": null,
            "object_fit": null,
            "object_position": null,
            "order": null,
            "overflow": null,
            "overflow_x": null,
            "overflow_y": null,
            "padding": null,
            "right": null,
            "top": null,
            "visibility": null,
            "width": null
          }
        },
        "bd2300f2846044aa8f108213d1926124": {
          "model_module": "@jupyter-widgets/controls",
          "model_name": "DescriptionStyleModel",
          "model_module_version": "1.5.0",
          "state": {
            "_model_module": "@jupyter-widgets/controls",
            "_model_module_version": "1.5.0",
            "_model_name": "DescriptionStyleModel",
            "_view_count": null,
            "_view_module": "@jupyter-widgets/base",
            "_view_module_version": "1.2.0",
            "_view_name": "StyleView",
            "description_width": ""
          }
        },
        "23d28c8ed4944cff9b69f399e8a0e7b3": {
          "model_module": "@jupyter-widgets/base",
          "model_name": "LayoutModel",
          "model_module_version": "1.2.0",
          "state": {
            "_model_module": "@jupyter-widgets/base",
            "_model_module_version": "1.2.0",
            "_model_name": "LayoutModel",
            "_view_count": null,
            "_view_module": "@jupyter-widgets/base",
            "_view_module_version": "1.2.0",
            "_view_name": "LayoutView",
            "align_content": null,
            "align_items": null,
            "align_self": null,
            "border": null,
            "bottom": null,
            "display": null,
            "flex": null,
            "flex_flow": null,
            "grid_area": null,
            "grid_auto_columns": null,
            "grid_auto_flow": null,
            "grid_auto_rows": null,
            "grid_column": null,
            "grid_gap": null,
            "grid_row": null,
            "grid_template_areas": null,
            "grid_template_columns": null,
            "grid_template_rows": null,
            "height": null,
            "justify_content": null,
            "justify_items": null,
            "left": null,
            "margin": null,
            "max_height": null,
            "max_width": null,
            "min_height": null,
            "min_width": null,
            "object_fit": null,
            "object_position": null,
            "order": null,
            "overflow": null,
            "overflow_x": null,
            "overflow_y": null,
            "padding": null,
            "right": null,
            "top": null,
            "visibility": null,
            "width": null
          }
        },
        "e3b6663ed85e4d36bd1baf6aa7af3c48": {
          "model_module": "@jupyter-widgets/controls",
          "model_name": "ProgressStyleModel",
          "model_module_version": "1.5.0",
          "state": {
            "_model_module": "@jupyter-widgets/controls",
            "_model_module_version": "1.5.0",
            "_model_name": "ProgressStyleModel",
            "_view_count": null,
            "_view_module": "@jupyter-widgets/base",
            "_view_module_version": "1.2.0",
            "_view_name": "StyleView",
            "bar_color": null,
            "description_width": ""
          }
        },
        "6a87c1c86a9c46a6a2ca02d8287ddc41": {
          "model_module": "@jupyter-widgets/base",
          "model_name": "LayoutModel",
          "model_module_version": "1.2.0",
          "state": {
            "_model_module": "@jupyter-widgets/base",
            "_model_module_version": "1.2.0",
            "_model_name": "LayoutModel",
            "_view_count": null,
            "_view_module": "@jupyter-widgets/base",
            "_view_module_version": "1.2.0",
            "_view_name": "LayoutView",
            "align_content": null,
            "align_items": null,
            "align_self": null,
            "border": null,
            "bottom": null,
            "display": null,
            "flex": null,
            "flex_flow": null,
            "grid_area": null,
            "grid_auto_columns": null,
            "grid_auto_flow": null,
            "grid_auto_rows": null,
            "grid_column": null,
            "grid_gap": null,
            "grid_row": null,
            "grid_template_areas": null,
            "grid_template_columns": null,
            "grid_template_rows": null,
            "height": null,
            "justify_content": null,
            "justify_items": null,
            "left": null,
            "margin": null,
            "max_height": null,
            "max_width": null,
            "min_height": null,
            "min_width": null,
            "object_fit": null,
            "object_position": null,
            "order": null,
            "overflow": null,
            "overflow_x": null,
            "overflow_y": null,
            "padding": null,
            "right": null,
            "top": null,
            "visibility": null,
            "width": null
          }
        },
        "2796af901b5949719c9548f0c79a52e5": {
          "model_module": "@jupyter-widgets/controls",
          "model_name": "DescriptionStyleModel",
          "model_module_version": "1.5.0",
          "state": {
            "_model_module": "@jupyter-widgets/controls",
            "_model_module_version": "1.5.0",
            "_model_name": "DescriptionStyleModel",
            "_view_count": null,
            "_view_module": "@jupyter-widgets/base",
            "_view_module_version": "1.2.0",
            "_view_name": "StyleView",
            "description_width": ""
          }
        },
        "ab5ce167f0de4f12949b2bdf69e9205a": {
          "model_module": "@jupyter-widgets/controls",
          "model_name": "HBoxModel",
          "model_module_version": "1.5.0",
          "state": {
            "_dom_classes": [],
            "_model_module": "@jupyter-widgets/controls",
            "_model_module_version": "1.5.0",
            "_model_name": "HBoxModel",
            "_view_count": null,
            "_view_module": "@jupyter-widgets/controls",
            "_view_module_version": "1.5.0",
            "_view_name": "HBoxView",
            "box_style": "",
            "children": [
              "IPY_MODEL_e122fd0e80564406812f8ce12f836b31",
              "IPY_MODEL_d8a1d878094f46bd8cdfec854ee2ffae",
              "IPY_MODEL_4fedc9c90b794149bd2e981dadb2cf89"
            ],
            "layout": "IPY_MODEL_c2f152af9612433d86db777ba642ecc3"
          }
        },
        "e122fd0e80564406812f8ce12f836b31": {
          "model_module": "@jupyter-widgets/controls",
          "model_name": "HTMLModel",
          "model_module_version": "1.5.0",
          "state": {
            "_dom_classes": [],
            "_model_module": "@jupyter-widgets/controls",
            "_model_module_version": "1.5.0",
            "_model_name": "HTMLModel",
            "_view_count": null,
            "_view_module": "@jupyter-widgets/controls",
            "_view_module_version": "1.5.0",
            "_view_name": "HTMLView",
            "description": "",
            "description_tooltip": null,
            "layout": "IPY_MODEL_0e2a9922196a4a989595d769caa1dfc5",
            "placeholder": "​",
            "style": "IPY_MODEL_f8ce38f990ca4872ac0f7616e5bfea46",
            "value": "Downloading: 100%"
          }
        },
        "d8a1d878094f46bd8cdfec854ee2ffae": {
          "model_module": "@jupyter-widgets/controls",
          "model_name": "FloatProgressModel",
          "model_module_version": "1.5.0",
          "state": {
            "_dom_classes": [],
            "_model_module": "@jupyter-widgets/controls",
            "_model_module_version": "1.5.0",
            "_model_name": "FloatProgressModel",
            "_view_count": null,
            "_view_module": "@jupyter-widgets/controls",
            "_view_module_version": "1.5.0",
            "_view_name": "ProgressView",
            "bar_style": "success",
            "description": "",
            "description_tooltip": null,
            "layout": "IPY_MODEL_1e738f02662c4183bc8020f625edc070",
            "max": 86,
            "min": 0,
            "orientation": "horizontal",
            "style": "IPY_MODEL_4a1e52505e724fcd8875d297bf0576d8",
            "value": 86
          }
        },
        "4fedc9c90b794149bd2e981dadb2cf89": {
          "model_module": "@jupyter-widgets/controls",
          "model_name": "HTMLModel",
          "model_module_version": "1.5.0",
          "state": {
            "_dom_classes": [],
            "_model_module": "@jupyter-widgets/controls",
            "_model_module_version": "1.5.0",
            "_model_name": "HTMLModel",
            "_view_count": null,
            "_view_module": "@jupyter-widgets/controls",
            "_view_module_version": "1.5.0",
            "_view_name": "HTMLView",
            "description": "",
            "description_tooltip": null,
            "layout": "IPY_MODEL_752c73e8a3f6482faa8d24344bb29c07",
            "placeholder": "​",
            "style": "IPY_MODEL_8d4ae36dbfa7430380a82753f880b307",
            "value": " 86.0/86.0 [00:00&lt;00:00, 3.42kB/s]"
          }
        },
        "c2f152af9612433d86db777ba642ecc3": {
          "model_module": "@jupyter-widgets/base",
          "model_name": "LayoutModel",
          "model_module_version": "1.2.0",
          "state": {
            "_model_module": "@jupyter-widgets/base",
            "_model_module_version": "1.2.0",
            "_model_name": "LayoutModel",
            "_view_count": null,
            "_view_module": "@jupyter-widgets/base",
            "_view_module_version": "1.2.0",
            "_view_name": "LayoutView",
            "align_content": null,
            "align_items": null,
            "align_self": null,
            "border": null,
            "bottom": null,
            "display": null,
            "flex": null,
            "flex_flow": null,
            "grid_area": null,
            "grid_auto_columns": null,
            "grid_auto_flow": null,
            "grid_auto_rows": null,
            "grid_column": null,
            "grid_gap": null,
            "grid_row": null,
            "grid_template_areas": null,
            "grid_template_columns": null,
            "grid_template_rows": null,
            "height": null,
            "justify_content": null,
            "justify_items": null,
            "left": null,
            "margin": null,
            "max_height": null,
            "max_width": null,
            "min_height": null,
            "min_width": null,
            "object_fit": null,
            "object_position": null,
            "order": null,
            "overflow": null,
            "overflow_x": null,
            "overflow_y": null,
            "padding": null,
            "right": null,
            "top": null,
            "visibility": null,
            "width": null
          }
        },
        "0e2a9922196a4a989595d769caa1dfc5": {
          "model_module": "@jupyter-widgets/base",
          "model_name": "LayoutModel",
          "model_module_version": "1.2.0",
          "state": {
            "_model_module": "@jupyter-widgets/base",
            "_model_module_version": "1.2.0",
            "_model_name": "LayoutModel",
            "_view_count": null,
            "_view_module": "@jupyter-widgets/base",
            "_view_module_version": "1.2.0",
            "_view_name": "LayoutView",
            "align_content": null,
            "align_items": null,
            "align_self": null,
            "border": null,
            "bottom": null,
            "display": null,
            "flex": null,
            "flex_flow": null,
            "grid_area": null,
            "grid_auto_columns": null,
            "grid_auto_flow": null,
            "grid_auto_rows": null,
            "grid_column": null,
            "grid_gap": null,
            "grid_row": null,
            "grid_template_areas": null,
            "grid_template_columns": null,
            "grid_template_rows": null,
            "height": null,
            "justify_content": null,
            "justify_items": null,
            "left": null,
            "margin": null,
            "max_height": null,
            "max_width": null,
            "min_height": null,
            "min_width": null,
            "object_fit": null,
            "object_position": null,
            "order": null,
            "overflow": null,
            "overflow_x": null,
            "overflow_y": null,
            "padding": null,
            "right": null,
            "top": null,
            "visibility": null,
            "width": null
          }
        },
        "f8ce38f990ca4872ac0f7616e5bfea46": {
          "model_module": "@jupyter-widgets/controls",
          "model_name": "DescriptionStyleModel",
          "model_module_version": "1.5.0",
          "state": {
            "_model_module": "@jupyter-widgets/controls",
            "_model_module_version": "1.5.0",
            "_model_name": "DescriptionStyleModel",
            "_view_count": null,
            "_view_module": "@jupyter-widgets/base",
            "_view_module_version": "1.2.0",
            "_view_name": "StyleView",
            "description_width": ""
          }
        },
        "1e738f02662c4183bc8020f625edc070": {
          "model_module": "@jupyter-widgets/base",
          "model_name": "LayoutModel",
          "model_module_version": "1.2.0",
          "state": {
            "_model_module": "@jupyter-widgets/base",
            "_model_module_version": "1.2.0",
            "_model_name": "LayoutModel",
            "_view_count": null,
            "_view_module": "@jupyter-widgets/base",
            "_view_module_version": "1.2.0",
            "_view_name": "LayoutView",
            "align_content": null,
            "align_items": null,
            "align_self": null,
            "border": null,
            "bottom": null,
            "display": null,
            "flex": null,
            "flex_flow": null,
            "grid_area": null,
            "grid_auto_columns": null,
            "grid_auto_flow": null,
            "grid_auto_rows": null,
            "grid_column": null,
            "grid_gap": null,
            "grid_row": null,
            "grid_template_areas": null,
            "grid_template_columns": null,
            "grid_template_rows": null,
            "height": null,
            "justify_content": null,
            "justify_items": null,
            "left": null,
            "margin": null,
            "max_height": null,
            "max_width": null,
            "min_height": null,
            "min_width": null,
            "object_fit": null,
            "object_position": null,
            "order": null,
            "overflow": null,
            "overflow_x": null,
            "overflow_y": null,
            "padding": null,
            "right": null,
            "top": null,
            "visibility": null,
            "width": null
          }
        },
        "4a1e52505e724fcd8875d297bf0576d8": {
          "model_module": "@jupyter-widgets/controls",
          "model_name": "ProgressStyleModel",
          "model_module_version": "1.5.0",
          "state": {
            "_model_module": "@jupyter-widgets/controls",
            "_model_module_version": "1.5.0",
            "_model_name": "ProgressStyleModel",
            "_view_count": null,
            "_view_module": "@jupyter-widgets/base",
            "_view_module_version": "1.2.0",
            "_view_name": "StyleView",
            "bar_color": null,
            "description_width": ""
          }
        },
        "752c73e8a3f6482faa8d24344bb29c07": {
          "model_module": "@jupyter-widgets/base",
          "model_name": "LayoutModel",
          "model_module_version": "1.2.0",
          "state": {
            "_model_module": "@jupyter-widgets/base",
            "_model_module_version": "1.2.0",
            "_model_name": "LayoutModel",
            "_view_count": null,
            "_view_module": "@jupyter-widgets/base",
            "_view_module_version": "1.2.0",
            "_view_name": "LayoutView",
            "align_content": null,
            "align_items": null,
            "align_self": null,
            "border": null,
            "bottom": null,
            "display": null,
            "flex": null,
            "flex_flow": null,
            "grid_area": null,
            "grid_auto_columns": null,
            "grid_auto_flow": null,
            "grid_auto_rows": null,
            "grid_column": null,
            "grid_gap": null,
            "grid_row": null,
            "grid_template_areas": null,
            "grid_template_columns": null,
            "grid_template_rows": null,
            "height": null,
            "justify_content": null,
            "justify_items": null,
            "left": null,
            "margin": null,
            "max_height": null,
            "max_width": null,
            "min_height": null,
            "min_width": null,
            "object_fit": null,
            "object_position": null,
            "order": null,
            "overflow": null,
            "overflow_x": null,
            "overflow_y": null,
            "padding": null,
            "right": null,
            "top": null,
            "visibility": null,
            "width": null
          }
        },
        "8d4ae36dbfa7430380a82753f880b307": {
          "model_module": "@jupyter-widgets/controls",
          "model_name": "DescriptionStyleModel",
          "model_module_version": "1.5.0",
          "state": {
            "_model_module": "@jupyter-widgets/controls",
            "_model_module_version": "1.5.0",
            "_model_name": "DescriptionStyleModel",
            "_view_count": null,
            "_view_module": "@jupyter-widgets/base",
            "_view_module_version": "1.2.0",
            "_view_name": "StyleView",
            "description_width": ""
          }
        },
        "f192ce813b3147128f92227a248ae2b2": {
          "model_module": "@jupyter-widgets/controls",
          "model_name": "HBoxModel",
          "model_module_version": "1.5.0",
          "state": {
            "_dom_classes": [],
            "_model_module": "@jupyter-widgets/controls",
            "_model_module_version": "1.5.0",
            "_model_name": "HBoxModel",
            "_view_count": null,
            "_view_module": "@jupyter-widgets/controls",
            "_view_module_version": "1.5.0",
            "_view_name": "HBoxView",
            "box_style": "",
            "children": [
              "IPY_MODEL_33f4be354e614cf3bce2e95509ace9fb",
              "IPY_MODEL_34b61d5ac87b43e9afd1c40dfe6297f9",
              "IPY_MODEL_bc1cb9a841a046f6ba426881d2e4ac3a"
            ],
            "layout": "IPY_MODEL_86e878edb88d4213b805a9d3be69c79c"
          }
        },
        "33f4be354e614cf3bce2e95509ace9fb": {
          "model_module": "@jupyter-widgets/controls",
          "model_name": "HTMLModel",
          "model_module_version": "1.5.0",
          "state": {
            "_dom_classes": [],
            "_model_module": "@jupyter-widgets/controls",
            "_model_module_version": "1.5.0",
            "_model_name": "HTMLModel",
            "_view_count": null,
            "_view_module": "@jupyter-widgets/controls",
            "_view_module_version": "1.5.0",
            "_view_name": "HTMLView",
            "description": "",
            "description_tooltip": null,
            "layout": "IPY_MODEL_afbf4c7cb56b41e38dd1248695c94f0e",
            "placeholder": "​",
            "style": "IPY_MODEL_d4b879fc8adb43459310cdc67b1cafa5",
            "value": "Downloading: 100%"
          }
        },
        "34b61d5ac87b43e9afd1c40dfe6297f9": {
          "model_module": "@jupyter-widgets/controls",
          "model_name": "FloatProgressModel",
          "model_module_version": "1.5.0",
          "state": {
            "_dom_classes": [],
            "_model_module": "@jupyter-widgets/controls",
            "_model_module_version": "1.5.0",
            "_model_name": "FloatProgressModel",
            "_view_count": null,
            "_view_module": "@jupyter-widgets/controls",
            "_view_module_version": "1.5.0",
            "_view_name": "ProgressView",
            "bar_style": "success",
            "description": "",
            "description_tooltip": null,
            "layout": "IPY_MODEL_a51667d2fd0f4b67816fd6109280143d",
            "max": 361,
            "min": 0,
            "orientation": "horizontal",
            "style": "IPY_MODEL_31ed48a3c4b341d29b7b3e27bd81f351",
            "value": 361
          }
        },
        "bc1cb9a841a046f6ba426881d2e4ac3a": {
          "model_module": "@jupyter-widgets/controls",
          "model_name": "HTMLModel",
          "model_module_version": "1.5.0",
          "state": {
            "_dom_classes": [],
            "_model_module": "@jupyter-widgets/controls",
            "_model_module_version": "1.5.0",
            "_model_name": "HTMLModel",
            "_view_count": null,
            "_view_module": "@jupyter-widgets/controls",
            "_view_module_version": "1.5.0",
            "_view_name": "HTMLView",
            "description": "",
            "description_tooltip": null,
            "layout": "IPY_MODEL_88a646260f3d47f39283518c0c885e75",
            "placeholder": "​",
            "style": "IPY_MODEL_d8590700b8c14fa38ec628b7c45a2157",
            "value": " 361/361 [00:00&lt;00:00, 14.8kB/s]"
          }
        },
        "86e878edb88d4213b805a9d3be69c79c": {
          "model_module": "@jupyter-widgets/base",
          "model_name": "LayoutModel",
          "model_module_version": "1.2.0",
          "state": {
            "_model_module": "@jupyter-widgets/base",
            "_model_module_version": "1.2.0",
            "_model_name": "LayoutModel",
            "_view_count": null,
            "_view_module": "@jupyter-widgets/base",
            "_view_module_version": "1.2.0",
            "_view_name": "LayoutView",
            "align_content": null,
            "align_items": null,
            "align_self": null,
            "border": null,
            "bottom": null,
            "display": null,
            "flex": null,
            "flex_flow": null,
            "grid_area": null,
            "grid_auto_columns": null,
            "grid_auto_flow": null,
            "grid_auto_rows": null,
            "grid_column": null,
            "grid_gap": null,
            "grid_row": null,
            "grid_template_areas": null,
            "grid_template_columns": null,
            "grid_template_rows": null,
            "height": null,
            "justify_content": null,
            "justify_items": null,
            "left": null,
            "margin": null,
            "max_height": null,
            "max_width": null,
            "min_height": null,
            "min_width": null,
            "object_fit": null,
            "object_position": null,
            "order": null,
            "overflow": null,
            "overflow_x": null,
            "overflow_y": null,
            "padding": null,
            "right": null,
            "top": null,
            "visibility": null,
            "width": null
          }
        },
        "afbf4c7cb56b41e38dd1248695c94f0e": {
          "model_module": "@jupyter-widgets/base",
          "model_name": "LayoutModel",
          "model_module_version": "1.2.0",
          "state": {
            "_model_module": "@jupyter-widgets/base",
            "_model_module_version": "1.2.0",
            "_model_name": "LayoutModel",
            "_view_count": null,
            "_view_module": "@jupyter-widgets/base",
            "_view_module_version": "1.2.0",
            "_view_name": "LayoutView",
            "align_content": null,
            "align_items": null,
            "align_self": null,
            "border": null,
            "bottom": null,
            "display": null,
            "flex": null,
            "flex_flow": null,
            "grid_area": null,
            "grid_auto_columns": null,
            "grid_auto_flow": null,
            "grid_auto_rows": null,
            "grid_column": null,
            "grid_gap": null,
            "grid_row": null,
            "grid_template_areas": null,
            "grid_template_columns": null,
            "grid_template_rows": null,
            "height": null,
            "justify_content": null,
            "justify_items": null,
            "left": null,
            "margin": null,
            "max_height": null,
            "max_width": null,
            "min_height": null,
            "min_width": null,
            "object_fit": null,
            "object_position": null,
            "order": null,
            "overflow": null,
            "overflow_x": null,
            "overflow_y": null,
            "padding": null,
            "right": null,
            "top": null,
            "visibility": null,
            "width": null
          }
        },
        "d4b879fc8adb43459310cdc67b1cafa5": {
          "model_module": "@jupyter-widgets/controls",
          "model_name": "DescriptionStyleModel",
          "model_module_version": "1.5.0",
          "state": {
            "_model_module": "@jupyter-widgets/controls",
            "_model_module_version": "1.5.0",
            "_model_name": "DescriptionStyleModel",
            "_view_count": null,
            "_view_module": "@jupyter-widgets/base",
            "_view_module_version": "1.2.0",
            "_view_name": "StyleView",
            "description_width": ""
          }
        },
        "a51667d2fd0f4b67816fd6109280143d": {
          "model_module": "@jupyter-widgets/base",
          "model_name": "LayoutModel",
          "model_module_version": "1.2.0",
          "state": {
            "_model_module": "@jupyter-widgets/base",
            "_model_module_version": "1.2.0",
            "_model_name": "LayoutModel",
            "_view_count": null,
            "_view_module": "@jupyter-widgets/base",
            "_view_module_version": "1.2.0",
            "_view_name": "LayoutView",
            "align_content": null,
            "align_items": null,
            "align_self": null,
            "border": null,
            "bottom": null,
            "display": null,
            "flex": null,
            "flex_flow": null,
            "grid_area": null,
            "grid_auto_columns": null,
            "grid_auto_flow": null,
            "grid_auto_rows": null,
            "grid_column": null,
            "grid_gap": null,
            "grid_row": null,
            "grid_template_areas": null,
            "grid_template_columns": null,
            "grid_template_rows": null,
            "height": null,
            "justify_content": null,
            "justify_items": null,
            "left": null,
            "margin": null,
            "max_height": null,
            "max_width": null,
            "min_height": null,
            "min_width": null,
            "object_fit": null,
            "object_position": null,
            "order": null,
            "overflow": null,
            "overflow_x": null,
            "overflow_y": null,
            "padding": null,
            "right": null,
            "top": null,
            "visibility": null,
            "width": null
          }
        },
        "31ed48a3c4b341d29b7b3e27bd81f351": {
          "model_module": "@jupyter-widgets/controls",
          "model_name": "ProgressStyleModel",
          "model_module_version": "1.5.0",
          "state": {
            "_model_module": "@jupyter-widgets/controls",
            "_model_module_version": "1.5.0",
            "_model_name": "ProgressStyleModel",
            "_view_count": null,
            "_view_module": "@jupyter-widgets/base",
            "_view_module_version": "1.2.0",
            "_view_name": "StyleView",
            "bar_color": null,
            "description_width": ""
          }
        },
        "88a646260f3d47f39283518c0c885e75": {
          "model_module": "@jupyter-widgets/base",
          "model_name": "LayoutModel",
          "model_module_version": "1.2.0",
          "state": {
            "_model_module": "@jupyter-widgets/base",
            "_model_module_version": "1.2.0",
            "_model_name": "LayoutModel",
            "_view_count": null,
            "_view_module": "@jupyter-widgets/base",
            "_view_module_version": "1.2.0",
            "_view_name": "LayoutView",
            "align_content": null,
            "align_items": null,
            "align_self": null,
            "border": null,
            "bottom": null,
            "display": null,
            "flex": null,
            "flex_flow": null,
            "grid_area": null,
            "grid_auto_columns": null,
            "grid_auto_flow": null,
            "grid_auto_rows": null,
            "grid_column": null,
            "grid_gap": null,
            "grid_row": null,
            "grid_template_areas": null,
            "grid_template_columns": null,
            "grid_template_rows": null,
            "height": null,
            "justify_content": null,
            "justify_items": null,
            "left": null,
            "margin": null,
            "max_height": null,
            "max_width": null,
            "min_height": null,
            "min_width": null,
            "object_fit": null,
            "object_position": null,
            "order": null,
            "overflow": null,
            "overflow_x": null,
            "overflow_y": null,
            "padding": null,
            "right": null,
            "top": null,
            "visibility": null,
            "width": null
          }
        },
        "d8590700b8c14fa38ec628b7c45a2157": {
          "model_module": "@jupyter-widgets/controls",
          "model_name": "DescriptionStyleModel",
          "model_module_version": "1.5.0",
          "state": {
            "_model_module": "@jupyter-widgets/controls",
            "_model_module_version": "1.5.0",
            "_model_name": "DescriptionStyleModel",
            "_view_count": null,
            "_view_module": "@jupyter-widgets/base",
            "_view_module_version": "1.2.0",
            "_view_name": "StyleView",
            "description_width": ""
          }
        },
        "9ebf5dff21bf4f29a9961151f72ab022": {
          "model_module": "@jupyter-widgets/controls",
          "model_name": "HBoxModel",
          "model_module_version": "1.5.0",
          "state": {
            "_dom_classes": [],
            "_model_module": "@jupyter-widgets/controls",
            "_model_module_version": "1.5.0",
            "_model_name": "HBoxModel",
            "_view_count": null,
            "_view_module": "@jupyter-widgets/controls",
            "_view_module_version": "1.5.0",
            "_view_name": "HBoxView",
            "box_style": "",
            "children": [
              "IPY_MODEL_fd03b13c82ca4350b1a275695aae2cec",
              "IPY_MODEL_80cbb70af7cd450a868cb871da0874cc",
              "IPY_MODEL_72981bb89a7b4239bed063a2109e1b08"
            ],
            "layout": "IPY_MODEL_374b82f3281b48caa5bdf8434ca06ca8"
          }
        },
        "fd03b13c82ca4350b1a275695aae2cec": {
          "model_module": "@jupyter-widgets/controls",
          "model_name": "HTMLModel",
          "model_module_version": "1.5.0",
          "state": {
            "_dom_classes": [],
            "_model_module": "@jupyter-widgets/controls",
            "_model_module_version": "1.5.0",
            "_model_name": "HTMLModel",
            "_view_count": null,
            "_view_module": "@jupyter-widgets/controls",
            "_view_module_version": "1.5.0",
            "_view_name": "HTMLView",
            "description": "",
            "description_tooltip": null,
            "layout": "IPY_MODEL_dc1244bf1fa14d83b9e98a1d217d1ed1",
            "placeholder": "​",
            "style": "IPY_MODEL_b0cbf19ebd8f48d3b8b90da1dbd626dc",
            "value": "Downloading: 100%"
          }
        },
        "80cbb70af7cd450a868cb871da0874cc": {
          "model_module": "@jupyter-widgets/controls",
          "model_name": "FloatProgressModel",
          "model_module_version": "1.5.0",
          "state": {
            "_dom_classes": [],
            "_model_module": "@jupyter-widgets/controls",
            "_model_module_version": "1.5.0",
            "_model_name": "FloatProgressModel",
            "_view_count": null,
            "_view_module": "@jupyter-widgets/controls",
            "_view_module_version": "1.5.0",
            "_view_name": "ProgressView",
            "bar_style": "success",
            "description": "",
            "description_tooltip": null,
            "layout": "IPY_MODEL_49ffe073c9ba46d588f4a733d394d4d2",
            "max": 81,
            "min": 0,
            "orientation": "horizontal",
            "style": "IPY_MODEL_adff7c9843fe41bd8c5f57542c40a2c3",
            "value": 81
          }
        },
        "72981bb89a7b4239bed063a2109e1b08": {
          "model_module": "@jupyter-widgets/controls",
          "model_name": "HTMLModel",
          "model_module_version": "1.5.0",
          "state": {
            "_dom_classes": [],
            "_model_module": "@jupyter-widgets/controls",
            "_model_module_version": "1.5.0",
            "_model_name": "HTMLModel",
            "_view_count": null,
            "_view_module": "@jupyter-widgets/controls",
            "_view_module_version": "1.5.0",
            "_view_name": "HTMLView",
            "description": "",
            "description_tooltip": null,
            "layout": "IPY_MODEL_d281640f63bb4f8fa8a02612199b39a2",
            "placeholder": "​",
            "style": "IPY_MODEL_92d059d2125545dfb4b01223ba347b21",
            "value": " 81.0/81.0 [00:00&lt;00:00, 2.94kB/s]"
          }
        },
        "374b82f3281b48caa5bdf8434ca06ca8": {
          "model_module": "@jupyter-widgets/base",
          "model_name": "LayoutModel",
          "model_module_version": "1.2.0",
          "state": {
            "_model_module": "@jupyter-widgets/base",
            "_model_module_version": "1.2.0",
            "_model_name": "LayoutModel",
            "_view_count": null,
            "_view_module": "@jupyter-widgets/base",
            "_view_module_version": "1.2.0",
            "_view_name": "LayoutView",
            "align_content": null,
            "align_items": null,
            "align_self": null,
            "border": null,
            "bottom": null,
            "display": null,
            "flex": null,
            "flex_flow": null,
            "grid_area": null,
            "grid_auto_columns": null,
            "grid_auto_flow": null,
            "grid_auto_rows": null,
            "grid_column": null,
            "grid_gap": null,
            "grid_row": null,
            "grid_template_areas": null,
            "grid_template_columns": null,
            "grid_template_rows": null,
            "height": null,
            "justify_content": null,
            "justify_items": null,
            "left": null,
            "margin": null,
            "max_height": null,
            "max_width": null,
            "min_height": null,
            "min_width": null,
            "object_fit": null,
            "object_position": null,
            "order": null,
            "overflow": null,
            "overflow_x": null,
            "overflow_y": null,
            "padding": null,
            "right": null,
            "top": null,
            "visibility": null,
            "width": null
          }
        },
        "dc1244bf1fa14d83b9e98a1d217d1ed1": {
          "model_module": "@jupyter-widgets/base",
          "model_name": "LayoutModel",
          "model_module_version": "1.2.0",
          "state": {
            "_model_module": "@jupyter-widgets/base",
            "_model_module_version": "1.2.0",
            "_model_name": "LayoutModel",
            "_view_count": null,
            "_view_module": "@jupyter-widgets/base",
            "_view_module_version": "1.2.0",
            "_view_name": "LayoutView",
            "align_content": null,
            "align_items": null,
            "align_self": null,
            "border": null,
            "bottom": null,
            "display": null,
            "flex": null,
            "flex_flow": null,
            "grid_area": null,
            "grid_auto_columns": null,
            "grid_auto_flow": null,
            "grid_auto_rows": null,
            "grid_column": null,
            "grid_gap": null,
            "grid_row": null,
            "grid_template_areas": null,
            "grid_template_columns": null,
            "grid_template_rows": null,
            "height": null,
            "justify_content": null,
            "justify_items": null,
            "left": null,
            "margin": null,
            "max_height": null,
            "max_width": null,
            "min_height": null,
            "min_width": null,
            "object_fit": null,
            "object_position": null,
            "order": null,
            "overflow": null,
            "overflow_x": null,
            "overflow_y": null,
            "padding": null,
            "right": null,
            "top": null,
            "visibility": null,
            "width": null
          }
        },
        "b0cbf19ebd8f48d3b8b90da1dbd626dc": {
          "model_module": "@jupyter-widgets/controls",
          "model_name": "DescriptionStyleModel",
          "model_module_version": "1.5.0",
          "state": {
            "_model_module": "@jupyter-widgets/controls",
            "_model_module_version": "1.5.0",
            "_model_name": "DescriptionStyleModel",
            "_view_count": null,
            "_view_module": "@jupyter-widgets/base",
            "_view_module_version": "1.2.0",
            "_view_name": "StyleView",
            "description_width": ""
          }
        },
        "49ffe073c9ba46d588f4a733d394d4d2": {
          "model_module": "@jupyter-widgets/base",
          "model_name": "LayoutModel",
          "model_module_version": "1.2.0",
          "state": {
            "_model_module": "@jupyter-widgets/base",
            "_model_module_version": "1.2.0",
            "_model_name": "LayoutModel",
            "_view_count": null,
            "_view_module": "@jupyter-widgets/base",
            "_view_module_version": "1.2.0",
            "_view_name": "LayoutView",
            "align_content": null,
            "align_items": null,
            "align_self": null,
            "border": null,
            "bottom": null,
            "display": null,
            "flex": null,
            "flex_flow": null,
            "grid_area": null,
            "grid_auto_columns": null,
            "grid_auto_flow": null,
            "grid_auto_rows": null,
            "grid_column": null,
            "grid_gap": null,
            "grid_row": null,
            "grid_template_areas": null,
            "grid_template_columns": null,
            "grid_template_rows": null,
            "height": null,
            "justify_content": null,
            "justify_items": null,
            "left": null,
            "margin": null,
            "max_height": null,
            "max_width": null,
            "min_height": null,
            "min_width": null,
            "object_fit": null,
            "object_position": null,
            "order": null,
            "overflow": null,
            "overflow_x": null,
            "overflow_y": null,
            "padding": null,
            "right": null,
            "top": null,
            "visibility": null,
            "width": null
          }
        },
        "adff7c9843fe41bd8c5f57542c40a2c3": {
          "model_module": "@jupyter-widgets/controls",
          "model_name": "ProgressStyleModel",
          "model_module_version": "1.5.0",
          "state": {
            "_model_module": "@jupyter-widgets/controls",
            "_model_module_version": "1.5.0",
            "_model_name": "ProgressStyleModel",
            "_view_count": null,
            "_view_module": "@jupyter-widgets/base",
            "_view_module_version": "1.2.0",
            "_view_name": "StyleView",
            "bar_color": null,
            "description_width": ""
          }
        },
        "d281640f63bb4f8fa8a02612199b39a2": {
          "model_module": "@jupyter-widgets/base",
          "model_name": "LayoutModel",
          "model_module_version": "1.2.0",
          "state": {
            "_model_module": "@jupyter-widgets/base",
            "_model_module_version": "1.2.0",
            "_model_name": "LayoutModel",
            "_view_count": null,
            "_view_module": "@jupyter-widgets/base",
            "_view_module_version": "1.2.0",
            "_view_name": "LayoutView",
            "align_content": null,
            "align_items": null,
            "align_self": null,
            "border": null,
            "bottom": null,
            "display": null,
            "flex": null,
            "flex_flow": null,
            "grid_area": null,
            "grid_auto_columns": null,
            "grid_auto_flow": null,
            "grid_auto_rows": null,
            "grid_column": null,
            "grid_gap": null,
            "grid_row": null,
            "grid_template_areas": null,
            "grid_template_columns": null,
            "grid_template_rows": null,
            "height": null,
            "justify_content": null,
            "justify_items": null,
            "left": null,
            "margin": null,
            "max_height": null,
            "max_width": null,
            "min_height": null,
            "min_width": null,
            "object_fit": null,
            "object_position": null,
            "order": null,
            "overflow": null,
            "overflow_x": null,
            "overflow_y": null,
            "padding": null,
            "right": null,
            "top": null,
            "visibility": null,
            "width": null
          }
        },
        "92d059d2125545dfb4b01223ba347b21": {
          "model_module": "@jupyter-widgets/controls",
          "model_name": "DescriptionStyleModel",
          "model_module_version": "1.5.0",
          "state": {
            "_model_module": "@jupyter-widgets/controls",
            "_model_module_version": "1.5.0",
            "_model_name": "DescriptionStyleModel",
            "_view_count": null,
            "_view_module": "@jupyter-widgets/base",
            "_view_module_version": "1.2.0",
            "_view_name": "StyleView",
            "description_width": ""
          }
        },
        "de87013baa7a46a7a5dda04fb00e310b": {
          "model_module": "@jupyter-widgets/controls",
          "model_name": "HBoxModel",
          "model_module_version": "1.5.0",
          "state": {
            "_dom_classes": [],
            "_model_module": "@jupyter-widgets/controls",
            "_model_module_version": "1.5.0",
            "_model_name": "HBoxModel",
            "_view_count": null,
            "_view_module": "@jupyter-widgets/controls",
            "_view_module_version": "1.5.0",
            "_view_name": "HBoxView",
            "box_style": "",
            "children": [
              "IPY_MODEL_13863c2f59d34e2198e45473fd4d348b",
              "IPY_MODEL_074ac05626b0494ab4a5b5f7c820ce33",
              "IPY_MODEL_aada0783d5bf4a3bbba3b21d9a2e09f3"
            ],
            "layout": "IPY_MODEL_fe436d44eb3c48e8bc462b66d7a10ef0"
          }
        },
        "13863c2f59d34e2198e45473fd4d348b": {
          "model_module": "@jupyter-widgets/controls",
          "model_name": "HTMLModel",
          "model_module_version": "1.5.0",
          "state": {
            "_dom_classes": [],
            "_model_module": "@jupyter-widgets/controls",
            "_model_module_version": "1.5.0",
            "_model_name": "HTMLModel",
            "_view_count": null,
            "_view_module": "@jupyter-widgets/controls",
            "_view_module_version": "1.5.0",
            "_view_name": "HTMLView",
            "description": "",
            "description_tooltip": null,
            "layout": "IPY_MODEL_08c2fecc4f4c47d981ddcdfe04f5bea8",
            "placeholder": "​",
            "style": "IPY_MODEL_6f89ed345a1a40e788e42505f75cec22",
            "value": "Downloading: 100%"
          }
        },
        "074ac05626b0494ab4a5b5f7c820ce33": {
          "model_module": "@jupyter-widgets/controls",
          "model_name": "FloatProgressModel",
          "model_module_version": "1.5.0",
          "state": {
            "_dom_classes": [],
            "_model_module": "@jupyter-widgets/controls",
            "_model_module_version": "1.5.0",
            "_model_name": "FloatProgressModel",
            "_view_count": null,
            "_view_module": "@jupyter-widgets/controls",
            "_view_module_version": "1.5.0",
            "_view_name": "ProgressView",
            "bar_style": "success",
            "description": "",
            "description_tooltip": null,
            "layout": "IPY_MODEL_abbe077f0e0c4ac984be21cb38441f9e",
            "max": 112,
            "min": 0,
            "orientation": "horizontal",
            "style": "IPY_MODEL_1ada7fd5bee54bbea85b9ec4521a1752",
            "value": 112
          }
        },
        "aada0783d5bf4a3bbba3b21d9a2e09f3": {
          "model_module": "@jupyter-widgets/controls",
          "model_name": "HTMLModel",
          "model_module_version": "1.5.0",
          "state": {
            "_dom_classes": [],
            "_model_module": "@jupyter-widgets/controls",
            "_model_module_version": "1.5.0",
            "_model_name": "HTMLModel",
            "_view_count": null,
            "_view_module": "@jupyter-widgets/controls",
            "_view_module_version": "1.5.0",
            "_view_name": "HTMLView",
            "description": "",
            "description_tooltip": null,
            "layout": "IPY_MODEL_6e59937754344d7cade8927a8f1c3e74",
            "placeholder": "​",
            "style": "IPY_MODEL_736f4856487746f4b782a1692de3d65a",
            "value": " 112/112 [00:00&lt;00:00, 4.73kB/s]"
          }
        },
        "fe436d44eb3c48e8bc462b66d7a10ef0": {
          "model_module": "@jupyter-widgets/base",
          "model_name": "LayoutModel",
          "model_module_version": "1.2.0",
          "state": {
            "_model_module": "@jupyter-widgets/base",
            "_model_module_version": "1.2.0",
            "_model_name": "LayoutModel",
            "_view_count": null,
            "_view_module": "@jupyter-widgets/base",
            "_view_module_version": "1.2.0",
            "_view_name": "LayoutView",
            "align_content": null,
            "align_items": null,
            "align_self": null,
            "border": null,
            "bottom": null,
            "display": null,
            "flex": null,
            "flex_flow": null,
            "grid_area": null,
            "grid_auto_columns": null,
            "grid_auto_flow": null,
            "grid_auto_rows": null,
            "grid_column": null,
            "grid_gap": null,
            "grid_row": null,
            "grid_template_areas": null,
            "grid_template_columns": null,
            "grid_template_rows": null,
            "height": null,
            "justify_content": null,
            "justify_items": null,
            "left": null,
            "margin": null,
            "max_height": null,
            "max_width": null,
            "min_height": null,
            "min_width": null,
            "object_fit": null,
            "object_position": null,
            "order": null,
            "overflow": null,
            "overflow_x": null,
            "overflow_y": null,
            "padding": null,
            "right": null,
            "top": null,
            "visibility": null,
            "width": null
          }
        },
        "08c2fecc4f4c47d981ddcdfe04f5bea8": {
          "model_module": "@jupyter-widgets/base",
          "model_name": "LayoutModel",
          "model_module_version": "1.2.0",
          "state": {
            "_model_module": "@jupyter-widgets/base",
            "_model_module_version": "1.2.0",
            "_model_name": "LayoutModel",
            "_view_count": null,
            "_view_module": "@jupyter-widgets/base",
            "_view_module_version": "1.2.0",
            "_view_name": "LayoutView",
            "align_content": null,
            "align_items": null,
            "align_self": null,
            "border": null,
            "bottom": null,
            "display": null,
            "flex": null,
            "flex_flow": null,
            "grid_area": null,
            "grid_auto_columns": null,
            "grid_auto_flow": null,
            "grid_auto_rows": null,
            "grid_column": null,
            "grid_gap": null,
            "grid_row": null,
            "grid_template_areas": null,
            "grid_template_columns": null,
            "grid_template_rows": null,
            "height": null,
            "justify_content": null,
            "justify_items": null,
            "left": null,
            "margin": null,
            "max_height": null,
            "max_width": null,
            "min_height": null,
            "min_width": null,
            "object_fit": null,
            "object_position": null,
            "order": null,
            "overflow": null,
            "overflow_x": null,
            "overflow_y": null,
            "padding": null,
            "right": null,
            "top": null,
            "visibility": null,
            "width": null
          }
        },
        "6f89ed345a1a40e788e42505f75cec22": {
          "model_module": "@jupyter-widgets/controls",
          "model_name": "DescriptionStyleModel",
          "model_module_version": "1.5.0",
          "state": {
            "_model_module": "@jupyter-widgets/controls",
            "_model_module_version": "1.5.0",
            "_model_name": "DescriptionStyleModel",
            "_view_count": null,
            "_view_module": "@jupyter-widgets/base",
            "_view_module_version": "1.2.0",
            "_view_name": "StyleView",
            "description_width": ""
          }
        },
        "abbe077f0e0c4ac984be21cb38441f9e": {
          "model_module": "@jupyter-widgets/base",
          "model_name": "LayoutModel",
          "model_module_version": "1.2.0",
          "state": {
            "_model_module": "@jupyter-widgets/base",
            "_model_module_version": "1.2.0",
            "_model_name": "LayoutModel",
            "_view_count": null,
            "_view_module": "@jupyter-widgets/base",
            "_view_module_version": "1.2.0",
            "_view_name": "LayoutView",
            "align_content": null,
            "align_items": null,
            "align_self": null,
            "border": null,
            "bottom": null,
            "display": null,
            "flex": null,
            "flex_flow": null,
            "grid_area": null,
            "grid_auto_columns": null,
            "grid_auto_flow": null,
            "grid_auto_rows": null,
            "grid_column": null,
            "grid_gap": null,
            "grid_row": null,
            "grid_template_areas": null,
            "grid_template_columns": null,
            "grid_template_rows": null,
            "height": null,
            "justify_content": null,
            "justify_items": null,
            "left": null,
            "margin": null,
            "max_height": null,
            "max_width": null,
            "min_height": null,
            "min_width": null,
            "object_fit": null,
            "object_position": null,
            "order": null,
            "overflow": null,
            "overflow_x": null,
            "overflow_y": null,
            "padding": null,
            "right": null,
            "top": null,
            "visibility": null,
            "width": null
          }
        },
        "1ada7fd5bee54bbea85b9ec4521a1752": {
          "model_module": "@jupyter-widgets/controls",
          "model_name": "ProgressStyleModel",
          "model_module_version": "1.5.0",
          "state": {
            "_model_module": "@jupyter-widgets/controls",
            "_model_module_version": "1.5.0",
            "_model_name": "ProgressStyleModel",
            "_view_count": null,
            "_view_module": "@jupyter-widgets/base",
            "_view_module_version": "1.2.0",
            "_view_name": "StyleView",
            "bar_color": null,
            "description_width": ""
          }
        },
        "6e59937754344d7cade8927a8f1c3e74": {
          "model_module": "@jupyter-widgets/base",
          "model_name": "LayoutModel",
          "model_module_version": "1.2.0",
          "state": {
            "_model_module": "@jupyter-widgets/base",
            "_model_module_version": "1.2.0",
            "_model_name": "LayoutModel",
            "_view_count": null,
            "_view_module": "@jupyter-widgets/base",
            "_view_module_version": "1.2.0",
            "_view_name": "LayoutView",
            "align_content": null,
            "align_items": null,
            "align_self": null,
            "border": null,
            "bottom": null,
            "display": null,
            "flex": null,
            "flex_flow": null,
            "grid_area": null,
            "grid_auto_columns": null,
            "grid_auto_flow": null,
            "grid_auto_rows": null,
            "grid_column": null,
            "grid_gap": null,
            "grid_row": null,
            "grid_template_areas": null,
            "grid_template_columns": null,
            "grid_template_rows": null,
            "height": null,
            "justify_content": null,
            "justify_items": null,
            "left": null,
            "margin": null,
            "max_height": null,
            "max_width": null,
            "min_height": null,
            "min_width": null,
            "object_fit": null,
            "object_position": null,
            "order": null,
            "overflow": null,
            "overflow_x": null,
            "overflow_y": null,
            "padding": null,
            "right": null,
            "top": null,
            "visibility": null,
            "width": null
          }
        },
        "736f4856487746f4b782a1692de3d65a": {
          "model_module": "@jupyter-widgets/controls",
          "model_name": "DescriptionStyleModel",
          "model_module_version": "1.5.0",
          "state": {
            "_model_module": "@jupyter-widgets/controls",
            "_model_module_version": "1.5.0",
            "_model_name": "DescriptionStyleModel",
            "_view_count": null,
            "_view_module": "@jupyter-widgets/base",
            "_view_module_version": "1.2.0",
            "_view_name": "StyleView",
            "description_width": ""
          }
        },
        "546f3e3e8b37435a8e4aba885da5d35a": {
          "model_module": "@jupyter-widgets/controls",
          "model_name": "HBoxModel",
          "model_module_version": "1.5.0",
          "state": {
            "_dom_classes": [],
            "_model_module": "@jupyter-widgets/controls",
            "_model_module_version": "1.5.0",
            "_model_name": "HBoxModel",
            "_view_count": null,
            "_view_module": "@jupyter-widgets/controls",
            "_view_module_version": "1.5.0",
            "_view_name": "HBoxView",
            "box_style": "",
            "children": [
              "IPY_MODEL_2413e6f7db1c4bdbac91bc3a3031c75a",
              "IPY_MODEL_09ac572af8cc47ca812546ae9935863b",
              "IPY_MODEL_20886a25749c4257aeb2653d57a89996"
            ],
            "layout": "IPY_MODEL_955f87b51e314273bad9815beef45043"
          }
        },
        "2413e6f7db1c4bdbac91bc3a3031c75a": {
          "model_module": "@jupyter-widgets/controls",
          "model_name": "HTMLModel",
          "model_module_version": "1.5.0",
          "state": {
            "_dom_classes": [],
            "_model_module": "@jupyter-widgets/controls",
            "_model_module_version": "1.5.0",
            "_model_name": "HTMLModel",
            "_view_count": null,
            "_view_module": "@jupyter-widgets/controls",
            "_view_module_version": "1.5.0",
            "_view_name": "HTMLView",
            "description": "",
            "description_tooltip": null,
            "layout": "IPY_MODEL_6f5be437364f4306b315e141864863a2",
            "placeholder": "​",
            "style": "IPY_MODEL_8bb17abc58c24d32b46fc0b9a0341023",
            "value": "Downloading: 100%"
          }
        },
        "09ac572af8cc47ca812546ae9935863b": {
          "model_module": "@jupyter-widgets/controls",
          "model_name": "FloatProgressModel",
          "model_module_version": "1.5.0",
          "state": {
            "_dom_classes": [],
            "_model_module": "@jupyter-widgets/controls",
            "_model_module_version": "1.5.0",
            "_model_name": "FloatProgressModel",
            "_view_count": null,
            "_view_module": "@jupyter-widgets/controls",
            "_view_module_version": "1.5.0",
            "_view_name": "ProgressView",
            "bar_style": "success",
            "description": "",
            "description_tooltip": null,
            "layout": "IPY_MODEL_135c375c4a854eebb323253e3c6100d9",
            "max": 1684058277,
            "min": 0,
            "orientation": "horizontal",
            "style": "IPY_MODEL_9f59b4f13d8a4ea5954638b8667e9f4f",
            "value": 1684058277
          }
        },
        "20886a25749c4257aeb2653d57a89996": {
          "model_module": "@jupyter-widgets/controls",
          "model_name": "HTMLModel",
          "model_module_version": "1.5.0",
          "state": {
            "_dom_classes": [],
            "_model_module": "@jupyter-widgets/controls",
            "_model_module_version": "1.5.0",
            "_model_name": "HTMLModel",
            "_view_count": null,
            "_view_module": "@jupyter-widgets/controls",
            "_view_module_version": "1.5.0",
            "_view_name": "HTMLView",
            "description": "",
            "description_tooltip": null,
            "layout": "IPY_MODEL_9e22021e42374722a7d64f6cdeb30579",
            "placeholder": "​",
            "style": "IPY_MODEL_1d9f729c32ea4edabc1cd4a01a114323",
            "value": " 1.57G/1.57G [00:28&lt;00:00, 61.2MB/s]"
          }
        },
        "955f87b51e314273bad9815beef45043": {
          "model_module": "@jupyter-widgets/base",
          "model_name": "LayoutModel",
          "model_module_version": "1.2.0",
          "state": {
            "_model_module": "@jupyter-widgets/base",
            "_model_module_version": "1.2.0",
            "_model_name": "LayoutModel",
            "_view_count": null,
            "_view_module": "@jupyter-widgets/base",
            "_view_module_version": "1.2.0",
            "_view_name": "LayoutView",
            "align_content": null,
            "align_items": null,
            "align_self": null,
            "border": null,
            "bottom": null,
            "display": null,
            "flex": null,
            "flex_flow": null,
            "grid_area": null,
            "grid_auto_columns": null,
            "grid_auto_flow": null,
            "grid_auto_rows": null,
            "grid_column": null,
            "grid_gap": null,
            "grid_row": null,
            "grid_template_areas": null,
            "grid_template_columns": null,
            "grid_template_rows": null,
            "height": null,
            "justify_content": null,
            "justify_items": null,
            "left": null,
            "margin": null,
            "max_height": null,
            "max_width": null,
            "min_height": null,
            "min_width": null,
            "object_fit": null,
            "object_position": null,
            "order": null,
            "overflow": null,
            "overflow_x": null,
            "overflow_y": null,
            "padding": null,
            "right": null,
            "top": null,
            "visibility": null,
            "width": null
          }
        },
        "6f5be437364f4306b315e141864863a2": {
          "model_module": "@jupyter-widgets/base",
          "model_name": "LayoutModel",
          "model_module_version": "1.2.0",
          "state": {
            "_model_module": "@jupyter-widgets/base",
            "_model_module_version": "1.2.0",
            "_model_name": "LayoutModel",
            "_view_count": null,
            "_view_module": "@jupyter-widgets/base",
            "_view_module_version": "1.2.0",
            "_view_name": "LayoutView",
            "align_content": null,
            "align_items": null,
            "align_self": null,
            "border": null,
            "bottom": null,
            "display": null,
            "flex": null,
            "flex_flow": null,
            "grid_area": null,
            "grid_auto_columns": null,
            "grid_auto_flow": null,
            "grid_auto_rows": null,
            "grid_column": null,
            "grid_gap": null,
            "grid_row": null,
            "grid_template_areas": null,
            "grid_template_columns": null,
            "grid_template_rows": null,
            "height": null,
            "justify_content": null,
            "justify_items": null,
            "left": null,
            "margin": null,
            "max_height": null,
            "max_width": null,
            "min_height": null,
            "min_width": null,
            "object_fit": null,
            "object_position": null,
            "order": null,
            "overflow": null,
            "overflow_x": null,
            "overflow_y": null,
            "padding": null,
            "right": null,
            "top": null,
            "visibility": null,
            "width": null
          }
        },
        "8bb17abc58c24d32b46fc0b9a0341023": {
          "model_module": "@jupyter-widgets/controls",
          "model_name": "DescriptionStyleModel",
          "model_module_version": "1.5.0",
          "state": {
            "_model_module": "@jupyter-widgets/controls",
            "_model_module_version": "1.5.0",
            "_model_name": "DescriptionStyleModel",
            "_view_count": null,
            "_view_module": "@jupyter-widgets/base",
            "_view_module_version": "1.2.0",
            "_view_name": "StyleView",
            "description_width": ""
          }
        },
        "135c375c4a854eebb323253e3c6100d9": {
          "model_module": "@jupyter-widgets/base",
          "model_name": "LayoutModel",
          "model_module_version": "1.2.0",
          "state": {
            "_model_module": "@jupyter-widgets/base",
            "_model_module_version": "1.2.0",
            "_model_name": "LayoutModel",
            "_view_count": null,
            "_view_module": "@jupyter-widgets/base",
            "_view_module_version": "1.2.0",
            "_view_name": "LayoutView",
            "align_content": null,
            "align_items": null,
            "align_self": null,
            "border": null,
            "bottom": null,
            "display": null,
            "flex": null,
            "flex_flow": null,
            "grid_area": null,
            "grid_auto_columns": null,
            "grid_auto_flow": null,
            "grid_auto_rows": null,
            "grid_column": null,
            "grid_gap": null,
            "grid_row": null,
            "grid_template_areas": null,
            "grid_template_columns": null,
            "grid_template_rows": null,
            "height": null,
            "justify_content": null,
            "justify_items": null,
            "left": null,
            "margin": null,
            "max_height": null,
            "max_width": null,
            "min_height": null,
            "min_width": null,
            "object_fit": null,
            "object_position": null,
            "order": null,
            "overflow": null,
            "overflow_x": null,
            "overflow_y": null,
            "padding": null,
            "right": null,
            "top": null,
            "visibility": null,
            "width": null
          }
        },
        "9f59b4f13d8a4ea5954638b8667e9f4f": {
          "model_module": "@jupyter-widgets/controls",
          "model_name": "ProgressStyleModel",
          "model_module_version": "1.5.0",
          "state": {
            "_model_module": "@jupyter-widgets/controls",
            "_model_module_version": "1.5.0",
            "_model_name": "ProgressStyleModel",
            "_view_count": null,
            "_view_module": "@jupyter-widgets/base",
            "_view_module_version": "1.2.0",
            "_view_name": "StyleView",
            "bar_color": null,
            "description_width": ""
          }
        },
        "9e22021e42374722a7d64f6cdeb30579": {
          "model_module": "@jupyter-widgets/base",
          "model_name": "LayoutModel",
          "model_module_version": "1.2.0",
          "state": {
            "_model_module": "@jupyter-widgets/base",
            "_model_module_version": "1.2.0",
            "_model_name": "LayoutModel",
            "_view_count": null,
            "_view_module": "@jupyter-widgets/base",
            "_view_module_version": "1.2.0",
            "_view_name": "LayoutView",
            "align_content": null,
            "align_items": null,
            "align_self": null,
            "border": null,
            "bottom": null,
            "display": null,
            "flex": null,
            "flex_flow": null,
            "grid_area": null,
            "grid_auto_columns": null,
            "grid_auto_flow": null,
            "grid_auto_rows": null,
            "grid_column": null,
            "grid_gap": null,
            "grid_row": null,
            "grid_template_areas": null,
            "grid_template_columns": null,
            "grid_template_rows": null,
            "height": null,
            "justify_content": null,
            "justify_items": null,
            "left": null,
            "margin": null,
            "max_height": null,
            "max_width": null,
            "min_height": null,
            "min_width": null,
            "object_fit": null,
            "object_position": null,
            "order": null,
            "overflow": null,
            "overflow_x": null,
            "overflow_y": null,
            "padding": null,
            "right": null,
            "top": null,
            "visibility": null,
            "width": null
          }
        },
        "1d9f729c32ea4edabc1cd4a01a114323": {
          "model_module": "@jupyter-widgets/controls",
          "model_name": "DescriptionStyleModel",
          "model_module_version": "1.5.0",
          "state": {
            "_model_module": "@jupyter-widgets/controls",
            "_model_module_version": "1.5.0",
            "_model_name": "DescriptionStyleModel",
            "_view_count": null,
            "_view_module": "@jupyter-widgets/base",
            "_view_module_version": "1.2.0",
            "_view_name": "StyleView",
            "description_width": ""
          }
        }
      }
    },
    "accelerator": "GPU"
  },
  "cells": [
    {
      "cell_type": "markdown",
      "metadata": {
        "id": "view-in-github",
        "colab_type": "text"
      },
      "source": [
        "<a href=\"https://colab.research.google.com/github/jmbaek/proteinNLP/blob/main/ProtBert_MS_FineTuning.ipynb\" target=\"_parent\"><img src=\"https://colab.research.google.com/assets/colab-badge.svg\" alt=\"Open In Colab\"/></a>"
      ]
    },
    {
      "cell_type": "markdown",
      "metadata": {
        "id": "XNpJNyy4jH6N"
      },
      "source": [
        "**1. Check the GPU device**\n"
      ]
    },
    {
      "cell_type": "code",
      "metadata": {
        "id": "I7L3UPGazrl4",
        "colab": {
          "base_uri": "https://localhost:8080/"
        },
        "outputId": "6650aa7b-96db-49b2-f7ad-0eaa7e37d710"
      },
      "source": [
        "!nvidia-smi"
      ],
      "execution_count": 2,
      "outputs": [
        {
          "output_type": "stream",
          "name": "stdout",
          "text": [
            "Tue Mar 29 11:13:13 2022       \n",
            "+-----------------------------------------------------------------------------+\n",
            "| NVIDIA-SMI 460.32.03    Driver Version: 460.32.03    CUDA Version: 11.2     |\n",
            "|-------------------------------+----------------------+----------------------+\n",
            "| GPU  Name        Persistence-M| Bus-Id        Disp.A | Volatile Uncorr. ECC |\n",
            "| Fan  Temp  Perf  Pwr:Usage/Cap|         Memory-Usage | GPU-Util  Compute M. |\n",
            "|                               |                      |               MIG M. |\n",
            "|===============================+======================+======================|\n",
            "|   0  Tesla P100-PCIE...  Off  | 00000000:00:04.0 Off |                    0 |\n",
            "| N/A   33C    P0    26W / 250W |      0MiB / 16280MiB |      0%      Default |\n",
            "|                               |                      |                  N/A |\n",
            "+-------------------------------+----------------------+----------------------+\n",
            "                                                                               \n",
            "+-----------------------------------------------------------------------------+\n",
            "| Processes:                                                                  |\n",
            "|  GPU   GI   CI        PID   Type   Process name                  GPU Memory |\n",
            "|        ID   ID                                                   Usage      |\n",
            "|=============================================================================|\n",
            "|  No running processes found                                                 |\n",
            "+-----------------------------------------------------------------------------+\n"
          ]
        }
      ]
    },
    {
      "cell_type": "markdown",
      "metadata": {
        "id": "QAtbQQ-0jS1K"
      },
      "source": [
        "**2. Load necessry libraries including huggingface transformers**"
      ]
    },
    {
      "cell_type": "code",
      "metadata": {
        "id": "2_PhBmySIlsx",
        "colab": {
          "base_uri": "https://localhost:8080/"
        },
        "outputId": "d522fb03-aae6-4a58-dbbb-972d7cdf7665"
      },
      "source": [
        "!pip -q install transformers"
      ],
      "execution_count": 3,
      "outputs": [
        {
          "output_type": "stream",
          "name": "stdout",
          "text": [
            "\u001b[K     |████████████████████████████████| 3.8 MB 9.6 MB/s \n",
            "\u001b[K     |████████████████████████████████| 596 kB 58.9 MB/s \n",
            "\u001b[K     |████████████████████████████████| 6.5 MB 58.1 MB/s \n",
            "\u001b[K     |████████████████████████████████| 895 kB 58.8 MB/s \n",
            "\u001b[K     |████████████████████████████████| 67 kB 7.0 MB/s \n",
            "\u001b[?25h"
          ]
        }
      ]
    },
    {
      "cell_type": "code",
      "metadata": {
        "id": "eAkrFFRvWtGj"
      },
      "source": [
        "import torch\n",
        "from transformers import AutoTokenizer, Trainer, TrainingArguments, AutoModelForSequenceClassification\n",
        "from torch.utils.data import Dataset\n",
        "import os\n",
        "import pandas as pd\n",
        "import requests\n",
        "from tqdm.auto import tqdm\n",
        "import numpy as np\n",
        "from sklearn.metrics import accuracy_score, precision_recall_fscore_support\n",
        "import re"
      ],
      "execution_count": 4,
      "outputs": []
    },
    {
      "cell_type": "markdown",
      "metadata": {
        "id": "Ap6SdzKhjd1o"
      },
      "source": [
        "**3. Select the model you want to fine-tune**"
      ]
    },
    {
      "cell_type": "code",
      "metadata": {
        "id": "XMZylke4iJdI"
      },
      "source": [
        "model_name = 'Rostlab/prot_bert_bfd'"
      ],
      "execution_count": 5,
      "outputs": []
    },
    {
      "cell_type": "markdown",
      "metadata": {
        "id": "1aO23lj0jolU"
      },
      "source": [
        "**4. Create the Membrane dataset class**"
      ]
    },
    {
      "cell_type": "code",
      "metadata": {
        "id": "1MKRYDsbUaP3"
      },
      "source": [
        "class DeepLocDataset(Dataset):\n",
        "    \"\"\"Face Landmarks dataset.\"\"\"\n",
        "\n",
        "    def __init__(self, split=\"train\", tokenizer_name='Rostlab/prot_bert_bfd', max_length=1024):\n",
        "        \"\"\"\n",
        "        Args:\n",
        "            csv_file (string): Path to the csv file with annotations.\n",
        "            root_dir (string): Directory with all the images.\n",
        "            transform (callable, optional): Optional transform to be applied\n",
        "                on a sample.\n",
        "        \"\"\"\n",
        "        self.datasetFolderPath = 'dataset/'\n",
        "        self.trainFilePath = os.path.join(self.datasetFolderPath, 'deeploc_per_protein_train.csv')\n",
        "        self.testFilePath = os.path.join(self.datasetFolderPath, 'deeploc_per_protein_test.csv')\n",
        "\n",
        "        self.downloadDeeplocDataset()\n",
        "\n",
        "        self.tokenizer = AutoTokenizer.from_pretrained(tokenizer_name, do_lower_case=False)\n",
        "\n",
        "        if split==\"train\":\n",
        "          self.seqs, self.labels = self.load_dataset(self.trainFilePath)\n",
        "        else:\n",
        "          self.seqs, self.labels = self.load_dataset(self.testFilePath)\n",
        "\n",
        "        self.max_length = max_length\n",
        "\n",
        "    def downloadDeeplocDataset(self):\n",
        "        deeplocDatasetTrainUrl = 'https://www.dropbox.com/s/vgdqcl4vzqm9as0/deeploc_per_protein_train.csv?dl=1'\n",
        "        deeplocDatasetValidUrl = 'https://www.dropbox.com/s/jfzuokrym7nflkp/deeploc_per_protein_test.csv?dl=1'\n",
        "\n",
        "        if not os.path.exists(self.datasetFolderPath):\n",
        "            os.makedirs(self.datasetFolderPath)\n",
        "\n",
        "        def download_file(url, filename):\n",
        "            response = requests.get(url, stream=True)\n",
        "            with tqdm.wrapattr(open(filename, \"wb\"), \"write\", miniters=1,\n",
        "                              total=int(response.headers.get('content-length', 0)),\n",
        "                              desc=filename) as fout:\n",
        "                for chunk in response.iter_content(chunk_size=4096):\n",
        "                    fout.write(chunk)\n",
        "\n",
        "        if not os.path.exists(self.trainFilePath):\n",
        "            download_file(deeplocDatasetTrainUrl, self.trainFilePath)\n",
        "\n",
        "        if not os.path.exists(self.testFilePath):\n",
        "            download_file(deeplocDatasetValidUrl, self.testFilePath)\n",
        "\n",
        "    def load_dataset(self,path):\n",
        "        df = pd.read_csv(path,names=['input','loc','membrane'],skiprows=1)\n",
        "        df = df.loc[df['membrane'].isin([\"M\",\"S\"])]\n",
        "        self.labels_dic = {0:'Soluble',\n",
        "                           1:'Membrane'}\n",
        "\n",
        "        df['labels'] = np.where(df['membrane']=='M', 1, 0)\n",
        "        \n",
        "        seq = list(df['input'])\n",
        "        label = list(df['labels'])\n",
        "\n",
        "        assert len(seq) == len(label)\n",
        "        return seq, label\n",
        "\n",
        "    def __len__(self):\n",
        "        return len(self.labels)\n",
        "\n",
        "    def __getitem__(self, idx):\n",
        "        if torch.is_tensor(idx):\n",
        "            idx = idx.tolist()\n",
        "\n",
        "        seq = \" \".join(\"\".join(self.seqs[idx].split()))\n",
        "        seq = re.sub(r\"[UZOB]\", \"X\", seq)\n",
        "\n",
        "        seq_ids = self.tokenizer(seq, truncation=True, padding='max_length', max_length=self.max_length)\n",
        "\n",
        "        sample = {key: torch.tensor(val) for key, val in seq_ids.items()}\n",
        "        sample['labels'] = torch.tensor(self.labels[idx])\n",
        "\n",
        "        return sample"
      ],
      "execution_count": 6,
      "outputs": []
    },
    {
      "cell_type": "markdown",
      "metadata": {
        "id": "OzMZz9HZjzJo"
      },
      "source": [
        "**4a. Create the train / val / test datasets**"
      ]
    },
    {
      "cell_type": "code",
      "metadata": {
        "id": "O3udPLG4tYpZ",
        "colab": {
          "base_uri": "https://localhost:8080/",
          "height": 265,
          "referenced_widgets": [
            "eb553ea470544af391d57e286a973b50",
            "41d984aacddc4a6bb64422ac41ab9e97",
            "05801b50840b464f8d56ea1f69ee0180",
            "6297f607a2614499a22b9791b5df3c60",
            "51243abc8750463d994fe2ebe8eb2812",
            "dabdb86eb69f4556a1de2402e0ac2f55",
            "7099faa116c948fc94005886c85906dd",
            "3356fd6533a04804b78483519b5e941b",
            "18398bcd6c8643c582150ea756c49761",
            "ceb866927b52463bb68e7490eac66fcf",
            "b4ca305488bc4e4383331191c214e557",
            "1db21018ddfa4d71a359bf69e94e2f13",
            "61f2c5a0597a40dc81deb6ac5d0ee293",
            "9997d53b31394d9489bb04dbae3988df",
            "7210ae24191849b6b30b02cb1970ae4d",
            "1018912c941f494098f391e421cd390c",
            "0d02ab3908cf4cd0aded54000da04158",
            "bd2300f2846044aa8f108213d1926124",
            "23d28c8ed4944cff9b69f399e8a0e7b3",
            "e3b6663ed85e4d36bd1baf6aa7af3c48",
            "6a87c1c86a9c46a6a2ca02d8287ddc41",
            "2796af901b5949719c9548f0c79a52e5",
            "ab5ce167f0de4f12949b2bdf69e9205a",
            "e122fd0e80564406812f8ce12f836b31",
            "d8a1d878094f46bd8cdfec854ee2ffae",
            "4fedc9c90b794149bd2e981dadb2cf89",
            "c2f152af9612433d86db777ba642ecc3",
            "0e2a9922196a4a989595d769caa1dfc5",
            "f8ce38f990ca4872ac0f7616e5bfea46",
            "1e738f02662c4183bc8020f625edc070",
            "4a1e52505e724fcd8875d297bf0576d8",
            "752c73e8a3f6482faa8d24344bb29c07",
            "8d4ae36dbfa7430380a82753f880b307",
            "f192ce813b3147128f92227a248ae2b2",
            "33f4be354e614cf3bce2e95509ace9fb",
            "34b61d5ac87b43e9afd1c40dfe6297f9",
            "bc1cb9a841a046f6ba426881d2e4ac3a",
            "86e878edb88d4213b805a9d3be69c79c",
            "afbf4c7cb56b41e38dd1248695c94f0e",
            "d4b879fc8adb43459310cdc67b1cafa5",
            "a51667d2fd0f4b67816fd6109280143d",
            "31ed48a3c4b341d29b7b3e27bd81f351",
            "88a646260f3d47f39283518c0c885e75",
            "d8590700b8c14fa38ec628b7c45a2157",
            "9ebf5dff21bf4f29a9961151f72ab022",
            "fd03b13c82ca4350b1a275695aae2cec",
            "80cbb70af7cd450a868cb871da0874cc",
            "72981bb89a7b4239bed063a2109e1b08",
            "374b82f3281b48caa5bdf8434ca06ca8",
            "dc1244bf1fa14d83b9e98a1d217d1ed1",
            "b0cbf19ebd8f48d3b8b90da1dbd626dc",
            "49ffe073c9ba46d588f4a733d394d4d2",
            "adff7c9843fe41bd8c5f57542c40a2c3",
            "d281640f63bb4f8fa8a02612199b39a2",
            "92d059d2125545dfb4b01223ba347b21",
            "de87013baa7a46a7a5dda04fb00e310b",
            "13863c2f59d34e2198e45473fd4d348b",
            "074ac05626b0494ab4a5b5f7c820ce33",
            "aada0783d5bf4a3bbba3b21d9a2e09f3",
            "fe436d44eb3c48e8bc462b66d7a10ef0",
            "08c2fecc4f4c47d981ddcdfe04f5bea8",
            "6f89ed345a1a40e788e42505f75cec22",
            "abbe077f0e0c4ac984be21cb38441f9e",
            "1ada7fd5bee54bbea85b9ec4521a1752",
            "6e59937754344d7cade8927a8f1c3e74",
            "736f4856487746f4b782a1692de3d65a"
          ]
        },
        "outputId": "38ed9d96-90fb-4257-fbc4-aa2a6affbd9b"
      },
      "source": [
        "train_dataset = DeepLocDataset(split=\"train\", tokenizer_name=model_name, max_length=1024)\n",
        "val_dataset = DeepLocDataset(split=\"valid\", tokenizer_name=model_name, max_length=1024)\n",
        "test_dataset = DeepLocDataset(split=\"test\", tokenizer_name=model_name, max_length=1024)"
      ],
      "execution_count": 8,
      "outputs": [
        {
          "output_type": "display_data",
          "data": {
            "text/plain": [
              "dataset/deeploc_per_protein_train.csv:   0%|          | 0/7417223 [00:00<?, ?it/s]"
            ],
            "application/vnd.jupyter.widget-view+json": {
              "version_major": 2,
              "version_minor": 0,
              "model_id": "eb553ea470544af391d57e286a973b50"
            }
          },
          "metadata": {}
        },
        {
          "output_type": "display_data",
          "data": {
            "text/plain": [
              "dataset/deeploc_per_protein_test.csv:   0%|          | 0/2076681 [00:00<?, ?it/s]"
            ],
            "application/vnd.jupyter.widget-view+json": {
              "version_major": 2,
              "version_minor": 0,
              "model_id": "1db21018ddfa4d71a359bf69e94e2f13"
            }
          },
          "metadata": {}
        },
        {
          "output_type": "display_data",
          "data": {
            "text/plain": [
              "Downloading:   0%|          | 0.00/86.0 [00:00<?, ?B/s]"
            ],
            "application/vnd.jupyter.widget-view+json": {
              "version_major": 2,
              "version_minor": 0,
              "model_id": "ab5ce167f0de4f12949b2bdf69e9205a"
            }
          },
          "metadata": {}
        },
        {
          "output_type": "display_data",
          "data": {
            "text/plain": [
              "Downloading:   0%|          | 0.00/361 [00:00<?, ?B/s]"
            ],
            "application/vnd.jupyter.widget-view+json": {
              "version_major": 2,
              "version_minor": 0,
              "model_id": "f192ce813b3147128f92227a248ae2b2"
            }
          },
          "metadata": {}
        },
        {
          "output_type": "display_data",
          "data": {
            "text/plain": [
              "Downloading:   0%|          | 0.00/81.0 [00:00<?, ?B/s]"
            ],
            "application/vnd.jupyter.widget-view+json": {
              "version_major": 2,
              "version_minor": 0,
              "model_id": "9ebf5dff21bf4f29a9961151f72ab022"
            }
          },
          "metadata": {}
        },
        {
          "output_type": "display_data",
          "data": {
            "text/plain": [
              "Downloading:   0%|          | 0.00/112 [00:00<?, ?B/s]"
            ],
            "application/vnd.jupyter.widget-view+json": {
              "version_major": 2,
              "version_minor": 0,
              "model_id": "de87013baa7a46a7a5dda04fb00e310b"
            }
          },
          "metadata": {}
        }
      ]
    },
    {
      "cell_type": "markdown",
      "source": [
        "**4b. View datasets**"
      ],
      "metadata": {
        "id": "UvFba9m0ZCdA"
      }
    },
    {
      "cell_type": "code",
      "source": [
        "df = pd.read_csv('dataset/deeploc_per_protein_train.csv', sep='\\,')\n",
        "df.shape"
      ],
      "metadata": {
        "colab": {
          "base_uri": "https://localhost:8080/"
        },
        "id": "T6P510L_YpUd",
        "outputId": "a46304c2-dd34-40c1-da51-6314112c5225"
      },
      "execution_count": 9,
      "outputs": [
        {
          "output_type": "stream",
          "name": "stderr",
          "text": [
            "/usr/local/lib/python3.7/dist-packages/pandas/util/_decorators.py:311: ParserWarning: Falling back to the 'python' engine because the 'c' engine does not support regex separators (separators > 1 char and different from '\\s+' are interpreted as regex); you can avoid this warning by specifying engine='python'.\n",
            "  return func(*args, **kwargs)\n"
          ]
        },
        {
          "output_type": "execute_result",
          "data": {
            "text/plain": [
              "(6622, 3)"
            ]
          },
          "metadata": {},
          "execution_count": 9
        }
      ]
    },
    {
      "cell_type": "code",
      "source": [
        "df.input = df.input.str.replace(' ', '')\n",
        "df['seq_Len'] = df['input'].str.len()\n",
        "df.head()"
      ],
      "metadata": {
        "colab": {
          "base_uri": "https://localhost:8080/",
          "height": 270
        },
        "id": "2t6j1dY7YpgQ",
        "outputId": "21e3cb24-d073-43c9-e674-388a7cd48fe9"
      },
      "execution_count": 10,
      "outputs": [
        {
          "output_type": "execute_result",
          "data": {
            "text/plain": [
              "                                               input            loc  membrane  \\\n",
              "0  MMKTLSSGNCTLNVPAKNSYRMVVLGASRVGKSSIVSRFLNGRFED...  Cell.membrane         M   \n",
              "1  MAKRTFSNLETFLIFLLVMMSAITVALLSLLFITSGTIENHKDLGG...  Cell.membrane         M   \n",
              "2  MGNCQAGHNLHLCLAHHPPLVCATLILLLLGLSGLGLGSFLLTHRT...  Cell.membrane         M   \n",
              "3  MDPSKQGTLNRVENSVYRTAFKLRSVQTLCQLDLMDSFLIQQVLWR...  Cell.membrane         M   \n",
              "4  MLLAWVQAFLVSNMLLAEAYGSGGCFWDNGHLYREDQTSPAPGLRC...  Cell.membrane         M   \n",
              "\n",
              "   seq_Len  \n",
              "0      266  \n",
              "1      780  \n",
              "2      240  \n",
              "3      653  \n",
              "4      263  "
            ],
            "text/html": [
              "\n",
              "  <div id=\"df-d5a14146-dfaa-4c91-b3b9-b03130f8d0d5\">\n",
              "    <div class=\"colab-df-container\">\n",
              "      <div>\n",
              "<style scoped>\n",
              "    .dataframe tbody tr th:only-of-type {\n",
              "        vertical-align: middle;\n",
              "    }\n",
              "\n",
              "    .dataframe tbody tr th {\n",
              "        vertical-align: top;\n",
              "    }\n",
              "\n",
              "    .dataframe thead th {\n",
              "        text-align: right;\n",
              "    }\n",
              "</style>\n",
              "<table border=\"1\" class=\"dataframe\">\n",
              "  <thead>\n",
              "    <tr style=\"text-align: right;\">\n",
              "      <th></th>\n",
              "      <th>input</th>\n",
              "      <th>loc</th>\n",
              "      <th>membrane</th>\n",
              "      <th>seq_Len</th>\n",
              "    </tr>\n",
              "  </thead>\n",
              "  <tbody>\n",
              "    <tr>\n",
              "      <th>0</th>\n",
              "      <td>MMKTLSSGNCTLNVPAKNSYRMVVLGASRVGKSSIVSRFLNGRFED...</td>\n",
              "      <td>Cell.membrane</td>\n",
              "      <td>M</td>\n",
              "      <td>266</td>\n",
              "    </tr>\n",
              "    <tr>\n",
              "      <th>1</th>\n",
              "      <td>MAKRTFSNLETFLIFLLVMMSAITVALLSLLFITSGTIENHKDLGG...</td>\n",
              "      <td>Cell.membrane</td>\n",
              "      <td>M</td>\n",
              "      <td>780</td>\n",
              "    </tr>\n",
              "    <tr>\n",
              "      <th>2</th>\n",
              "      <td>MGNCQAGHNLHLCLAHHPPLVCATLILLLLGLSGLGLGSFLLTHRT...</td>\n",
              "      <td>Cell.membrane</td>\n",
              "      <td>M</td>\n",
              "      <td>240</td>\n",
              "    </tr>\n",
              "    <tr>\n",
              "      <th>3</th>\n",
              "      <td>MDPSKQGTLNRVENSVYRTAFKLRSVQTLCQLDLMDSFLIQQVLWR...</td>\n",
              "      <td>Cell.membrane</td>\n",
              "      <td>M</td>\n",
              "      <td>653</td>\n",
              "    </tr>\n",
              "    <tr>\n",
              "      <th>4</th>\n",
              "      <td>MLLAWVQAFLVSNMLLAEAYGSGGCFWDNGHLYREDQTSPAPGLRC...</td>\n",
              "      <td>Cell.membrane</td>\n",
              "      <td>M</td>\n",
              "      <td>263</td>\n",
              "    </tr>\n",
              "  </tbody>\n",
              "</table>\n",
              "</div>\n",
              "      <button class=\"colab-df-convert\" onclick=\"convertToInteractive('df-d5a14146-dfaa-4c91-b3b9-b03130f8d0d5')\"\n",
              "              title=\"Convert this dataframe to an interactive table.\"\n",
              "              style=\"display:none;\">\n",
              "        \n",
              "  <svg xmlns=\"http://www.w3.org/2000/svg\" height=\"24px\"viewBox=\"0 0 24 24\"\n",
              "       width=\"24px\">\n",
              "    <path d=\"M0 0h24v24H0V0z\" fill=\"none\"/>\n",
              "    <path d=\"M18.56 5.44l.94 2.06.94-2.06 2.06-.94-2.06-.94-.94-2.06-.94 2.06-2.06.94zm-11 1L8.5 8.5l.94-2.06 2.06-.94-2.06-.94L8.5 2.5l-.94 2.06-2.06.94zm10 10l.94 2.06.94-2.06 2.06-.94-2.06-.94-.94-2.06-.94 2.06-2.06.94z\"/><path d=\"M17.41 7.96l-1.37-1.37c-.4-.4-.92-.59-1.43-.59-.52 0-1.04.2-1.43.59L10.3 9.45l-7.72 7.72c-.78.78-.78 2.05 0 2.83L4 21.41c.39.39.9.59 1.41.59.51 0 1.02-.2 1.41-.59l7.78-7.78 2.81-2.81c.8-.78.8-2.07 0-2.86zM5.41 20L4 18.59l7.72-7.72 1.47 1.35L5.41 20z\"/>\n",
              "  </svg>\n",
              "      </button>\n",
              "      \n",
              "  <style>\n",
              "    .colab-df-container {\n",
              "      display:flex;\n",
              "      flex-wrap:wrap;\n",
              "      gap: 12px;\n",
              "    }\n",
              "\n",
              "    .colab-df-convert {\n",
              "      background-color: #E8F0FE;\n",
              "      border: none;\n",
              "      border-radius: 50%;\n",
              "      cursor: pointer;\n",
              "      display: none;\n",
              "      fill: #1967D2;\n",
              "      height: 32px;\n",
              "      padding: 0 0 0 0;\n",
              "      width: 32px;\n",
              "    }\n",
              "\n",
              "    .colab-df-convert:hover {\n",
              "      background-color: #E2EBFA;\n",
              "      box-shadow: 0px 1px 2px rgba(60, 64, 67, 0.3), 0px 1px 3px 1px rgba(60, 64, 67, 0.15);\n",
              "      fill: #174EA6;\n",
              "    }\n",
              "\n",
              "    [theme=dark] .colab-df-convert {\n",
              "      background-color: #3B4455;\n",
              "      fill: #D2E3FC;\n",
              "    }\n",
              "\n",
              "    [theme=dark] .colab-df-convert:hover {\n",
              "      background-color: #434B5C;\n",
              "      box-shadow: 0px 1px 3px 1px rgba(0, 0, 0, 0.15);\n",
              "      filter: drop-shadow(0px 1px 2px rgba(0, 0, 0, 0.3));\n",
              "      fill: #FFFFFF;\n",
              "    }\n",
              "  </style>\n",
              "\n",
              "      <script>\n",
              "        const buttonEl =\n",
              "          document.querySelector('#df-d5a14146-dfaa-4c91-b3b9-b03130f8d0d5 button.colab-df-convert');\n",
              "        buttonEl.style.display =\n",
              "          google.colab.kernel.accessAllowed ? 'block' : 'none';\n",
              "\n",
              "        async function convertToInteractive(key) {\n",
              "          const element = document.querySelector('#df-d5a14146-dfaa-4c91-b3b9-b03130f8d0d5');\n",
              "          const dataTable =\n",
              "            await google.colab.kernel.invokeFunction('convertToInteractive',\n",
              "                                                     [key], {});\n",
              "          if (!dataTable) return;\n",
              "\n",
              "          const docLinkHtml = 'Like what you see? Visit the ' +\n",
              "            '<a target=\"_blank\" href=https://colab.research.google.com/notebooks/data_table.ipynb>data table notebook</a>'\n",
              "            + ' to learn more about interactive tables.';\n",
              "          element.innerHTML = '';\n",
              "          dataTable['output_type'] = 'display_data';\n",
              "          await google.colab.output.renderOutput(dataTable, element);\n",
              "          const docLink = document.createElement('div');\n",
              "          docLink.innerHTML = docLinkHtml;\n",
              "          element.appendChild(docLink);\n",
              "        }\n",
              "      </script>\n",
              "    </div>\n",
              "  </div>\n",
              "  "
            ]
          },
          "metadata": {},
          "execution_count": 10
        }
      ]
    },
    {
      "cell_type": "code",
      "source": [
        "import seaborn as sns\n",
        "import matplotlib.pyplot as plt\n",
        "%matplotlib inline\n",
        "seq_len = df['seq_Len']\n",
        "\n",
        "sns.set_style('darkgrid')\n",
        "plt.figure(figsize=(10, 7))\n",
        "sns.distplot(seq_len, bins=200).set_xlim(0,1500)"
      ],
      "metadata": {
        "colab": {
          "base_uri": "https://localhost:8080/",
          "height": 520
        },
        "id": "a7qF1oidYppk",
        "outputId": "ffb0a733-c2cf-40a4-bea5-329f9a4a7285"
      },
      "execution_count": 12,
      "outputs": [
        {
          "output_type": "stream",
          "name": "stderr",
          "text": [
            "/usr/local/lib/python3.7/dist-packages/seaborn/distributions.py:2619: FutureWarning: `distplot` is a deprecated function and will be removed in a future version. Please adapt your code to use either `displot` (a figure-level function with similar flexibility) or `histplot` (an axes-level function for histograms).\n",
            "  warnings.warn(msg, FutureWarning)\n"
          ]
        },
        {
          "output_type": "execute_result",
          "data": {
            "text/plain": [
              "(0.0, 1500.0)"
            ]
          },
          "metadata": {},
          "execution_count": 12
        },
        {
          "output_type": "display_data",
          "data": {
            "text/plain": [
              "<Figure size 720x504 with 1 Axes>"
            ],
            "image/png": "[encoded data removed]"
          },
          "metadata": {}
        }
      ]
    },
    {
      "cell_type": "markdown",
      "metadata": {
        "id": "2bohJ1Q0j96d"
      },
      "source": [
        "**5. Define the evaluation metrics**"
      ]
    },
    {
      "cell_type": "code",
      "metadata": {
        "id": "5qk3FsCNwXI5"
      },
      "source": [
        "def compute_metrics(pred):\n",
        "    labels = pred.label_ids\n",
        "    preds = pred.predictions.argmax(-1)\n",
        "    precision, recall, f1, _ = precision_recall_fscore_support(labels, preds, average='binary')\n",
        "    acc = accuracy_score(labels, preds)\n",
        "    return {\n",
        "        'accuracy': acc,\n",
        "        'f1': f1,\n",
        "        'precision': precision,\n",
        "        'recall': recall\n",
        "    }"
      ],
      "execution_count": 13,
      "outputs": []
    },
    {
      "cell_type": "markdown",
      "metadata": {
        "id": "6xvsrC_sZsXi"
      },
      "source": [
        "**6. Create the model**"
      ]
    },
    {
      "cell_type": "code",
      "metadata": {
        "id": "IehYjQiaL5Y7"
      },
      "source": [
        "def model_init():\n",
        "  return AutoModelForSequenceClassification.from_pretrained(model_name)"
      ],
      "execution_count": 14,
      "outputs": []
    },
    {
      "cell_type": "markdown",
      "metadata": {
        "id": "PEsjG2MokLxv"
      },
      "source": [
        "**7. Define the training args and start the trainer**"
      ]
    },
    {
      "cell_type": "code",
      "metadata": {
        "id": "5HUyTT_Ctl25",
        "colab": {
          "base_uri": "https://localhost:8080/",
          "height": 1000,
          "referenced_widgets": [
            "546f3e3e8b37435a8e4aba885da5d35a",
            "2413e6f7db1c4bdbac91bc3a3031c75a",
            "09ac572af8cc47ca812546ae9935863b",
            "20886a25749c4257aeb2653d57a89996",
            "955f87b51e314273bad9815beef45043",
            "6f5be437364f4306b315e141864863a2",
            "8bb17abc58c24d32b46fc0b9a0341023",
            "135c375c4a854eebb323253e3c6100d9",
            "9f59b4f13d8a4ea5954638b8667e9f4f",
            "9e22021e42374722a7d64f6cdeb30579",
            "1d9f729c32ea4edabc1cd4a01a114323"
          ]
        },
        "outputId": "1461dd27-47cd-4640-e807-e2ada9e7d64c"
      },
      "source": [
        "training_args = TrainingArguments(\n",
        "    output_dir='./results',          # output directory\n",
        "    num_train_epochs=3,              # total number of training epochs\n",
        "    per_device_train_batch_size=1,   # batch size per device during training\n",
        "    per_device_eval_batch_size=32,   # batch size for evaluation\n",
        "    warmup_steps=1000,               # number of warmup steps for learning rate scheduler\n",
        "    weight_decay=0.01,               # strength of weight decay\n",
        "    logging_dir='./logs',            # directory for storing logs\n",
        "    logging_steps=200,               # How often to print logs\n",
        "    do_train=True,                   # Perform training\n",
        "    do_eval=True,                    # Perform evaluation\n",
        "    evaluation_strategy=\"epoch\",     # evalute after eachh epoch\n",
        "    gradient_accumulation_steps=64,  # total number of steps before back propagation\n",
        "    fp16=True,                       # Use mixed precision\n",
        "    fp16_opt_level=\"02\",             # mixed precision mode\n",
        "    run_name=\"ProBert-BFD-MS\",       # experiment name\n",
        "    seed=3                           # Seed for experiment reproducibility 3x3\n",
        ")\n",
        "\n",
        "trainer = Trainer(\n",
        "    model_init=model_init,                # the instantiated 🤗 Transformers model to be trained\n",
        "    args=training_args,                   # training arguments, defined above\n",
        "    train_dataset=train_dataset,          # training dataset\n",
        "    eval_dataset=val_dataset,             # evaluation dataset\n",
        "    compute_metrics = compute_metrics,    # evaluation metrics\n",
        ")\n",
        "\n",
        "trainer.train()"
      ],
      "execution_count": null,
      "outputs": [
        {
          "output_type": "stream",
          "name": "stderr",
          "text": [
            "loading configuration file https://huggingface.co/Rostlab/prot_bert_bfd/resolve/main/config.json from cache at /root/.cache/huggingface/transformers/67f460acc7e7e147ff828e909ffe419d00d66ce679c682bc4ab715c107bcbe41.baf557855a8618d0ddfb6c23bfd135bfc38ccf8c3fb099b8df45eb110ccf05e9\n",
            "Model config BertConfig {\n",
            "  \"_name_or_path\": \"Rostlab/prot_bert_bfd\",\n",
            "  \"architectures\": [\n",
            "    \"BertForMaskedLM\"\n",
            "  ],\n",
            "  \"attention_probs_dropout_prob\": 0.0,\n",
            "  \"classifier_dropout\": null,\n",
            "  \"hidden_act\": \"gelu\",\n",
            "  \"hidden_dropout_prob\": 0.0,\n",
            "  \"hidden_size\": 1024,\n",
            "  \"initializer_range\": 0.02,\n",
            "  \"intermediate_size\": 4096,\n",
            "  \"layer_norm_eps\": 1e-12,\n",
            "  \"max_position_embeddings\": 40000,\n",
            "  \"model_type\": \"bert\",\n",
            "  \"num_attention_heads\": 16,\n",
            "  \"num_hidden_layers\": 30,\n",
            "  \"pad_token_id\": 0,\n",
            "  \"position_embedding_type\": \"absolute\",\n",
            "  \"transformers_version\": \"4.17.0\",\n",
            "  \"type_vocab_size\": 2,\n",
            "  \"use_cache\": true,\n",
            "  \"vocab_size\": 30\n",
            "}\n",
            "\n",
            "https://huggingface.co/Rostlab/prot_bert_bfd/resolve/main/pytorch_model.bin not found in cache or force_download set to True, downloading to /root/.cache/huggingface/transformers/tmp7i5z6ius\n"
          ]
        },
        {
          "output_type": "display_data",
          "data": {
            "text/plain": [
              "Downloading:   0%|          | 0.00/1.57G [00:00<?, ?B/s]"
            ],
            "application/vnd.jupyter.widget-view+json": {
              "version_major": 2,
              "version_minor": 0,
              "model_id": "546f3e3e8b37435a8e4aba885da5d35a"
            }
          },
          "metadata": {}
        },
        {
          "output_type": "stream",
          "name": "stderr",
          "text": [
            "storing https://huggingface.co/Rostlab/prot_bert_bfd/resolve/main/pytorch_model.bin in cache at /root/.cache/huggingface/transformers/0a05878f9e3a0d39834dc6f21b88471696d7453a07bac7246152a6ef307c9af4.c5b9869da882baaf70e8e70cf32d81500803511e3220e24457115a03445fa65f\n",
            "creating metadata file for /root/.cache/huggingface/transformers/0a05878f9e3a0d39834dc6f21b88471696d7453a07bac7246152a6ef307c9af4.c5b9869da882baaf70e8e70cf32d81500803511e3220e24457115a03445fa65f\n",
            "loading weights file https://huggingface.co/Rostlab/prot_bert_bfd/resolve/main/pytorch_model.bin from cache at /root/.cache/huggingface/transformers/0a05878f9e3a0d39834dc6f21b88471696d7453a07bac7246152a6ef307c9af4.c5b9869da882baaf70e8e70cf32d81500803511e3220e24457115a03445fa65f\n",
            "Some weights of the model checkpoint at Rostlab/prot_bert_bfd were not used when initializing BertForSequenceClassification: ['cls.predictions.decoder.weight', 'cls.seq_relationship.weight', 'cls.predictions.transform.dense.bias', 'cls.predictions.decoder.bias', 'cls.predictions.bias', 'cls.predictions.transform.LayerNorm.bias', 'cls.predictions.transform.LayerNorm.weight', 'cls.predictions.transform.dense.weight', 'cls.seq_relationship.bias']\n",
            "- This IS expected if you are initializing BertForSequenceClassification from the checkpoint of a model trained on another task or with another architecture (e.g. initializing a BertForSequenceClassification model from a BertForPreTraining model).\n",
            "- This IS NOT expected if you are initializing BertForSequenceClassification from the checkpoint of a model that you expect to be exactly identical (initializing a BertForSequenceClassification model from a BertForSequenceClassification model).\n",
            "Some weights of BertForSequenceClassification were not initialized from the model checkpoint at Rostlab/prot_bert_bfd and are newly initialized: ['classifier.weight', 'classifier.bias']\n",
            "You should probably TRAIN this model on a down-stream task to be able to use it for predictions and inference.\n",
            "Using amp half precision backend\n",
            "loading configuration file https://huggingface.co/Rostlab/prot_bert_bfd/resolve/main/config.json from cache at /root/.cache/huggingface/transformers/67f460acc7e7e147ff828e909ffe419d00d66ce679c682bc4ab715c107bcbe41.baf557855a8618d0ddfb6c23bfd135bfc38ccf8c3fb099b8df45eb110ccf05e9\n",
            "Model config BertConfig {\n",
            "  \"_name_or_path\": \"Rostlab/prot_bert_bfd\",\n",
            "  \"architectures\": [\n",
            "    \"BertForMaskedLM\"\n",
            "  ],\n",
            "  \"attention_probs_dropout_prob\": 0.0,\n",
            "  \"classifier_dropout\": null,\n",
            "  \"hidden_act\": \"gelu\",\n",
            "  \"hidden_dropout_prob\": 0.0,\n",
            "  \"hidden_size\": 1024,\n",
            "  \"initializer_range\": 0.02,\n",
            "  \"intermediate_size\": 4096,\n",
            "  \"layer_norm_eps\": 1e-12,\n",
            "  \"max_position_embeddings\": 40000,\n",
            "  \"model_type\": \"bert\",\n",
            "  \"num_attention_heads\": 16,\n",
            "  \"num_hidden_layers\": 30,\n",
            "  \"pad_token_id\": 0,\n",
            "  \"position_embedding_type\": \"absolute\",\n",
            "  \"transformers_version\": \"4.17.0\",\n",
            "  \"type_vocab_size\": 2,\n",
            "  \"use_cache\": true,\n",
            "  \"vocab_size\": 30\n",
            "}\n",
            "\n",
            "loading weights file https://huggingface.co/Rostlab/prot_bert_bfd/resolve/main/pytorch_model.bin from cache at /root/.cache/huggingface/transformers/0a05878f9e3a0d39834dc6f21b88471696d7453a07bac7246152a6ef307c9af4.c5b9869da882baaf70e8e70cf32d81500803511e3220e24457115a03445fa65f\n",
            "Some weights of the model checkpoint at Rostlab/prot_bert_bfd were not used when initializing BertForSequenceClassification: ['cls.predictions.decoder.weight', 'cls.seq_relationship.weight', 'cls.predictions.transform.dense.bias', 'cls.predictions.decoder.bias', 'cls.predictions.bias', 'cls.predictions.transform.LayerNorm.bias', 'cls.predictions.transform.LayerNorm.weight', 'cls.predictions.transform.dense.weight', 'cls.seq_relationship.bias']\n",
            "- This IS expected if you are initializing BertForSequenceClassification from the checkpoint of a model trained on another task or with another architecture (e.g. initializing a BertForSequenceClassification model from a BertForPreTraining model).\n",
            "- This IS NOT expected if you are initializing BertForSequenceClassification from the checkpoint of a model that you expect to be exactly identical (initializing a BertForSequenceClassification model from a BertForSequenceClassification model).\n",
            "Some weights of BertForSequenceClassification were not initialized from the model checkpoint at Rostlab/prot_bert_bfd and are newly initialized: ['classifier.weight', 'classifier.bias']\n",
            "You should probably TRAIN this model on a down-stream task to be able to use it for predictions and inference.\n",
            "/usr/local/lib/python3.7/dist-packages/transformers/optimization.py:309: FutureWarning: This implementation of AdamW is deprecated and will be removed in a future version. Use the PyTorch implementation torch.optim.AdamW instead, or set `no_deprecation_warning=True` to disable this warning\n",
            "  FutureWarning,\n",
            "***** Running training *****\n",
            "  Num examples = 3745\n",
            "  Num Epochs = 3\n",
            "  Instantaneous batch size per device = 1\n",
            "  Total train batch size (w. parallel, distributed & accumulation) = 64\n",
            "  Gradient Accumulation steps = 64\n",
            "  Total optimization steps = 174\n"
          ]
        },
        {
          "output_type": "display_data",
          "data": {
            "text/plain": [
              "<IPython.core.display.HTML object>"
            ],
            "text/html": [
              "\n",
              "    <div>\n",
              "      \n",
              "      <progress value='82' max='174' style='width:300px; height:20px; vertical-align: middle;'></progress>\n",
              "      [ 82/174 52:13 < 1:00:03, 0.03 it/s, Epoch 1.39/3]\n",
              "    </div>\n",
              "    <table border=\"1\" class=\"dataframe\">\n",
              "  <thead>\n",
              " <tr style=\"text-align: left;\">\n",
              "      <th>Epoch</th>\n",
              "      <th>Training Loss</th>\n",
              "      <th>Validation Loss</th>\n",
              "      <th>Accuracy</th>\n",
              "      <th>F1</th>\n",
              "      <th>Precision</th>\n",
              "      <th>Recall</th>\n",
              "    </tr>\n",
              "  </thead>\n",
              "  <tbody>\n",
              "    <tr>\n",
              "      <td>0</td>\n",
              "      <td>No log</td>\n",
              "      <td>0.701551</td>\n",
              "      <td>0.409384</td>\n",
              "      <td>0.580940</td>\n",
              "      <td>0.409384</td>\n",
              "      <td>1.000000</td>\n",
              "    </tr>\n",
              "  </tbody>\n",
              "</table><p>"
            ]
          },
          "metadata": {}
        },
        {
          "output_type": "stream",
          "name": "stderr",
          "text": [
            "***** Running Evaluation *****\n",
            "  Num examples = 1087\n",
            "  Batch size = 32\n"
          ]
        }
      ]
    },
    {
      "cell_type": "markdown",
      "metadata": {
        "id": "9Z_zyryPZz7S"
      },
      "source": [
        "**8. Save the model**"
      ]
    },
    {
      "cell_type": "code",
      "metadata": {
        "id": "KSu9fJyzZ3rA",
        "colab": {
          "base_uri": "https://localhost:8080/"
        },
        "outputId": "00df6548-f886-4224-80e6-19b509ea556f"
      },
      "source": [
        "trainer.save_model('models/')"
      ],
      "execution_count": 10,
      "outputs": [
        {
          "output_type": "stream",
          "name": "stderr",
          "text": [
            "Saving model checkpoint to models/\n",
            "Configuration saved in models/config.json\n",
            "Model weights saved in models/pytorch_model.bin\n"
          ]
        }
      ]
    },
    {
      "cell_type": "markdown",
      "metadata": {
        "id": "1QlXleAEk38K"
      },
      "source": [
        "**9. Check Tensorboard**"
      ]
    },
    {
      "cell_type": "code",
      "metadata": {
        "id": "y1_6MBL3k7L9",
        "colab": {
          "base_uri": "https://localhost:8080/",
          "height": 895
        },
        "outputId": "135aa959-6e88-4150-8222-522efffbd5a4"
      },
      "source": [
        "%load_ext tensorboard\n",
        "%tensorboard --logdir logs"
      ],
      "execution_count": 89,
      "outputs": [
        {
          "output_type": "stream",
          "name": "stdout",
          "text": [
            "The tensorboard extension is already loaded. To reload it, use:\n",
            "  %reload_ext tensorboard\n"
          ]
        },
        {
          "output_type": "display_data",
          "data": {
            "text/plain": [
              "Reusing TensorBoard on port 6006 (pid 3029), started 0:00:11 ago. (Use '!kill 3029' to kill it.)"
            ]
          },
          "metadata": {}
        },
        {
          "output_type": "display_data",
          "data": {
            "text/plain": [
              "<IPython.core.display.Javascript object>"
            ],
            "application/javascript": [
              "\n",
              "        (async () => {\n",
              "            const url = new URL(await google.colab.kernel.proxyPort(6006, {'cache': true}));\n",
              "            url.searchParams.set('tensorboardColab', 'true');\n",
              "            const iframe = document.createElement('iframe');\n",
              "            iframe.src = url;\n",
              "            iframe.setAttribute('width', '100%');\n",
              "            iframe.setAttribute('height', '800');\n",
              "            iframe.setAttribute('frameborder', 0);\n",
              "            document.body.appendChild(iframe);\n",
              "        })();\n",
              "    "
            ]
          },
          "metadata": {}
        }
      ]
    },
    {
      "cell_type": "code",
      "source": [
        "!pwd"
      ],
      "metadata": {
        "id": "fRjxd2Rr_6bj"
      },
      "execution_count": null,
      "outputs": []
    },
    {
      "cell_type": "markdown",
      "metadata": {
        "id": "gxwUx9LDZ4N3"
      },
      "source": [
        "**10. Make predictions**"
      ]
    },
    {
      "cell_type": "code",
      "metadata": {
        "id": "B4lzbOtCFemF",
        "colab": {
          "base_uri": "https://localhost:8080/",
          "height": 92
        },
        "outputId": "c4502e9f-f26d-4f37-9093-b31e89eca039"
      },
      "source": [
        "predictions, label_ids, metrics = trainer.predict(test_dataset)"
      ],
      "execution_count": 15,
      "outputs": [
        {
          "output_type": "stream",
          "name": "stderr",
          "text": [
            "***** Running Prediction *****\n",
            "  Num examples = 1087\n",
            "  Batch size = 32\n"
          ]
        },
        {
          "output_type": "display_data",
          "data": {
            "text/plain": [
              "<IPython.core.display.HTML object>"
            ],
            "text/html": [
              "\n",
              "    <div>\n",
              "      \n",
              "      <progress value='34' max='34' style='width:300px; height:20px; vertical-align: middle;'></progress>\n",
              "      [34/34 03:25]\n",
              "    </div>\n",
              "    "
            ]
          },
          "metadata": {}
        }
      ]
    },
    {
      "cell_type": "code",
      "metadata": {
        "id": "bVdXX0bJYE7k",
        "colab": {
          "base_uri": "https://localhost:8080/"
        },
        "outputId": "5fd77336-5bd8-431c-bd98-ff6e2bef239c"
      },
      "source": [
        "for idx in range (0, 10):\n",
        "  sample_ground_truth = test_dataset.labels_dic[int(test_dataset[idx]['labels'])]\n",
        "  sample_predictions =  test_dataset.labels_dic[np.argmax(predictions[idx], axis=0)]\n",
        "  sample_sequence = test_dataset.tokenizer.decode(test_dataset[idx]['input_ids'], skip_special_tokens=True)\n",
        "  print(\"Sequence: {} \\n\\tGround Truth is: {}\\n\\tprediction is: {}\".format(sample_sequence,\n",
        "                                                                      sample_ground_truth,\n",
        "                                                                      sample_predictions))"
      ],
      "execution_count": 32,
      "outputs": [
        {
          "output_type": "stream",
          "name": "stdout",
          "text": [
            "Sequence: M G L P V S W A P P A L W V L G C C A L L L S L W A L C T A C R R P E D A V A P R K R A R R Q R A R L Q G S A T A A E A S L L R R T H L C S L S K S D T R L H E L H R G P R S S R A L R P A S M D L L R P H W L E V S R D I T G P Q A A P S A F P H Q E L P R A L P A A A A T A G C A G L E A T Y S N V G L A A L P G V S L A A S P V V A E Y A R V Q K R K G T H R S P Q E P Q Q G K T E V T P A A Q V D V L Y S R V C K P K R R D P G P T T D P L D P K G Q G A I L A L A G D L A Y Q T L P L R A L D V D S G P L E N V Y E S I R E L G D P A G R S S T C G A G T P P A S S C P S L G R G W R P L P A S L P \n",
            "\tGround Truth is: Membrane\n",
            "\tprediction is: Membrane\n",
            "Sequence: M H S R L K F L A Y L H F I C A S S I F W P E F S S A Q Q Q Q Q T V S L T E K I P L G A I F E Q G T D D V Q S A F K Y A M L N H N L N V S S R R F E L Q A Y V D V I N T A D A F K L S R L I C N Q F S R G V Y S M L G A V S P D S F D T L H S Y S N T F Q M P F V T P W F P E K V L A P S S G L L D F A I S M R P D Y H Q A I I D T I Q Y Y G W Q S I I Y L Y D S H D G L L R L Q Q I Y Q E L K P G N E T F R V Q M V K R I A N V T M A I E F L H T L E D L G R F S K K R I V L D C P A E M A K E I I V Q H V R D I K L G R R T Y H Y L L S G L V M D N H W P S D V V E F G A I N I T G F R I V D S N R R A V R D F H D S R K R L E P S G Q S Q S Q N A G G P N S L P A I S A Q A A L M Y D A V F V L V E A F N R I L R K K P D Q F R S N H L Q R R S H G G S S S S S A T G T N E S S A L L D C N T S K G W V T P W E Q G E K I S R V L R K V E I D G L S G E I R F D E D G R R I N Y T L H V V E M S V N S T L Q Q V A E W R D D A G L L P L H S H N Y A S S S R S A S A S T G D Y D R N H T Y I V S S L L E E P Y L S L K Q Y T Y G E S L V G N D R F E G Y C K D L A D M L A A Q L G I K Y E I R L V Q D G N Y G A E N Q Y A P G G W D G M V G E L I R K E A D I A I S A M T I T A E R E R V I D F S K P F M T L G I S I M I K K P V K Q T P G V F S F L N P L S Q E I W I S V I L S Y V G V S F V L Y F V T R F P P Y E W R I V R R P Q A D S T A Q Q P P G I I G G A T L S E P Q A H V P P V P P N E F T M L N S F W Y S L A A F M Q Q G C D I T P P S I A G R I A A A V W W F F T I I L I S S Y T A N L A A F L T V E R M V A P I K T P E D L T M Q T D V N Y G T L L Y G S T W E F F R R S Q I G L H N K M W E Y M N A N Q H H S V H T Y D E G I R R V R Q S K G K Y A L L V E S P K N E Y V N A R P P C D T M K V G R N I D T K G F G V A T P I G S P L R K R L N E A V L T L K E N G E L L R I R N K W W F D K T E C N L D Q E T S T P N E L S L S N V A G I Y Y I L I G G L L L A V I V A I M E F F C R N K T P Q L K S P G S N G S A G G V P G M L A S S T Y Q R D S L S D A I M H S Q A K L A M Q A S S E Y D E R L V G V E L A S N V R Y Q Y S M \n",
            "\tGround Truth is: Membrane\n",
            "\tprediction is: Membrane\n",
            "Sequence: M V F S Y A C M V L Q R I V V P A V L V L A A L M R P V G I S F V Y L L M F F V S P F V P L A T R R N F K G S V T A F F I I L L T L S T L V L L G H I T L Q I L A V S L T L P I Y N C S F S E R L L R H I G F V S F I D L Q P F A I I E W L V P E V L V F A T S L G S Y L T V K R V A S Q P V G A E Q L E N G E V V D G Q A E N A Q T S S Q P S A A D A N G G D V Q Q A T V T T P L Q Q Q Q Q Q L R K R V S M I S Q H I H F E G L V K I S P L F C L A T L F F A A V L R P S V P G G F Y F L I F L L S G T Y W A T C Q T L Q R G F A L L L R C V M V V L V L H S L S I V S Y Q T P W M Q S H L N H T T L T A R L I G L E P L I E S Y C S P D I R V F L Y N N K L S L D S Y L N P F A L F F A Y F A L A L T T K H L I K P R L V R Q S T R K A R T P Q P L E S G S S V A P S V T Q R G N D M Q L E S M E Q R S E Q E N T T T S I L D Q I S Y G F V S V G G F I Y Q N S Y I F T N I L M M A W S I V Y H S W L T F V L L L S A N V L W M I P N Q R K A M M R S S P F I V L Y A E A L L I A Q Y I Y G M D L N N E E L P T S V P T A G I N L Q Q I G F E R P I E N Q M R P C V P L I V K T A F V L M F W V T S R Q F F K E K R D R R R D S T L A D F I A P L Q I T V G S A G S S Y L I N D G K K T S K F L K K A G D V I K N L L V R L W I W L L V L V I F L C A I T G E N M T G F R I C Y M A L F L F F L L V F Q S S S K A W V K I M Y G F W L F L I F Y A M S I L I L I Y T Y Q F D K F D T Y W S D Y L N V S A T L Q K D I G L K R Y Q T K D L F L H L V S P T I I V I L T V I Q V H Y F H K R F I A S L Q Q Q P L A G G S A Q Q K P T E T T A L E P A P S K R R G S A G S L R K S Q G P S A E A A P G A T T D F E T S V R D L V R I S F R K I K N K S E Y I F K N F K D V F W R F L E L H I M K A V Y I A A F V C S V S E V C V L H I I F V G F C V L G A T S R K A V Q V V I S R L I S F I V T V I V L S K M I Y Q I E Y L S H S Q H N V V C S D N R T A N N A E W I G L T K A D K V T G G L M S L L R T Y I I Y M V I V T M H A V I S L R Q L Q M R V K I G A L N A P P T K L L F P N I I R A D A E K D L V G L V K Y L L N F G F Y K F G I E I S L I A L V S T I T Y R Q D I V A V V Y A L W L V V L L L L R R S Q C A K I \n",
            "\tGround Truth is: Membrane\n",
            "\tprediction is: Membrane\n",
            "Sequence: M D F L R L Y L P G L H Q A L R G A L D S L G T F V S Y L L G D A V P T V E R E A Q A A E E L G V V A V G K T G K I V E E E A Q E D L E G L R G S Q N E G A G R L R G P G D D R R H E V G S S A V E Q T W G W G D G S S H G S Q A E R Q D S G A G E T A K A A R C Q E P S A H L E A R K K S K A G S G A C Q D R S G Q A Q E R Q E S H E Q E V N R E E R L R S W E Q E E E E E E V R A R E P G M A R G A E S E W T W H G E T E G K A G A V G P K A A G D N R E M E Q G V R E A D A G E T E E P G A E G A G K G E E V V V V E K A C E S T R A W G T W G P G A E P E D W G I L G R E E A R T T P G R E E A R A I L D G E E A R T I S G G E E A E T A S G G E E A E T A S G G E E A G T A S G G E E A G I A S G G E A G T A S G G E E A G T A S G G D E A W T T S G K E E A D L L G V R Q T E Y G A V P G E R L L E A T G K V W V L E E E G D E E R E A E V S P F P K Q P Q V L G T E R T E E A A E S Q T A G R E A V G G Q E A G E S F E G Q V D L R G K E A E M R Q D L G I R A D R A R M E E L V Q A E E A Q E E R G S S R D P V A E L P S D G E A E G T A D L E A T P E A R P E E E L T G E E S E A A Q T S C G L L G V E W G G L T H S V T K G Q G P E L M G G A Q T P T K Q P E E R E A G E V E L M G V L A L S K E E Q E R S L E A G P R H A G S V K P E A S E A F P G A W E N R T R K D M E R G N T Q E D A A D G E Q R E E E E T A G G Q T L A A E A E G D R E S E L S E V P E A G G E G L T T Q D A G C G T E E G E A S V S E N Q E L D G S T G A D A G P C P S L G E A Y A R E T E D E E A E A D R T S R R G W R L Q A V A V G L P D R E D A Q T G S V A A G I M G G D V V P H I S A A G A G E A L E G V L G Q G W D S K E K E E A A A G E H A G G Q E F G L E G S A E E E V T G R G S Q V E A F E S R E G G P W G G R V E A E E S A G A E D S C G L D P A G S Q T A R A E G M G A M V E A G G L L E K W T L L E E E A V G W Q E R E Q R E D S E G R C G D Y H P E G E A P R L L D A E G L M V T G G R R A E A K E T E P E S L E H V R G Q E E Q P T H Q A P A E A A P E S V G E A E T A E A M G S A R G G A A N S W S E A P L P G S L L D V S V P R S R V H L S R S S S Q R R S R P S F R R T P A W E Q Q E E P P A \n",
            "\tGround Truth is: Membrane\n",
            "\tprediction is: Soluble\n",
            "Sequence: M N Q V T I Q W D A V I A L Y I L F S W C H G G I T N I N C S G H I W V E P A T I F K M G M N I S I Y C Q A A I K N C Q P R K L H F Y K N G I K E R F Q I T R I N K T T A R L W Y K N F L E P H A S M Y C T A E C P K H F Q E T L I C G K D I S S G Y P P D I P D E V T C V I Y E Y S G N M T C T W N A G K L T Y I D T K Y V V H V K S L E T E E E Q Q Y L T S S Y I N I S T D S L Q G G K K Y L V W V Q A A N A L G M E E S K Q L Q I H L D D I V I P S A A V I S R A E T I N A T V P K T I I Y W D S Q T T I E K V S C E M R Y K A T T N Q T W N V K E F D T N F T Y V Q Q S E F Y L E P N I K Y V F Q V R C Q E T G K R Y W Q P W S S L F F H K T P E T V P Q V T S K A F Q H D T W N S G L T V A S I S T G H L T S D N R G D I G L L L G M I V F A V M L S I L S L I G I F N R S F R T G I K R R I L L L I P K W L Y E D I P N M K N S N V V K M L Q E N S E L M N N N S S E Q V L Y V D P M I T E I K E I F I P E H K P T D Y K K E N T G P L E T R D Y P Q N S L F D N T T V V Y I P D L N T G Y K P Q I S N F L P E G S H L S N N N E I T S L T L K P P V D S L D S G N N P R L Q K H P N F A F S V S S V N S L S N T I F L G E L S L I L N Q G E C S S P D I Q N S V E E E T T M L L E N D S P S E T I P E Q T L L P D E F V S C L G I V N E E L P S I N T Y F P Q N I L E S H F N R I S L L E K \n",
            "\tGround Truth is: Membrane\n",
            "\tprediction is: Membrane\n",
            "Sequence: M L R V V V E S A S I N P P L S T T P K A F V T V Y F R D M M K R T R V E E G H D P I W N E T L I W H L W N Q P L E N D S F L K V I L Q D S V S K K K E R F I G L A T V P L K R L A Q R P K E V M F V R D L I L L N H S M K P T N C T V T L H V A Q I Y D Q D T E M T G N E E L L G S T V N E V T Q K K L M V S G L P M H R A L A S K P Q H F Q V R V K V F E A R Q L L G N N I K P V V K V N I A D Q Q H L T R I K M G N N P F F N E I F F Q N F H E V P A K F F E E N I S I E V V D S A A S R S K A E I G R F Q T D I G F I Y H S P G H T L L R K W L G L C Q R N K T T S G V R G Y L K V T I C A L G V G D Q A L V D Q K L P Y E Q N T R V Q I F K S K E V P V S L A Y L Q F F I Y C A E D L H F G T H K S A T P V L E V E L I G D K L R T K P Q N P S D N P I W N Q I L T F Q I Q L P C L S S Y I K F R V M D C S K Y K C Q D E I G S A S L C L S Q I S S T G E E I Q G M Y S G F L P C F G P S F L T L R G G K K P P F R T S E E G T C I M D A V Q H G L A Y R G R I F V E I V T K I K S Q Q D S V M K D L S Q E V T Q V E M Q Y Y R Q K Y G L C V I F L S C T M M P K F K D L I Q F E V S M G H Y G N K T D P N Y K P L V S T T Q Y S P V I Y D G T T Y H Y V P W Y N T K P V V A V T S N W E D V G F R M N C L N L L H I T R D R L K T N L D I L K S I R N P R D P A L L Q Q W E K L L K E L Q E D C R R P L P C M T D Q P R A N S L D R N K W Q L R S Q L L Q Q L A Q M A K E A K P V N M V G T A K E W L H R L N A V I P E P Q E S L P D V L I W L M S R Q Q R V A Y A R V P A H T V L F S P A G P L S S G K F C G K I Q N I L L Q Y P E G E G Q D T F P A S L R V C M W L G N V K Y S K N L K L L Q Q G S M V V Y A E T Y E N Q A K T R D D W G Q Q G L Y H C P N F S D V M G R K A L P K T D F K A P P G W H W K D D W V V E P Q R R L L L D I D I N K S Q V L E E V Y E N Q L R N A T G A W V P A A I P N T D V N G Q P V E A L E N V K C P Q G W H F K K N W I V K L N H A V D S E G W E Y G V G I P P S G L P Q I W N S V E K T Y H S C R R R R W V R V R F R N H K E L G Q E R S Q E Q E T L S F L Q M Q D L S E E G K E G W E Y G T F D S R F H L D P Q P T S R F R R R C W H R Q L A P N K D R G V A S I F \n",
            "\tGround Truth is: Membrane\n",
            "\tprediction is: Soluble\n",
            "Sequence: M L R G T M T A W R G M R P E V T L A C L L L A T A G C F A D L N E V P Q V T V Q P A S T V Q K P G G T V I L G C V V E P P R M N V T W R L N G K E L N G S D D A L G V L I T H G T L V I T A L N N H T V G R Y Q C V A R M P A G A V A S V P A T V T L A N L Q D F K L D V Q H V I E V D E G N T A V I A C H L P E S H P K A Q V R Y S V K Q E W L E A S R G N Y L I M P S G N L Q I V N A S Q E D E G M Y K C A A Y N P V T Q E V K T S G S S D R L R V R R S T A E A A R I I Y P P E A Q T I I V T K G Q S L I L E C V A S G I P P P R V T W A K D G S S V T G Y N K T R F L L S N L L I D T T S E E D S G T Y R C M A D N G V G Q P G A A V I L Y N V Q V F E P P E V T M E L S Q L V I P W G Q S A K L T C E V R G N P P P S V L W L R N A V P L I S S Q R L R L S R R A L R V L S M G P E D E G V Y Q C M A E N E V G S A H A V V Q L R T S R P S I T P R L W Q D A E L A T G T P P V S P S K L G N P E Q M L R G Q P A L P R P P T S V G P A S P Q C P G E K G Q G A P A E A P I I L S S P R T S K T D S Y E L V W R P R H E G S G R A P I L Y Y V V K H R K V T N S S D D W T I S G I P A N Q H R L T L T R L D P G S L Y E V E M A A Y N C A G E G Q T A M V T F R T G R R P K P E I M A S K E Q Q I Q R D D P G A S P Q S S S Q P D H G R L S P P E A P D R P T I S T A S E T S V Y V T W I P R G N G G F P I Q S F R V E Y K K L K K V G D W I L A T S A I P P S R L S V E I T G L E K G T S Y K F R V R A L N M L G E S E P S A P S R P Y V V S G Y S G R V Y E R P V A G P Y I T F T D A V N E T T I M L K W M Y I P A S N N N T P I H G F Y I Y Y R P T D S D N D S D Y K K D M V E G D K Y W H S I S H L Q P E T S Y D I K M Q C F N E G G E S E F S N V M I C E T K A R K S S G Q P G R L P P P T L A P P Q P P L P E T I E R P V G T G A M V A R S S D L P Y L I V G V V L G S I V L I I V T F I P F C L W R A W S K Q K H T T D L G F P R S A L P P S C P Y T M V P L G G L P G H Q A S G Q P Y L S G I S G R A C A N G I H M N R G C P S A A V G Y P G M K P Q Q H C P G E L Q Q Q S D T S S L L R Q T H L G N G Y D P Q S H Q I T R G P K S S P D E G S F L Y T L P D D S T H Q L L Q P H H D C C Q R Q \n",
            "\tGround Truth is: Membrane\n",
            "\tprediction is: Membrane\n",
            "Sequence: M V S N F F H V I Q V F E K S A T L I S K T E H I G F V I Y S W R K S T T H L G S R R K F A I S I Y L S E V S L Q K Y D C P F S G T S F V V F S L F L I C A M A G D V V Y A D I K T V R T S P L E L A F P L Q R S V S F N F S T V H K S C P A K D W K V H K G K C Y W I A E T K K S W N K S Q N D C A I N N S Y L M V I Q D I T A M V R F N I \n",
            "\tGround Truth is: Membrane\n",
            "\tprediction is: Soluble\n",
            "Sequence: M A R A K L P R S P S E G K A G P G D T P A G S A A P E E P H G L S P L L P T R G G G S V G S D V G Q R L H V E D F S L D S S L S Q V Q V E F Y V N E N T F K E R L K L F F I K N Q R S S L R I R L F N F S L K L L T C L L Y I V R V L L D N P D Q G I G C W G C T K Y N Y T F N G S S S E F H W A P I L W V E R K M A L W V I Q V I V A T I S F L E T M L L I Y L S Y K G N I W E Q I F H V S F V L E M I N T L P F I I T V F W P P L R N L F I P V F L N C W L A K H A L E N M I N D F H R A I L R T Q S A M F N Q V L I L F C T L L C L V F T G T C G I Q H L E R A G G N L N L L T S F Y F C I V T F S T V G F G D V T P K I W P S Q L L V V I L I C V T L V V L P L Q F E E L V Y L W M E R Q K S G G N Y S R H R A R T E K H V V L C V S S L K I D L L M D F L N E F Y A H P R L Q D Y Y V V I L C P S E M D V Q V R R V L Q I P L W S Q R V I Y L Q G S A L K D Q D L M R A K M D N G E A C F I L S S R N E V D R T A A D H Q T I L R A W A V K D F A P N C P L Y V Q I L K P E N K F H V K F A D H V V C E E E C K Y A M L A L N C I C P A T S T L I T L L V H T S R G Q E G Q E S P E Q W Q R M Y G R C S G N E V Y H I R M G D S K F F R E Y E G K S F T Y A A F H A H K K Y G V C L I G L K R E E N K S I L L N P G P R H I L A A S D T C F Y I N I T K E E N S A F I F K Q E E K Q N R R G L A G Q A L Y E G P S R L P V H S I I A S M V A M D L Q N T D C R P S Q G G S G G G G G K L T L P T E N G S G S R R P S I A P V L E L A D S S A L L P C D L L S D Q S E D E V T P S D D E G L S V V E Y V K G Y P P N S P Y I G S S P T L C H L L P V K A P F C C L R L D K G C K H N S Y E D A K A Y G F K N K L I I V S A E T A G N G L Y N F I V P L R A Y Y R S R R E L N P I V L L L D N K P D H H F L E A I C C F P M V Y Y M E G S V D N L D S L L Q C G I I Y A D N L V V V D K E S T M S A E E D Y M A D A K T I V N V Q T M F R L F P S L S I T T E L T H P S N M R F M Q F R A K D S Y S L A L S K L E K Q E R E N G S N L A F M F R L P F A A G R V F S I S M L D T L L Y Q S F V K D Y M I T I T R L L L G L D T T P G S G Y L C A M K V T E D D L W I R T Y G R L F Q K L C S S S A E I P I G I Y R T \n",
            "\tGround Truth is: Membrane\n",
            "\tprediction is: Membrane\n",
            "Sequence: M Q S G T H W R V L G L C L L S V G V W G Q D G N E E M G G I T Q T P Y K V S I S G T T V I L T C P Q Y P G S E I L W Q H N D K N I G G D E D D K N I G S D E D H L S L K E F S E L E Q S G Y Y V C Y P R G S K P E D A N F Y L Y L R A R V C E N C M E M D V M S V A T I V I V D I C I T G G L L L L V Y Y W S K N R K A K A K P V T R G A G A G G R Q R G Q N K E R P P P V P N P D Y E P I R K G Q R D L Y S G L N Q R R I \n",
            "\tGround Truth is: Membrane\n",
            "\tprediction is: Membrane\n"
          ]
        }
      ]
    }
  ]
}